{
 "cells": [
  {
   "cell_type": "markdown",
   "id": "d436e4cf-05f7-4b64-bc28-5a6851e4e7b4",
   "metadata": {},
   "source": [
    "# DSDBAL ASSIGNMENT NO. 3\n",
    "\n",
    "Descriptive Statistics - Measures of Central Tendency and variability\r\n",
    "Perform the following operations on any open-source dataset (e.g., data.csv)\r\n",
    "1. Provide summary statistics (mean, median, minimum, maximum, standard deviation) for a\r\n",
    "dataset (age, income etc.) with numeric variables grouped by one of the qualitative\r\n",
    "(categorical) variable. For example, if your categorical variable is age groups and\r\n",
    "quantitative variable is income, then provide summary statistics of income grouped by the\r\n",
    "age groups. Create a list that contains a numeric value for each response to the categoriri\r\n",
    "va\n",
    "r3able.\r\n",
    "2. Write a Python program to display some basic statistical details like percentile, mean,\r\n",
    "standard deviation etc. of the species of ‘Iris-setosa’, ‘Iris-versicolor’ and ‘Iris- versicolor’ of\r\n",
    "iris.csv dataset."
   ]
  },
  {
   "cell_type": "markdown",
   "id": "1d7799f8-921d-4bcd-a0c3-fe43d5d21433",
   "metadata": {},
   "source": [
    "## 1. Importing all the required Python Libraries."
   ]
  },
  {
   "cell_type": "code",
   "execution_count": 580,
   "id": "0130e406-1c49-467a-86f6-e12d2e50d967",
   "metadata": {},
   "outputs": [],
   "source": [
    "import numpy as np\n",
    "import pandas as pd"
   ]
  },
  {
   "cell_type": "markdown",
   "id": "18ce0f10-4fd7-4a3f-8f8f-ebdfd92a5bd6",
   "metadata": {},
   "source": [
    "## 2. Loading the Dataset into pandas’ data frame."
   ]
  },
  {
   "cell_type": "code",
   "execution_count": 581,
   "id": "18d6f8b4-9dd7-4cfb-9990-b0a6617df808",
   "metadata": {},
   "outputs": [],
   "source": [
    "df=pd.read_csv('nba.csv')"
   ]
  },
  {
   "cell_type": "code",
   "execution_count": 582,
   "id": "a2ae325b-2bd5-45fb-9932-868cbad52cad",
   "metadata": {},
   "outputs": [
    {
     "data": {
      "text/html": [
       "<div>\n",
       "<style scoped>\n",
       "    .dataframe tbody tr th:only-of-type {\n",
       "        vertical-align: middle;\n",
       "    }\n",
       "\n",
       "    .dataframe tbody tr th {\n",
       "        vertical-align: top;\n",
       "    }\n",
       "\n",
       "    .dataframe thead th {\n",
       "        text-align: right;\n",
       "    }\n",
       "</style>\n",
       "<table border=\"1\" class=\"dataframe\">\n",
       "  <thead>\n",
       "    <tr style=\"text-align: right;\">\n",
       "      <th></th>\n",
       "      <th>Name</th>\n",
       "      <th>Team</th>\n",
       "      <th>Number</th>\n",
       "      <th>Position</th>\n",
       "      <th>Age</th>\n",
       "      <th>Height</th>\n",
       "      <th>Weight</th>\n",
       "      <th>College</th>\n",
       "      <th>Salary</th>\n",
       "    </tr>\n",
       "  </thead>\n",
       "  <tbody>\n",
       "    <tr>\n",
       "      <th>0</th>\n",
       "      <td>Avery Bradley</td>\n",
       "      <td>Boston Celtics</td>\n",
       "      <td>0.0</td>\n",
       "      <td>PG</td>\n",
       "      <td>25.0</td>\n",
       "      <td>6-2</td>\n",
       "      <td>180.0</td>\n",
       "      <td>Texas</td>\n",
       "      <td>7730337.0</td>\n",
       "    </tr>\n",
       "    <tr>\n",
       "      <th>1</th>\n",
       "      <td>Jae Crowder</td>\n",
       "      <td>Boston Celtics</td>\n",
       "      <td>99.0</td>\n",
       "      <td>SF</td>\n",
       "      <td>25.0</td>\n",
       "      <td>6-6</td>\n",
       "      <td>235.0</td>\n",
       "      <td>Marquette</td>\n",
       "      <td>6796117.0</td>\n",
       "    </tr>\n",
       "    <tr>\n",
       "      <th>2</th>\n",
       "      <td>John Holland</td>\n",
       "      <td>Boston Celtics</td>\n",
       "      <td>30.0</td>\n",
       "      <td>SG</td>\n",
       "      <td>27.0</td>\n",
       "      <td>6-5</td>\n",
       "      <td>205.0</td>\n",
       "      <td>Boston University</td>\n",
       "      <td>NaN</td>\n",
       "    </tr>\n",
       "    <tr>\n",
       "      <th>3</th>\n",
       "      <td>R.J. Hunter</td>\n",
       "      <td>Boston Celtics</td>\n",
       "      <td>28.0</td>\n",
       "      <td>SG</td>\n",
       "      <td>22.0</td>\n",
       "      <td>6-5</td>\n",
       "      <td>185.0</td>\n",
       "      <td>Georgia State</td>\n",
       "      <td>1148640.0</td>\n",
       "    </tr>\n",
       "    <tr>\n",
       "      <th>4</th>\n",
       "      <td>Jonas Jerebko</td>\n",
       "      <td>Boston Celtics</td>\n",
       "      <td>8.0</td>\n",
       "      <td>PF</td>\n",
       "      <td>29.0</td>\n",
       "      <td>6-10</td>\n",
       "      <td>231.0</td>\n",
       "      <td>NaN</td>\n",
       "      <td>5000000.0</td>\n",
       "    </tr>\n",
       "  </tbody>\n",
       "</table>\n",
       "</div>"
      ],
      "text/plain": [
       "            Name            Team  Number Position   Age Height  Weight  \\\n",
       "0  Avery Bradley  Boston Celtics     0.0       PG  25.0    6-2   180.0   \n",
       "1    Jae Crowder  Boston Celtics    99.0       SF  25.0    6-6   235.0   \n",
       "2   John Holland  Boston Celtics    30.0       SG  27.0    6-5   205.0   \n",
       "3    R.J. Hunter  Boston Celtics    28.0       SG  22.0    6-5   185.0   \n",
       "4  Jonas Jerebko  Boston Celtics     8.0       PF  29.0   6-10   231.0   \n",
       "\n",
       "             College     Salary  \n",
       "0              Texas  7730337.0  \n",
       "1          Marquette  6796117.0  \n",
       "2  Boston University        NaN  \n",
       "3      Georgia State  1148640.0  \n",
       "4                NaN  5000000.0  "
      ]
     },
     "execution_count": 582,
     "metadata": {},
     "output_type": "execute_result"
    }
   ],
   "source": [
    "df.head()"
   ]
  },
  {
   "cell_type": "markdown",
   "id": "2da11679-acec-4be3-b66e-2ec02f77b335",
   "metadata": {},
   "source": [
    "Datatypes like Number ,Age and Weight are in Float that can be converted to Int datatype as all have \n",
    "Height has (a-b) style that can be rewritten as 6.2 "
   ]
  },
  {
   "cell_type": "code",
   "execution_count": 583,
   "id": "34f27d66-51b7-45c0-ab21-fe172f80fd72",
   "metadata": {},
   "outputs": [
    {
     "data": {
      "text/plain": [
       "(458, 9)"
      ]
     },
     "execution_count": 583,
     "metadata": {},
     "output_type": "execute_result"
    }
   ],
   "source": [
    "df.shape"
   ]
  },
  {
   "cell_type": "markdown",
   "id": "a7f875df-867c-4b5f-b8f0-0598e2304b35",
   "metadata": {},
   "source": [
    "The dataset has a total of 458 rows and 9 attributes "
   ]
  },
  {
   "cell_type": "markdown",
   "id": "e1015b95-86f7-48f5-9f20-35d8ef5daaa5",
   "metadata": {},
   "source": [
    "## 3.Handling Missing Values"
   ]
  },
  {
   "cell_type": "code",
   "execution_count": 584,
   "id": "610412f9-7640-4d69-9cea-c6811b9275b1",
   "metadata": {},
   "outputs": [
    {
     "data": {
      "text/plain": [
       "Name         1\n",
       "Team         1\n",
       "Number       1\n",
       "Position     1\n",
       "Age          1\n",
       "Height       1\n",
       "Weight       1\n",
       "College     85\n",
       "Salary      12\n",
       "dtype: int64"
      ]
     },
     "execution_count": 584,
     "metadata": {},
     "output_type": "execute_result"
    }
   ],
   "source": [
    "df.isnull().sum()"
   ]
  },
  {
   "cell_type": "code",
   "execution_count": 585,
   "id": "6251aadd-d67a-4ed1-a2a2-43f027990a12",
   "metadata": {},
   "outputs": [
    {
     "data": {
      "text/plain": [
       "Name         1\n",
       "Team         1\n",
       "Number       0\n",
       "Position     1\n",
       "Age          0\n",
       "Height       1\n",
       "Weight       0\n",
       "College     85\n",
       "Salary       0\n",
       "dtype: int64"
      ]
     },
     "execution_count": 585,
     "metadata": {},
     "output_type": "execute_result"
    }
   ],
   "source": [
    "for col in df.columns:\n",
    "    if df[col].dtype==\"float64\":  # Check if column is float type\n",
    "        col_mean = df[col].mean()  # Calculate mean\n",
    "        df[col] = df[col].fillna(col_mean)  \n",
    "df.isnull().sum()"
   ]
  },
  {
   "cell_type": "code",
   "execution_count": 586,
   "id": "f225fefd-ff86-4e01-a413-dc52ce07e570",
   "metadata": {},
   "outputs": [],
   "source": [
    "for col in df.columns:\n",
    "    if df[col].dtype=='object':\n",
    "        df[col]=df[col].fillna(df[col].mode()[0])"
   ]
  },
  {
   "cell_type": "code",
   "execution_count": 587,
   "id": "a73781e8-4bbf-4694-9a4c-4f23aeab22c2",
   "metadata": {},
   "outputs": [
    {
     "data": {
      "text/plain": [
       "Name        0\n",
       "Team        0\n",
       "Number      0\n",
       "Position    0\n",
       "Age         0\n",
       "Height      0\n",
       "Weight      0\n",
       "College     0\n",
       "Salary      0\n",
       "dtype: int64"
      ]
     },
     "execution_count": 587,
     "metadata": {},
     "output_type": "execute_result"
    }
   ],
   "source": [
    "df.isnull().sum()"
   ]
  },
  {
   "cell_type": "markdown",
   "id": "09d5bf74-ab67-4d60-9c21-a7e864d7c21e",
   "metadata": {},
   "source": [
    "## 4.Applying Proper Type Conversions"
   ]
  },
  {
   "cell_type": "code",
   "execution_count": 588,
   "id": "49e93ca7-e347-485f-b2c7-f9cbfd26c69c",
   "metadata": {},
   "outputs": [],
   "source": [
    "columns_to_convert = [\"Number\", \"Age\", \"Weight\",\"Salary\"]  # List of columns to convert\n",
    "\n",
    "for col in columns_to_convert:\n",
    "    df[col]=df[col].astype(int)"
   ]
  },
  {
   "cell_type": "code",
   "execution_count": 589,
   "id": "854e61ea-2348-4318-9890-b07f7b03b918",
   "metadata": {},
   "outputs": [
    {
     "data": {
      "text/plain": [
       "Name        object\n",
       "Team        object\n",
       "Number       int32\n",
       "Position    object\n",
       "Age          int32\n",
       "Height      object\n",
       "Weight       int32\n",
       "College     object\n",
       "Salary       int32\n",
       "dtype: object"
      ]
     },
     "execution_count": 589,
     "metadata": {},
     "output_type": "execute_result"
    }
   ],
   "source": [
    "df.dtypes"
   ]
  },
  {
   "cell_type": "code",
   "execution_count": 590,
   "id": "52bf7786-b8b2-4030-a22e-560e3fdd981e",
   "metadata": {},
   "outputs": [
    {
     "data": {
      "text/plain": [
       "Name        string[python]\n",
       "Team        string[python]\n",
       "Number               int32\n",
       "Position    string[python]\n",
       "Age                  int32\n",
       "Height      string[python]\n",
       "Weight               int32\n",
       "College     string[python]\n",
       "Salary               int32\n",
       "dtype: object"
      ]
     },
     "execution_count": 590,
     "metadata": {},
     "output_type": "execute_result"
    }
   ],
   "source": [
    "for col in df.columns:\n",
    "    if df[col].dtype=='object':\n",
    "        df[col]=df[col].astype('string')\n",
    "df.dtypes"
   ]
  },
  {
   "cell_type": "markdown",
   "id": "143de581-acf8-4393-8a19-1b133503ba5d",
   "metadata": {},
   "source": [
    "### Height attribute is in string type as 6-9,6-11,therefore converting it to float "
   ]
  },
  {
   "cell_type": "code",
   "execution_count": 591,
   "id": "69333007-54e5-4911-8a64-d6a6fe4e48e3",
   "metadata": {},
   "outputs": [],
   "source": [
    "df['Height'] = df['Height'].fillna(df['Height'].mode()[0])"
   ]
  },
  {
   "cell_type": "code",
   "execution_count": 592,
   "id": "052c14cd-a6d9-4ae4-93f3-2af25b11cd5b",
   "metadata": {},
   "outputs": [
    {
     "data": {
      "text/plain": [
       "Name        string[python]\n",
       "Team        string[python]\n",
       "Number               int32\n",
       "Position    string[python]\n",
       "Age                  int32\n",
       "Height             float64\n",
       "Weight               int32\n",
       "College     string[python]\n",
       "Salary               int32\n",
       "dtype: object"
      ]
     },
     "execution_count": 592,
     "metadata": {},
     "output_type": "execute_result"
    }
   ],
   "source": [
    "def convert_height(height):\n",
    "    height = str(height)  # Convert to string if it's not already\n",
    "    return float(height.replace('-', '.'))\n",
    "\n",
    "df['Height']=df['Height'].apply(convert_height)\n",
    "df.dtypes"
   ]
  },
  {
   "cell_type": "code",
   "execution_count": 593,
   "id": "f9ed4e55-dfc3-4ff6-ada7-502e49fdefdf",
   "metadata": {},
   "outputs": [
    {
     "data": {
      "text/plain": [
       "Name        string[python]\n",
       "Team        string[python]\n",
       "Number               int32\n",
       "Position    string[python]\n",
       "Age                  int32\n",
       "Height             float64\n",
       "Weight               int32\n",
       "College     string[python]\n",
       "Salary               int32\n",
       "dtype: object"
      ]
     },
     "execution_count": 593,
     "metadata": {},
     "output_type": "execute_result"
    }
   ],
   "source": [
    "df.dtypes"
   ]
  },
  {
   "cell_type": "code",
   "execution_count": 594,
   "id": "380c20b8-7f12-4d0f-bf04-8b54ff3a4641",
   "metadata": {},
   "outputs": [
    {
     "data": {
      "text/html": [
       "<div>\n",
       "<style scoped>\n",
       "    .dataframe tbody tr th:only-of-type {\n",
       "        vertical-align: middle;\n",
       "    }\n",
       "\n",
       "    .dataframe tbody tr th {\n",
       "        vertical-align: top;\n",
       "    }\n",
       "\n",
       "    .dataframe thead th {\n",
       "        text-align: right;\n",
       "    }\n",
       "</style>\n",
       "<table border=\"1\" class=\"dataframe\">\n",
       "  <thead>\n",
       "    <tr style=\"text-align: right;\">\n",
       "      <th></th>\n",
       "      <th>Name</th>\n",
       "      <th>Team</th>\n",
       "      <th>Number</th>\n",
       "      <th>Position</th>\n",
       "      <th>Age</th>\n",
       "      <th>Height</th>\n",
       "      <th>Weight</th>\n",
       "      <th>College</th>\n",
       "      <th>Salary</th>\n",
       "    </tr>\n",
       "  </thead>\n",
       "  <tbody>\n",
       "    <tr>\n",
       "      <th>0</th>\n",
       "      <td>Avery Bradley</td>\n",
       "      <td>Boston Celtics</td>\n",
       "      <td>0</td>\n",
       "      <td>PG</td>\n",
       "      <td>25</td>\n",
       "      <td>6.2</td>\n",
       "      <td>180</td>\n",
       "      <td>Texas</td>\n",
       "      <td>7730337</td>\n",
       "    </tr>\n",
       "    <tr>\n",
       "      <th>1</th>\n",
       "      <td>Jae Crowder</td>\n",
       "      <td>Boston Celtics</td>\n",
       "      <td>99</td>\n",
       "      <td>SF</td>\n",
       "      <td>25</td>\n",
       "      <td>6.6</td>\n",
       "      <td>235</td>\n",
       "      <td>Marquette</td>\n",
       "      <td>6796117</td>\n",
       "    </tr>\n",
       "    <tr>\n",
       "      <th>2</th>\n",
       "      <td>John Holland</td>\n",
       "      <td>Boston Celtics</td>\n",
       "      <td>30</td>\n",
       "      <td>SG</td>\n",
       "      <td>27</td>\n",
       "      <td>6.5</td>\n",
       "      <td>205</td>\n",
       "      <td>Boston University</td>\n",
       "      <td>4842684</td>\n",
       "    </tr>\n",
       "    <tr>\n",
       "      <th>3</th>\n",
       "      <td>R.J. Hunter</td>\n",
       "      <td>Boston Celtics</td>\n",
       "      <td>28</td>\n",
       "      <td>SG</td>\n",
       "      <td>22</td>\n",
       "      <td>6.5</td>\n",
       "      <td>185</td>\n",
       "      <td>Georgia State</td>\n",
       "      <td>1148640</td>\n",
       "    </tr>\n",
       "    <tr>\n",
       "      <th>4</th>\n",
       "      <td>Jonas Jerebko</td>\n",
       "      <td>Boston Celtics</td>\n",
       "      <td>8</td>\n",
       "      <td>PF</td>\n",
       "      <td>29</td>\n",
       "      <td>6.1</td>\n",
       "      <td>231</td>\n",
       "      <td>Kentucky</td>\n",
       "      <td>5000000</td>\n",
       "    </tr>\n",
       "  </tbody>\n",
       "</table>\n",
       "</div>"
      ],
      "text/plain": [
       "            Name            Team  Number Position  Age  Height  Weight  \\\n",
       "0  Avery Bradley  Boston Celtics       0       PG   25     6.2     180   \n",
       "1    Jae Crowder  Boston Celtics      99       SF   25     6.6     235   \n",
       "2   John Holland  Boston Celtics      30       SG   27     6.5     205   \n",
       "3    R.J. Hunter  Boston Celtics      28       SG   22     6.5     185   \n",
       "4  Jonas Jerebko  Boston Celtics       8       PF   29     6.1     231   \n",
       "\n",
       "             College   Salary  \n",
       "0              Texas  7730337  \n",
       "1          Marquette  6796117  \n",
       "2  Boston University  4842684  \n",
       "3      Georgia State  1148640  \n",
       "4           Kentucky  5000000  "
      ]
     },
     "execution_count": 594,
     "metadata": {},
     "output_type": "execute_result"
    }
   ],
   "source": [
    "df.head()"
   ]
  },
  {
   "cell_type": "markdown",
   "id": "6b24f249-a5a6-47ad-87d8-0d7983819df0",
   "metadata": {},
   "source": [
    "## 5. Central Tendencies - Measures"
   ]
  },
  {
   "cell_type": "markdown",
   "id": "a567faf6-78a9-4666-9c22-8aae332473d1",
   "metadata": {},
   "source": [
    "### 5.1.1. Mean (Built-in method)"
   ]
  },
  {
   "cell_type": "code",
   "execution_count": 595,
   "id": "16e70fde-4ffb-4b4d-97f4-b574a069cef9",
   "metadata": {},
   "outputs": [
    {
     "name": "stdout",
     "output_type": "stream",
     "text": [
      " Mean value of Number: 17.676855895196507\n",
      "----------------------------------------\n",
      " Mean value of Age: 26.936681222707424\n",
      "----------------------------------------\n",
      " Mean value of Height: 6.517969432314411\n",
      "----------------------------------------\n",
      " Mean value of Weight: 221.52183406113537\n",
      "----------------------------------------\n",
      " Mean value of Salary: 4842684.102620088\n",
      "----------------------------------------\n"
     ]
    }
   ],
   "source": [
    "for col in df.columns:\n",
    "    if df[col].dtype=='int'or df[col].dtype=='float':\n",
    "        print(f\" Mean value of {col}: {df[col].mean()}\")\n",
    "        # print(f\" Median value of {col}: {df[col].median()}\")\n",
    "        print(\"-\"*40)\n"
   ]
  },
  {
   "cell_type": "markdown",
   "id": "27e2e0a3-7c02-4691-86f5-3d26a5e13e3d",
   "metadata": {},
   "source": [
    "### 5.1.2. Mean (User-defined method)"
   ]
  },
  {
   "cell_type": "code",
   "execution_count": 596,
   "id": "5be4fb37-0727-49ac-bc9c-b3226f430378",
   "metadata": {},
   "outputs": [
    {
     "name": "stdout",
     "output_type": "stream",
     "text": [
      "Number  :  17.676855895196507\n",
      "----------------------------------------\n",
      "Age  :  26.936681222707424\n",
      "----------------------------------------\n",
      "Height  :  6.517969432314407\n",
      "----------------------------------------\n",
      "Weight  :  221.52183406113537\n",
      "----------------------------------------\n",
      "Salary  :  4842684.102620088\n",
      "----------------------------------------\n"
     ]
    }
   ],
   "source": [
    "mean={}\n",
    "for col in df.columns:\n",
    "    if df[col].dtype in ['int','float64']:\n",
    "        total=0\n",
    "        count=0\n",
    "        for value in df[col]:\n",
    "            if pd.notna(value):\n",
    "                total=total+value\n",
    "                count=count+1\n",
    "        means[col]=total/count if count!=0 else None\n",
    "\n",
    "for i,j in means.items():\n",
    "    print(i,\" : \" ,j)\n",
    "    print(\"-\"*40)"
   ]
  },
  {
   "cell_type": "markdown",
   "id": "69bef033-7626-4795-bcb9-4fa16b84b4b7",
   "metadata": {},
   "source": [
    "### 5.2.1. Median (Built-in method)"
   ]
  },
  {
   "cell_type": "code",
   "execution_count": 597,
   "id": "a858d8ab-2cbf-448a-bca1-63095a6731d8",
   "metadata": {},
   "outputs": [
    {
     "name": "stdout",
     "output_type": "stream",
     "text": [
      " Median value of Number: 13.0\n",
      "----------------------------------------\n",
      " Median value of Age: 26.0\n",
      "----------------------------------------\n",
      " Median value of Height: 6.6\n",
      "----------------------------------------\n",
      " Median value of Weight: 220.0\n",
      "----------------------------------------\n",
      " Median value of Salary: 2880600.0\n",
      "----------------------------------------\n"
     ]
    }
   ],
   "source": [
    "for col in df.columns:\n",
    "    if df[col].dtype=='int'or df[col].dtype=='float':\n",
    "        print(f\" Median value of {col}: {df[col].median()}\")\n",
    "        print(\"-\"*40)"
   ]
  },
  {
   "cell_type": "markdown",
   "id": "4e44870d-f1df-4ae8-88a1-28a5dfe4ccab",
   "metadata": {},
   "source": [
    "### 5.2.2. Median (User-defined method)"
   ]
  },
  {
   "cell_type": "code",
   "execution_count": 598,
   "id": "fdf37c63-4f5b-4f26-8df9-46106f2ee929",
   "metadata": {},
   "outputs": [
    {
     "name": "stdout",
     "output_type": "stream",
     "text": [
      "Number  :  13.0\n",
      "----------------------------------------\n",
      "Age  :  26.0\n",
      "----------------------------------------\n",
      "Height  :  6.6\n",
      "----------------------------------------\n",
      "Weight  :  220.0\n",
      "----------------------------------------\n",
      "Salary  :  2880600.0\n",
      "----------------------------------------\n"
     ]
    }
   ],
   "source": [
    "medians={}\n",
    "\n",
    "for col in df.columns:\n",
    "    if df[col].dtype in ['int','float64']:\n",
    "        values=sorted([x for x in df[col]])\n",
    "        n=len(values)\n",
    "        if n==0:\n",
    "            medians[col]=None\n",
    "        elif n%2==1:\n",
    "            medians[col]=values[n//2]\n",
    "        else:\n",
    "            medians[col]=(values[n//2-1]+values[n//2])/2\n",
    "\n",
    "for i,j in medians.items():\n",
    "    print(i,\" : \" ,j)\n",
    "    print(\"-\"*40)"
   ]
  },
  {
   "cell_type": "markdown",
   "id": "abb755e5-729a-4745-8432-e427ba7d3673",
   "metadata": {},
   "source": [
    "### 5.3.1. Mode (Built-in method)"
   ]
  },
  {
   "cell_type": "code",
   "execution_count": 599,
   "id": "ca8d61ad-6c4d-4047-8119-a1e2d88f0bdc",
   "metadata": {},
   "outputs": [
    {
     "name": "stdout",
     "output_type": "stream",
     "text": [
      " Mode value of Name: Aaron Brooks\n",
      "----------------------------------------\n",
      " Mode value of Team: New Orleans Pelicans\n",
      "----------------------------------------\n",
      " Mode value of Number: 5\n",
      "----------------------------------------\n",
      " Mode value of Position: SG\n",
      "----------------------------------------\n",
      " Mode value of Age: 24\n",
      "----------------------------------------\n",
      " Mode value of Height: 6.1\n",
      "----------------------------------------\n",
      " Mode value of Weight: 220\n",
      "----------------------------------------\n",
      " Mode value of College: Kentucky\n",
      "----------------------------------------\n",
      " Mode value of Salary: 947276\n",
      "----------------------------------------\n"
     ]
    }
   ],
   "source": [
    "for col in df.columns:\n",
    "    # if df[col].dtype=='string':\n",
    "    print(f\" Mode value of {col}: {df[col].mode()[0]}\")\n",
    "    print(\"-\"*40)"
   ]
  },
  {
   "cell_type": "markdown",
   "id": "c3f465e6-03be-4f38-84d2-0cef6983b826",
   "metadata": {},
   "source": [
    "### 5.3.2. Mode (User-defined method)"
   ]
  },
  {
   "cell_type": "code",
   "execution_count": 600,
   "id": "79af78ed-8241-4f7c-bc9f-334b24782f75",
   "metadata": {},
   "outputs": [
    {
     "name": "stdout",
     "output_type": "stream",
     "text": [
      "Name  :  Aaron Brooks\n",
      "----------------------------------------\n",
      "Team  :  New Orleans Pelicans\n",
      "----------------------------------------\n",
      "Number  :  5\n",
      "----------------------------------------\n",
      "Position  :  SG\n",
      "----------------------------------------\n",
      "Age  :  24\n",
      "----------------------------------------\n",
      "Height  :  6.1\n",
      "----------------------------------------\n",
      "Weight  :  220\n",
      "----------------------------------------\n",
      "College  :  Kentucky\n",
      "----------------------------------------\n",
      "Salary  :  947276\n",
      "----------------------------------------\n"
     ]
    }
   ],
   "source": [
    "modes = {}\n",
    "from collections import Counter\n",
    "\n",
    "for col in df.columns:\n",
    "    values = [x for x in df[col] if pd.notna(x)]  \n",
    "    if values:  \n",
    "        most_common = Counter(values).most_common()  \n",
    "        max_freq = most_common[0][1]  \n",
    "        mode_values = [key for key, val in most_common if val == max_freq]\n",
    "        modes[col] = mode_values[0] if len(mode_values) == 1 else mode_values\n",
    "    else:\n",
    "        modes[col] = None \n",
    "\n",
    "for i,j in modes.items():\n",
    "    print(i,\" : \" ,j)\n",
    "    print(\"-\"*40)"
   ]
  },
  {
   "cell_type": "markdown",
   "id": "3fc7609d-3965-4991-8277-4e7cb3540327",
   "metadata": {},
   "source": [
    "### 5.4.1 Maximum value (Built-in method)"
   ]
  },
  {
   "cell_type": "code",
   "execution_count": 601,
   "id": "3f2e43a3-cf88-478f-ae0f-3cf5703946c8",
   "metadata": {},
   "outputs": [
    {
     "name": "stdout",
     "output_type": "stream",
     "text": [
      "Maximum value in Number is 99\n",
      "----------------------------------------\n",
      "Maximum value in Age is 40\n",
      "----------------------------------------\n",
      "Maximum value in Height is 7.3\n",
      "----------------------------------------\n",
      "Maximum value in Weight is 307\n",
      "----------------------------------------\n",
      "Maximum value in Salary is 25000000\n",
      "----------------------------------------\n"
     ]
    }
   ],
   "source": [
    "# print(df['Height'].max())\n",
    "for col in df.columns:\n",
    "    if df[col].dtype in ['int','float']:\n",
    "        print(f'Maximum value in {col} is {df[col].max()}')\n",
    "        print(\"-\"*40)"
   ]
  },
  {
   "cell_type": "markdown",
   "id": "503b220b-b5e0-4f95-a652-de493b6293ef",
   "metadata": {},
   "source": [
    "### 5.4.2 Maximum value (User-defined method)"
   ]
  },
  {
   "cell_type": "code",
   "execution_count": 602,
   "id": "9ae3e103-df68-4052-a9d0-4f610961ac51",
   "metadata": {},
   "outputs": [
    {
     "name": "stdout",
     "output_type": "stream",
     "text": [
      "Number  :  99\n",
      "----------------------------------------\n",
      "Age  :  40\n",
      "----------------------------------------\n",
      "Height  :  7.3\n",
      "----------------------------------------\n",
      "Weight  :  307\n",
      "----------------------------------------\n",
      "Salary  :  25000000\n",
      "----------------------------------------\n"
     ]
    }
   ],
   "source": [
    "maximum={}\n",
    "maxval=0\n",
    "\n",
    "for col in df.columns:\n",
    "    if df[col].dtype in ['int','float']:\n",
    "        values=[x for x in df[col]]\n",
    "        if values:\n",
    "            maxval=values[0]\n",
    "            for i in values:\n",
    "                if i>maxval:\n",
    "                    maxval=i\n",
    "            maximum[col]=maxval\n",
    "        else:\n",
    "            maximum[col]=None  \n",
    "\n",
    "for i,j in maximum.items():\n",
    "    print(i,\" : \" ,j)\n",
    "    print(\"-\"*40)"
   ]
  },
  {
   "cell_type": "markdown",
   "id": "249f7f05-1d8d-460a-be72-173632771084",
   "metadata": {},
   "source": [
    "### 5.5.1 Minimum value (Built-in method)"
   ]
  },
  {
   "cell_type": "code",
   "execution_count": 603,
   "id": "c2c3183f-7735-4497-a7bd-f0e6cbeb8f5f",
   "metadata": {},
   "outputs": [
    {
     "name": "stdout",
     "output_type": "stream",
     "text": [
      "Minimum value in Number is 0\n",
      "----------------------------------------\n",
      "Minimum value in Age is 19\n",
      "----------------------------------------\n",
      "Minimum value in Height is 5.11\n",
      "----------------------------------------\n",
      "Minimum value in Weight is 161\n",
      "----------------------------------------\n",
      "Minimum value in Salary is 30888\n",
      "----------------------------------------\n"
     ]
    }
   ],
   "source": [
    "for col in df.columns:\n",
    "    if df[col].dtype in ['int','float']:\n",
    "        print(f'Minimum value in {col} is {df[col].min()}')\n",
    "        print(\"-\"*40)"
   ]
  },
  {
   "cell_type": "markdown",
   "id": "274e8710-b89d-42e1-bca5-3fb4a220e3ac",
   "metadata": {},
   "source": [
    "### 5.5.2 Minimum value ( User-defined method)"
   ]
  },
  {
   "cell_type": "code",
   "execution_count": 604,
   "id": "1aeaf8da-6208-4122-b8e9-387937d753a7",
   "metadata": {},
   "outputs": [
    {
     "name": "stdout",
     "output_type": "stream",
     "text": [
      "Number  :  0\n",
      "----------------------------------------\n",
      "Age  :  19\n",
      "----------------------------------------\n",
      "Height  :  5.11\n",
      "----------------------------------------\n",
      "Weight  :  161\n",
      "----------------------------------------\n",
      "Salary  :  30888\n",
      "----------------------------------------\n"
     ]
    }
   ],
   "source": [
    "minimum={}\n",
    "minval=0\n",
    "\n",
    "for col in df.columns:\n",
    "    if df[col].dtype in ['int','float']:\n",
    "        values=[x for x in df[col]]\n",
    "        if values:\n",
    "            minval=values[0]\n",
    "            for i in values:\n",
    "                if i<minval:\n",
    "                    minval=i\n",
    "            minimum[col]=minval\n",
    "        else:\n",
    "            minimum[col]=None  \n",
    "\n",
    "for i,j in minimum.items():\n",
    "    print(i,\" : \" ,j)\n",
    "    print(\"-\"*40)"
   ]
  },
  {
   "cell_type": "markdown",
   "id": "baf29032-17f6-4d7f-bc69-de55769fa70d",
   "metadata": {},
   "source": [
    "### 5.6.1. Standard Deviation (Built-in method)"
   ]
  },
  {
   "cell_type": "code",
   "execution_count": 605,
   "id": "839044ee-361b-4ed3-863b-5f0703f61fbe",
   "metadata": {},
   "outputs": [
    {
     "name": "stdout",
     "output_type": "stream",
     "text": [
      "Standard Deviation of Number: 15.94864396617882\n",
      "Standard Deviation of Age: 4.399414063696201\n",
      "Standard Deviation of Height: 0.35227429750526434\n",
      "Standard Deviation of Weight: 26.339488773302435\n",
      "Standard Deviation of Salary: 5160125.694003381\n"
     ]
    }
   ],
   "source": [
    "for col in df.columns:\n",
    "    if df[col].dtype in ['int','float']:\n",
    "        print(f\"Standard Deviation of {col}: {df[col].std()}\")"
   ]
  },
  {
   "cell_type": "markdown",
   "id": "7c733da0-c054-43ba-b3a8-54f685b93ca5",
   "metadata": {},
   "source": [
    "### 5.6.2. Standard Deviation (User-defined method)"
   ]
  },
  {
   "cell_type": "code",
   "execution_count": 606,
   "id": "2cfbe9f5-b397-4dee-b9de-48961d817a2a",
   "metadata": {},
   "outputs": [
    {
     "name": "stdout",
     "output_type": "stream",
     "text": [
      "Number  :  15.948643966178828\n",
      "----------------------------------------\n",
      "Age  :  4.399414063696205\n",
      "----------------------------------------\n",
      "Height  :  0.3522742975052651\n",
      "----------------------------------------\n",
      "Weight  :  26.33948877330243\n",
      "----------------------------------------\n",
      "Salary  :  5160125.694003384\n",
      "----------------------------------------\n"
     ]
    }
   ],
   "source": [
    "std_dev_values = {}\n",
    "\n",
    "for col in df.columns:\n",
    "    if df[col].dtype in ['int', 'float64']:\n",
    "        values = [x for x in df[col] if pd.notna(x)] \n",
    "        n = len(values)\n",
    "        if n > 1:  \n",
    "            mean_value = sum(values) / n \n",
    "            squared_diffs = [(x - mean_value) ** 2 for x in values]\n",
    "            variance = sum(squared_diffs) / (n - 1)\n",
    "            std_dev = variance ** 0.5  \n",
    "            std_dev_values[col] = std_dev  \n",
    "        else:\n",
    "            std_dev_values[col] = None \n",
    "for i,j in std_dev_values.items():\n",
    "    print(i,\" : \" ,j)\n",
    "    print(\"-\"*40)"
   ]
  },
  {
   "cell_type": "markdown",
   "id": "21bdc1fc-b9b6-40bb-b8be-4c291a882d2a",
   "metadata": {},
   "source": [
    "### 5.7.1. Variance"
   ]
  },
  {
   "cell_type": "code",
   "execution_count": 607,
   "id": "83befcce-a767-420a-982f-e4d77fd77bdc",
   "metadata": {},
   "outputs": [
    {
     "name": "stdout",
     "output_type": "stream",
     "text": [
      "Variance of Number: 254.35924435993206\n",
      "Variance of Age: 19.354844103847928\n",
      "Variance of Height: 0.12409718068282748\n",
      "Variance of Weight: 693.768668838925\n",
      "Variance of Salary: 26626897177913.875\n"
     ]
    }
   ],
   "source": [
    "for col in df.columns:\n",
    "    if df[col].dtype in ['int','float']:\n",
    "        print(f\"Variance of {col}: {df[col].var()}\")"
   ]
  },
  {
   "cell_type": "markdown",
   "id": "a7ff00a9-1a5e-4dfc-b7ea-59bcb6b02715",
   "metadata": {},
   "source": [
    "### 5.8 Range "
   ]
  },
  {
   "cell_type": "code",
   "execution_count": 608,
   "id": "032865bf-7056-4671-9e1a-da25e4e4d982",
   "metadata": {},
   "outputs": [
    {
     "name": "stdout",
     "output_type": "stream",
     "text": [
      "Range of Number is 99\n",
      "----------------------------------------\n",
      "Range of Age is 21\n",
      "----------------------------------------\n",
      "Range of Height is 2.1899999999999995\n",
      "----------------------------------------\n",
      "Range of Weight is 146\n",
      "----------------------------------------\n",
      "Range of Salary is 24969112\n",
      "----------------------------------------\n"
     ]
    }
   ],
   "source": [
    "for col in df.columns:\n",
    "    if df[col].dtype in ['int','float']:\n",
    "        print(f'Range of {col} is {(df[col].max())-(df[col].min())}')\n",
    "        print(\"-\"*40)"
   ]
  },
  {
   "cell_type": "markdown",
   "id": "9a22ff47-89bd-4bac-981e-c170d54edf54",
   "metadata": {},
   "source": [
    "### 5.9 Quartiles"
   ]
  },
  {
   "cell_type": "code",
   "execution_count": 609,
   "id": "e45b1df8-b79d-48f7-869f-73954a91204d",
   "metadata": {},
   "outputs": [
    {
     "name": "stdout",
     "output_type": "stream",
     "text": [
      " For Number  Q1: 5.0 , Q2: 13.0 ,Q3: 25.0\n",
      " For Age  Q1: 24.0 , Q2: 26.0 ,Q3: 30.0\n",
      " For Height  Q1: 6.11 , Q2: 6.6 ,Q3: 6.8\n",
      " For Weight  Q1: 200.0 , Q2: 220.0 ,Q3: 240.0\n",
      " For Salary  Q1: 1100602.0 , Q2: 2880600.0 ,Q3: 6323553.0\n"
     ]
    }
   ],
   "source": [
    "for col in df.columns:\n",
    "    if df[col].dtype in ['int','float']:\n",
    "        q1=np.percentile(df[col],25)\n",
    "        q2=np.percentile(df[col],50)\n",
    "        q3=np.percentile(df[col],75)\n",
    "        print(f\" For {col}  Q1: {q1} , Q2: {q2} ,Q3: {q3}\")"
   ]
  },
  {
   "cell_type": "code",
   "execution_count": 610,
   "id": "5ef46f79-2ff0-419d-8c2f-cd692fb15701",
   "metadata": {},
   "outputs": [
    {
     "data": {
      "text/plain": [
       "Salary\n",
       "30888           [23]\n",
       "55722       [25, 27]\n",
       "83397           [23]\n",
       "111196          [25]\n",
       "111444      [29, 25]\n",
       "              ...   \n",
       "22192730        [32]\n",
       "22359364        [30]\n",
       "22875000        [32]\n",
       "22970500        [31]\n",
       "25000000        [37]\n",
       "Name: Age, Length: 310, dtype: object"
      ]
     },
     "execution_count": 610,
     "metadata": {},
     "output_type": "execute_result"
    }
   ],
   "source": [
    "df.groupby(\"Salary\")[\"Age\"].apply(list)\n"
   ]
  },
  {
   "cell_type": "markdown",
   "id": "56e7ccd3-ad8e-42df-85a5-da5f9d5d78a9",
   "metadata": {},
   "source": [
    "### Grouping \"Age\" column by  values of \"Salary\" "
   ]
  },
  {
   "cell_type": "code",
   "execution_count": 611,
   "id": "03c7c66e-c3dd-4ef6-acc8-e8263791330f",
   "metadata": {},
   "outputs": [],
   "source": [
    "bins= [19,25,31,36,40]\n",
    "labels = ['19-24','25-30','31-35','36-40']\n",
    "df['AgeGroup'] = pd.cut(df['Age'], bins=bins,labels=labels)"
   ]
  },
  {
   "cell_type": "code",
   "execution_count": 612,
   "id": "49d30979-9d54-49d5-844c-f960cbf5c089",
   "metadata": {},
   "outputs": [
    {
     "data": {
      "text/plain": [
       "AgeGroup\n",
       "19-24    197\n",
       "25-30    190\n",
       "31-35     56\n",
       "36-40     13\n",
       "Name: count, dtype: int64"
      ]
     },
     "execution_count": 612,
     "metadata": {},
     "output_type": "execute_result"
    }
   ],
   "source": [
    "df['AgeGroup'].value_counts()"
   ]
  },
  {
   "cell_type": "code",
   "execution_count": 613,
   "id": "a022d2e2-0953-4199-99cc-45b661308b2e",
   "metadata": {},
   "outputs": [
    {
     "data": {
      "text/plain": [
       "AgeGroup\n",
       "19-24    3.041840e+06\n",
       "25-30    6.626023e+06\n",
       "31-35    5.113016e+06\n",
       "36-40    5.351744e+06\n",
       "Name: Salary, dtype: float64"
      ]
     },
     "execution_count": 613,
     "metadata": {},
     "output_type": "execute_result"
    }
   ],
   "source": [
    "df.groupby('AgeGroup',observed=False)['Salary'].mean()"
   ]
  },
  {
   "cell_type": "code",
   "execution_count": 614,
   "id": "eb630454-2960-4c75-87f3-067e1f9e9f55",
   "metadata": {},
   "outputs": [
    {
     "data": {
      "text/plain": [
       "AgeGroup\n",
       "19-24    1662360.0\n",
       "25-30    4842684.0\n",
       "31-35    3646250.0\n",
       "36-40    4088019.0\n",
       "Name: Salary, dtype: float64"
      ]
     },
     "execution_count": 614,
     "metadata": {},
     "output_type": "execute_result"
    }
   ],
   "source": [
    "df.groupby('AgeGroup',observed=False)['Salary'].median()"
   ]
  },
  {
   "cell_type": "code",
   "execution_count": 615,
   "id": "dddc5e6f-3032-42ca-b025-e782528b64aa",
   "metadata": {},
   "outputs": [
    {
     "data": {
      "text/html": [
       "<div>\n",
       "<style scoped>\n",
       "    .dataframe tbody tr th:only-of-type {\n",
       "        vertical-align: middle;\n",
       "    }\n",
       "\n",
       "    .dataframe tbody tr th {\n",
       "        vertical-align: top;\n",
       "    }\n",
       "\n",
       "    .dataframe thead th {\n",
       "        text-align: right;\n",
       "    }\n",
       "</style>\n",
       "<table border=\"1\" class=\"dataframe\">\n",
       "  <thead>\n",
       "    <tr style=\"text-align: right;\">\n",
       "      <th></th>\n",
       "      <th>count</th>\n",
       "      <th>mean</th>\n",
       "      <th>std</th>\n",
       "      <th>min</th>\n",
       "      <th>25%</th>\n",
       "      <th>50%</th>\n",
       "      <th>75%</th>\n",
       "      <th>max</th>\n",
       "    </tr>\n",
       "    <tr>\n",
       "      <th>AgeGroup</th>\n",
       "      <th></th>\n",
       "      <th></th>\n",
       "      <th></th>\n",
       "      <th></th>\n",
       "      <th></th>\n",
       "      <th></th>\n",
       "      <th></th>\n",
       "      <th></th>\n",
       "    </tr>\n",
       "  </thead>\n",
       "  <tbody>\n",
       "    <tr>\n",
       "      <th>19-24</th>\n",
       "      <td>197.0</td>\n",
       "      <td>3.041840e+06</td>\n",
       "      <td>3.552554e+06</td>\n",
       "      <td>30888.0</td>\n",
       "      <td>947276.00</td>\n",
       "      <td>1662360.0</td>\n",
       "      <td>3533333.0</td>\n",
       "      <td>16407501.0</td>\n",
       "    </tr>\n",
       "    <tr>\n",
       "      <th>25-30</th>\n",
       "      <td>190.0</td>\n",
       "      <td>6.626023e+06</td>\n",
       "      <td>5.811580e+06</td>\n",
       "      <td>55722.0</td>\n",
       "      <td>1534210.50</td>\n",
       "      <td>4842684.0</td>\n",
       "      <td>10126209.0</td>\n",
       "      <td>22970500.0</td>\n",
       "    </tr>\n",
       "    <tr>\n",
       "      <th>31-35</th>\n",
       "      <td>56.0</td>\n",
       "      <td>5.113016e+06</td>\n",
       "      <td>5.283815e+06</td>\n",
       "      <td>200600.0</td>\n",
       "      <td>1323709.25</td>\n",
       "      <td>3646250.0</td>\n",
       "      <td>6350000.0</td>\n",
       "      <td>22875000.0</td>\n",
       "    </tr>\n",
       "    <tr>\n",
       "      <th>36-40</th>\n",
       "      <td>13.0</td>\n",
       "      <td>5.351744e+06</td>\n",
       "      <td>6.508388e+06</td>\n",
       "      <td>222888.0</td>\n",
       "      <td>947726.00</td>\n",
       "      <td>4088019.0</td>\n",
       "      <td>5250000.0</td>\n",
       "      <td>25000000.0</td>\n",
       "    </tr>\n",
       "  </tbody>\n",
       "</table>\n",
       "</div>"
      ],
      "text/plain": [
       "          count          mean           std       min         25%        50%  \\\n",
       "AgeGroup                                                                       \n",
       "19-24     197.0  3.041840e+06  3.552554e+06   30888.0   947276.00  1662360.0   \n",
       "25-30     190.0  6.626023e+06  5.811580e+06   55722.0  1534210.50  4842684.0   \n",
       "31-35      56.0  5.113016e+06  5.283815e+06  200600.0  1323709.25  3646250.0   \n",
       "36-40      13.0  5.351744e+06  6.508388e+06  222888.0   947726.00  4088019.0   \n",
       "\n",
       "                 75%         max  \n",
       "AgeGroup                          \n",
       "19-24      3533333.0  16407501.0  \n",
       "25-30     10126209.0  22970500.0  \n",
       "31-35      6350000.0  22875000.0  \n",
       "36-40      5250000.0  25000000.0  "
      ]
     },
     "execution_count": 615,
     "metadata": {},
     "output_type": "execute_result"
    }
   ],
   "source": [
    "df.groupby('AgeGroup',observed=False)['Salary'].describe()"
   ]
  },
  {
   "cell_type": "code",
   "execution_count": 616,
   "id": "8ce09dd7-ab19-4b9d-813c-5bfc3e2ab9bf",
   "metadata": {},
   "outputs": [],
   "source": [
    "summary = df.groupby(\"Age\")[\"Salary\"].agg([\"mean\", \"median\", \"min\", \"max\", \"std\"])"
   ]
  },
  {
   "cell_type": "code",
   "execution_count": 617,
   "id": "380616cf-cd4c-4ba6-8e86-5b1286471c05",
   "metadata": {},
   "outputs": [
    {
     "data": {
      "text/html": [
       "<div>\n",
       "<style scoped>\n",
       "    .dataframe tbody tr th:only-of-type {\n",
       "        vertical-align: middle;\n",
       "    }\n",
       "\n",
       "    .dataframe tbody tr th {\n",
       "        vertical-align: top;\n",
       "    }\n",
       "\n",
       "    .dataframe thead th {\n",
       "        text-align: right;\n",
       "    }\n",
       "</style>\n",
       "<table border=\"1\" class=\"dataframe\">\n",
       "  <thead>\n",
       "    <tr style=\"text-align: right;\">\n",
       "      <th></th>\n",
       "      <th>mean</th>\n",
       "      <th>median</th>\n",
       "      <th>min</th>\n",
       "      <th>max</th>\n",
       "      <th>std</th>\n",
       "    </tr>\n",
       "    <tr>\n",
       "      <th>Age</th>\n",
       "      <th></th>\n",
       "      <th></th>\n",
       "      <th></th>\n",
       "      <th></th>\n",
       "      <th></th>\n",
       "    </tr>\n",
       "  </thead>\n",
       "  <tbody>\n",
       "    <tr>\n",
       "      <th>19</th>\n",
       "      <td>1.930440e+06</td>\n",
       "      <td>1930440.0</td>\n",
       "      <td>1733040</td>\n",
       "      <td>2127840</td>\n",
       "      <td>2.791658e+05</td>\n",
       "    </tr>\n",
       "    <tr>\n",
       "      <th>20</th>\n",
       "      <td>2.725791e+06</td>\n",
       "      <td>2481720.0</td>\n",
       "      <td>525093</td>\n",
       "      <td>5703600</td>\n",
       "      <td>1.510913e+06</td>\n",
       "    </tr>\n",
       "    <tr>\n",
       "      <th>21</th>\n",
       "      <td>2.067380e+06</td>\n",
       "      <td>1584480.0</td>\n",
       "      <td>525093</td>\n",
       "      <td>5758680</td>\n",
       "      <td>1.412350e+06</td>\n",
       "    </tr>\n",
       "    <tr>\n",
       "      <th>22</th>\n",
       "      <td>2.357963e+06</td>\n",
       "      <td>1793880.0</td>\n",
       "      <td>525093</td>\n",
       "      <td>6331404</td>\n",
       "      <td>1.517378e+06</td>\n",
       "    </tr>\n",
       "    <tr>\n",
       "      <th>23</th>\n",
       "      <td>2.171719e+06</td>\n",
       "      <td>1201440.0</td>\n",
       "      <td>30888</td>\n",
       "      <td>16000000</td>\n",
       "      <td>2.728808e+06</td>\n",
       "    </tr>\n",
       "  </tbody>\n",
       "</table>\n",
       "</div>"
      ],
      "text/plain": [
       "             mean     median      min       max           std\n",
       "Age                                                          \n",
       "19   1.930440e+06  1930440.0  1733040   2127840  2.791658e+05\n",
       "20   2.725791e+06  2481720.0   525093   5703600  1.510913e+06\n",
       "21   2.067380e+06  1584480.0   525093   5758680  1.412350e+06\n",
       "22   2.357963e+06  1793880.0   525093   6331404  1.517378e+06\n",
       "23   2.171719e+06  1201440.0    30888  16000000  2.728808e+06"
      ]
     },
     "execution_count": 617,
     "metadata": {},
     "output_type": "execute_result"
    }
   ],
   "source": [
    "summary.head()"
   ]
  },
  {
   "cell_type": "code",
   "execution_count": 618,
   "id": "78ed634d-fc89-4701-9b11-7ebfd0cadaa1",
   "metadata": {},
   "outputs": [
    {
     "name": "stdout",
     "output_type": "stream",
     "text": [
      "Range:\n",
      "Age             21\n",
      "Weight         146\n",
      "Salary    24969112\n",
      "dtype: int32\n",
      "\n",
      "Variance:\n",
      "Age       1.935484e+01\n",
      "Weight    6.937687e+02\n",
      "Salary    2.662690e+13\n",
      "dtype: float64\n",
      "\n",
      "Standard Deviation:\n",
      "Age       4.399414e+00\n",
      "Weight    2.633949e+01\n",
      "Salary    5.160126e+06\n",
      "dtype: float64\n",
      "\n",
      "Quartiles (25%, 50%, 75%):\n",
      "       Age  Weight     Salary\n",
      "0.25  24.0   200.0  1100602.0\n",
      "0.50  26.0   220.0  2880600.0\n",
      "0.75  30.0   240.0  6323553.0\n"
     ]
    }
   ],
   "source": [
    "\n",
    "df = pd.DataFrame(df)\n",
    "numerical_data = df2[['Age', 'Weight', 'Salary']]\n",
    "variance = numerical_data.var()\n",
    "std_deviation = numerical_data.std()\n",
    "range_values = numerical_data.max() - numerical_data.min()\n",
    "quartiles = numerical_data.quantile([0.25, 0.5, 0.75])\n",
    "\n",
    "print(f\"Range:\\n{range_values}\\n\")\n",
    "print(f\"Variance:\\n{variance}\\n\")\n",
    "print(f\"Standard Deviation:\\n{std_deviation}\\n\")\n",
    "print(f\"Quartiles (25%, 50%, 75%):\\n{quartiles}\")"
   ]
  },
  {
   "cell_type": "markdown",
   "id": "b96bec05-012e-4eaa-a4f4-79e66c0fd0ec",
   "metadata": {},
   "source": [
    "### IRIS Dataset"
   ]
  },
  {
   "cell_type": "markdown",
   "id": "701b0be8-6925-41a1-97d2-805b9b5d96e5",
   "metadata": {},
   "source": [
    "Write a Python program to display some basic statistical details like percentile,\n",
    "mean, standard deviation etc. of the species of ‘Iris-setosa’, ‘Iris-versicolor’ and ‘Iris-virginica’ of\n",
    "iris.csv dataset."
   ]
  },
  {
   "cell_type": "code",
   "execution_count": 619,
   "id": "4f2ff6e1-1b8d-4c48-be7a-af7610a48514",
   "metadata": {},
   "outputs": [],
   "source": [
    "df=pd.read_csv('iris.csv')"
   ]
  },
  {
   "cell_type": "code",
   "execution_count": 620,
   "id": "2c6cd495-4962-4100-be8a-3849f528ef5b",
   "metadata": {},
   "outputs": [
    {
     "data": {
      "text/html": [
       "<div>\n",
       "<style scoped>\n",
       "    .dataframe tbody tr th:only-of-type {\n",
       "        vertical-align: middle;\n",
       "    }\n",
       "\n",
       "    .dataframe tbody tr th {\n",
       "        vertical-align: top;\n",
       "    }\n",
       "\n",
       "    .dataframe thead th {\n",
       "        text-align: right;\n",
       "    }\n",
       "</style>\n",
       "<table border=\"1\" class=\"dataframe\">\n",
       "  <thead>\n",
       "    <tr style=\"text-align: right;\">\n",
       "      <th></th>\n",
       "      <th>Id</th>\n",
       "      <th>SepalLengthCm</th>\n",
       "      <th>SepalWidthCm</th>\n",
       "      <th>PetalLengthCm</th>\n",
       "      <th>PetalWidthCm</th>\n",
       "      <th>Species</th>\n",
       "    </tr>\n",
       "  </thead>\n",
       "  <tbody>\n",
       "    <tr>\n",
       "      <th>0</th>\n",
       "      <td>1</td>\n",
       "      <td>5.1</td>\n",
       "      <td>3.5</td>\n",
       "      <td>1.4</td>\n",
       "      <td>0.2</td>\n",
       "      <td>Iris-setosa</td>\n",
       "    </tr>\n",
       "    <tr>\n",
       "      <th>1</th>\n",
       "      <td>2</td>\n",
       "      <td>4.9</td>\n",
       "      <td>3.0</td>\n",
       "      <td>1.4</td>\n",
       "      <td>0.2</td>\n",
       "      <td>Iris-setosa</td>\n",
       "    </tr>\n",
       "    <tr>\n",
       "      <th>2</th>\n",
       "      <td>3</td>\n",
       "      <td>4.7</td>\n",
       "      <td>3.2</td>\n",
       "      <td>1.3</td>\n",
       "      <td>0.2</td>\n",
       "      <td>Iris-setosa</td>\n",
       "    </tr>\n",
       "    <tr>\n",
       "      <th>3</th>\n",
       "      <td>4</td>\n",
       "      <td>4.6</td>\n",
       "      <td>3.1</td>\n",
       "      <td>1.5</td>\n",
       "      <td>0.2</td>\n",
       "      <td>Iris-setosa</td>\n",
       "    </tr>\n",
       "    <tr>\n",
       "      <th>4</th>\n",
       "      <td>5</td>\n",
       "      <td>5.0</td>\n",
       "      <td>3.6</td>\n",
       "      <td>1.4</td>\n",
       "      <td>0.2</td>\n",
       "      <td>Iris-setosa</td>\n",
       "    </tr>\n",
       "  </tbody>\n",
       "</table>\n",
       "</div>"
      ],
      "text/plain": [
       "   Id  SepalLengthCm  SepalWidthCm  PetalLengthCm  PetalWidthCm      Species\n",
       "0   1            5.1           3.5            1.4           0.2  Iris-setosa\n",
       "1   2            4.9           3.0            1.4           0.2  Iris-setosa\n",
       "2   3            4.7           3.2            1.3           0.2  Iris-setosa\n",
       "3   4            4.6           3.1            1.5           0.2  Iris-setosa\n",
       "4   5            5.0           3.6            1.4           0.2  Iris-setosa"
      ]
     },
     "execution_count": 620,
     "metadata": {},
     "output_type": "execute_result"
    }
   ],
   "source": [
    "df.head()"
   ]
  },
  {
   "cell_type": "code",
   "execution_count": 621,
   "id": "3053f7bb-966e-46b5-88c2-5994317586ef",
   "metadata": {},
   "outputs": [
    {
     "data": {
      "text/plain": [
       "Species\n",
       "Iris-setosa        50\n",
       "Iris-versicolor    50\n",
       "Iris-virginica     50\n",
       "Name: count, dtype: int64"
      ]
     },
     "execution_count": 621,
     "metadata": {},
     "output_type": "execute_result"
    }
   ],
   "source": [
    "df['Species'].value_counts()"
   ]
  },
  {
   "cell_type": "code",
   "execution_count": 622,
   "id": "737b89dd-56d5-4d29-871d-c32cd185e9df",
   "metadata": {},
   "outputs": [
    {
     "data": {
      "text/plain": [
       "(150, 6)"
      ]
     },
     "execution_count": 622,
     "metadata": {},
     "output_type": "execute_result"
    }
   ],
   "source": [
    "df.shape"
   ]
  },
  {
   "cell_type": "code",
   "execution_count": 623,
   "id": "500b17df-66d3-4077-a1c4-32c9d3714e15",
   "metadata": {},
   "outputs": [
    {
     "data": {
      "text/plain": [
       "Id               0\n",
       "SepalLengthCm    0\n",
       "SepalWidthCm     0\n",
       "PetalLengthCm    0\n",
       "PetalWidthCm     0\n",
       "Species          0\n",
       "dtype: int64"
      ]
     },
     "execution_count": 623,
     "metadata": {},
     "output_type": "execute_result"
    }
   ],
   "source": [
    "df.isnull().sum()"
   ]
  },
  {
   "cell_type": "markdown",
   "id": "96ae783c-4232-4e47-b298-8317e94a2c6a",
   "metadata": {},
   "source": [
    "#### No Null value exists in Iris dataset "
   ]
  },
  {
   "cell_type": "markdown",
   "id": "313e2943-901b-4654-9630-922e4c32df0e",
   "metadata": {},
   "source": [
    "#### Thus, Introducing Null Values in columns to Handle Missing values "
   ]
  },
  {
   "cell_type": "code",
   "execution_count": 624,
   "id": "eb06a74a-2add-424b-a4b1-8af7b45293e8",
   "metadata": {},
   "outputs": [
    {
     "data": {
      "text/plain": [
       "Id               6\n",
       "SepalLengthCm    2\n",
       "SepalWidthCm     3\n",
       "PetalLengthCm    4\n",
       "PetalWidthCm     6\n",
       "Species          8\n",
       "dtype: int64"
      ]
     },
     "execution_count": 624,
     "metadata": {},
     "output_type": "execute_result"
    }
   ],
   "source": [
    "def introduce_null_values(df,maxnull=1):  #by default1 incase not passed \n",
    "    for col in df.columns:\n",
    "        null_count=np.random.randint(1,maxnull+1) #\n",
    "        \n",
    "        #randomly choosing the indices on which the null values are to be set \n",
    "        indices=np.random.choice(df.index,replace=False,size=null_count)\n",
    "        df.loc[indices,col]=np.nan\n",
    "\n",
    "    return df\n",
    "df=introduce_null_values(df,12)\n",
    "df.isnull().sum()"
   ]
  },
  {
   "cell_type": "markdown",
   "id": "25195ae0-f11a-4dac-a993-ec6340218553",
   "metadata": {},
   "source": [
    "###  Handling Missing Values (Numerical and Categorical)"
   ]
  },
  {
   "cell_type": "code",
   "execution_count": 625,
   "id": "cb44c0f4-7202-4881-9ed5-53783c32e918",
   "metadata": {},
   "outputs": [
    {
     "data": {
      "text/plain": [
       "Id               float64\n",
       "SepalLengthCm    float64\n",
       "SepalWidthCm     float64\n",
       "PetalLengthCm    float64\n",
       "PetalWidthCm     float64\n",
       "Species           object\n",
       "dtype: object"
      ]
     },
     "execution_count": 625,
     "metadata": {},
     "output_type": "execute_result"
    }
   ],
   "source": [
    "df.dtypes"
   ]
  },
  {
   "cell_type": "code",
   "execution_count": 626,
   "id": "3b1348a7-ac27-47f3-8118-e01d2e973e80",
   "metadata": {},
   "outputs": [
    {
     "data": {
      "text/plain": [
       "Id               0\n",
       "SepalLengthCm    0\n",
       "SepalWidthCm     0\n",
       "PetalLengthCm    0\n",
       "PetalWidthCm     0\n",
       "Species          0\n",
       "dtype: int64"
      ]
     },
     "execution_count": 626,
     "metadata": {},
     "output_type": "execute_result"
    }
   ],
   "source": [
    "for col in df.columns:\n",
    "    if df[col].dtype==\"float64\":\n",
    "        df[col]=df[col].fillna(df[col].mean())\n",
    "\n",
    "df['Species']=df['Species'].astype('string')\n",
    "df['Species']=df['Species'].fillna(df['Species'].mode()[0])\n",
    "df.isnull().sum()"
   ]
  },
  {
   "cell_type": "code",
   "execution_count": 630,
   "id": "7d7433dc-c730-483f-b4ea-7cb436364d1b",
   "metadata": {},
   "outputs": [
    {
     "data": {
      "text/html": [
       "<div>\n",
       "<style scoped>\n",
       "    .dataframe tbody tr th:only-of-type {\n",
       "        vertical-align: middle;\n",
       "    }\n",
       "\n",
       "    .dataframe tbody tr th {\n",
       "        vertical-align: top;\n",
       "    }\n",
       "\n",
       "    .dataframe thead tr th {\n",
       "        text-align: left;\n",
       "    }\n",
       "\n",
       "    .dataframe thead tr:last-of-type th {\n",
       "        text-align: right;\n",
       "    }\n",
       "</style>\n",
       "<table border=\"1\" class=\"dataframe\">\n",
       "  <thead>\n",
       "    <tr>\n",
       "      <th></th>\n",
       "      <th colspan=\"3\" halign=\"left\">SepalLengthCm</th>\n",
       "      <th colspan=\"3\" halign=\"left\">SepalWidthCm</th>\n",
       "      <th colspan=\"3\" halign=\"left\">PetalLengthCm</th>\n",
       "      <th colspan=\"3\" halign=\"left\">PetalWidthCm</th>\n",
       "    </tr>\n",
       "    <tr>\n",
       "      <th></th>\n",
       "      <th>mean</th>\n",
       "      <th>median</th>\n",
       "      <th>std</th>\n",
       "      <th>mean</th>\n",
       "      <th>median</th>\n",
       "      <th>std</th>\n",
       "      <th>mean</th>\n",
       "      <th>median</th>\n",
       "      <th>std</th>\n",
       "      <th>mean</th>\n",
       "      <th>median</th>\n",
       "      <th>std</th>\n",
       "    </tr>\n",
       "    <tr>\n",
       "      <th>Species</th>\n",
       "      <th></th>\n",
       "      <th></th>\n",
       "      <th></th>\n",
       "      <th></th>\n",
       "      <th></th>\n",
       "      <th></th>\n",
       "      <th></th>\n",
       "      <th></th>\n",
       "      <th></th>\n",
       "      <th></th>\n",
       "      <th></th>\n",
       "      <th></th>\n",
       "    </tr>\n",
       "  </thead>\n",
       "  <tbody>\n",
       "    <tr>\n",
       "      <th>Iris-setosa</th>\n",
       "      <td>5.133929</td>\n",
       "      <td>5.05</td>\n",
       "      <td>0.513907</td>\n",
       "      <td>3.372413</td>\n",
       "      <td>3.4</td>\n",
       "      <td>0.387447</td>\n",
       "      <td>1.877825</td>\n",
       "      <td>1.5</td>\n",
       "      <td>1.154875</td>\n",
       "      <td>0.457366</td>\n",
       "      <td>0.2</td>\n",
       "      <td>0.534548</td>\n",
       "    </tr>\n",
       "    <tr>\n",
       "      <th>Iris-versicolor</th>\n",
       "      <td>5.913485</td>\n",
       "      <td>5.90</td>\n",
       "      <td>0.508746</td>\n",
       "      <td>2.760747</td>\n",
       "      <td>2.8</td>\n",
       "      <td>0.321094</td>\n",
       "      <td>4.245031</td>\n",
       "      <td>4.3</td>\n",
       "      <td>0.488899</td>\n",
       "      <td>1.327660</td>\n",
       "      <td>1.3</td>\n",
       "      <td>0.202916</td>\n",
       "    </tr>\n",
       "    <tr>\n",
       "      <th>Iris-virginica</th>\n",
       "      <td>6.587953</td>\n",
       "      <td>6.50</td>\n",
       "      <td>0.663002</td>\n",
       "      <td>2.971385</td>\n",
       "      <td>3.0</td>\n",
       "      <td>0.325862</td>\n",
       "      <td>5.511877</td>\n",
       "      <td>5.5</td>\n",
       "      <td>0.619558</td>\n",
       "      <td>1.970479</td>\n",
       "      <td>2.0</td>\n",
       "      <td>0.337481</td>\n",
       "    </tr>\n",
       "  </tbody>\n",
       "</table>\n",
       "</div>"
      ],
      "text/plain": [
       "                SepalLengthCm                  SepalWidthCm                   \\\n",
       "                         mean median       std         mean median       std   \n",
       "Species                                                                        \n",
       "Iris-setosa          5.133929   5.05  0.513907     3.372413    3.4  0.387447   \n",
       "Iris-versicolor      5.913485   5.90  0.508746     2.760747    2.8  0.321094   \n",
       "Iris-virginica       6.587953   6.50  0.663002     2.971385    3.0  0.325862   \n",
       "\n",
       "                PetalLengthCm                  PetalWidthCm                   \n",
       "                         mean median       std         mean median       std  \n",
       "Species                                                                       \n",
       "Iris-setosa          1.877825    1.5  1.154875     0.457366    0.2  0.534548  \n",
       "Iris-versicolor      4.245031    4.3  0.488899     1.327660    1.3  0.202916  \n",
       "Iris-virginica       5.511877    5.5  0.619558     1.970479    2.0  0.337481  "
      ]
     },
     "execution_count": 630,
     "metadata": {},
     "output_type": "execute_result"
    }
   ],
   "source": [
    "df_new = df.groupby('Species')[['SepalLengthCm', 'SepalWidthCm', 'PetalLengthCm', 'PetalWidthCm']].agg(\n",
    "    {'mean','median', 'std'})\n",
    "df_new.head()"
   ]
  },
  {
   "cell_type": "code",
   "execution_count": 631,
   "id": "889828f4-90f0-4252-b6e1-e85bc6dbe42f",
   "metadata": {},
   "outputs": [
    {
     "data": {
      "text/html": [
       "<div>\n",
       "<style scoped>\n",
       "    .dataframe tbody tr th:only-of-type {\n",
       "        vertical-align: middle;\n",
       "    }\n",
       "\n",
       "    .dataframe tbody tr th {\n",
       "        vertical-align: top;\n",
       "    }\n",
       "\n",
       "    .dataframe thead th {\n",
       "        text-align: right;\n",
       "    }\n",
       "</style>\n",
       "<table border=\"1\" class=\"dataframe\">\n",
       "  <thead>\n",
       "    <tr style=\"text-align: right;\">\n",
       "      <th></th>\n",
       "      <th>Species</th>\n",
       "      <th>Iris-setosa</th>\n",
       "      <th>Iris-versicolor</th>\n",
       "      <th>Iris-virginica</th>\n",
       "    </tr>\n",
       "  </thead>\n",
       "  <tbody>\n",
       "    <tr>\n",
       "      <th rowspan=\"8\" valign=\"top\">SepalLengthCm</th>\n",
       "      <th>count</th>\n",
       "      <td>56.000000</td>\n",
       "      <td>47.000000</td>\n",
       "      <td>47.000000</td>\n",
       "    </tr>\n",
       "    <tr>\n",
       "      <th>mean</th>\n",
       "      <td>5.133929</td>\n",
       "      <td>5.913485</td>\n",
       "      <td>6.587953</td>\n",
       "    </tr>\n",
       "    <tr>\n",
       "      <th>std</th>\n",
       "      <td>0.513907</td>\n",
       "      <td>0.508746</td>\n",
       "      <td>0.663002</td>\n",
       "    </tr>\n",
       "    <tr>\n",
       "      <th>min</th>\n",
       "      <td>4.300000</td>\n",
       "      <td>4.900000</td>\n",
       "      <td>4.900000</td>\n",
       "    </tr>\n",
       "    <tr>\n",
       "      <th>25%</th>\n",
       "      <td>4.800000</td>\n",
       "      <td>5.600000</td>\n",
       "      <td>6.150000</td>\n",
       "    </tr>\n",
       "    <tr>\n",
       "      <th>50%</th>\n",
       "      <td>5.050000</td>\n",
       "      <td>5.900000</td>\n",
       "      <td>6.500000</td>\n",
       "    </tr>\n",
       "    <tr>\n",
       "      <th>75%</th>\n",
       "      <td>5.400000</td>\n",
       "      <td>6.250000</td>\n",
       "      <td>7.000000</td>\n",
       "    </tr>\n",
       "    <tr>\n",
       "      <th>max</th>\n",
       "      <td>6.600000</td>\n",
       "      <td>7.000000</td>\n",
       "      <td>7.900000</td>\n",
       "    </tr>\n",
       "    <tr>\n",
       "      <th rowspan=\"8\" valign=\"top\">SepalWidthCm</th>\n",
       "      <th>count</th>\n",
       "      <td>56.000000</td>\n",
       "      <td>47.000000</td>\n",
       "      <td>47.000000</td>\n",
       "    </tr>\n",
       "    <tr>\n",
       "      <th>mean</th>\n",
       "      <td>3.372413</td>\n",
       "      <td>2.760747</td>\n",
       "      <td>2.971385</td>\n",
       "    </tr>\n",
       "    <tr>\n",
       "      <th>std</th>\n",
       "      <td>0.387447</td>\n",
       "      <td>0.321094</td>\n",
       "      <td>0.325862</td>\n",
       "    </tr>\n",
       "    <tr>\n",
       "      <th>min</th>\n",
       "      <td>2.300000</td>\n",
       "      <td>2.000000</td>\n",
       "      <td>2.200000</td>\n",
       "    </tr>\n",
       "    <tr>\n",
       "      <th>25%</th>\n",
       "      <td>3.100000</td>\n",
       "      <td>2.500000</td>\n",
       "      <td>2.800000</td>\n",
       "    </tr>\n",
       "    <tr>\n",
       "      <th>50%</th>\n",
       "      <td>3.400000</td>\n",
       "      <td>2.800000</td>\n",
       "      <td>3.000000</td>\n",
       "    </tr>\n",
       "    <tr>\n",
       "      <th>75%</th>\n",
       "      <td>3.600000</td>\n",
       "      <td>3.000000</td>\n",
       "      <td>3.100000</td>\n",
       "    </tr>\n",
       "    <tr>\n",
       "      <th>max</th>\n",
       "      <td>4.400000</td>\n",
       "      <td>3.400000</td>\n",
       "      <td>3.800000</td>\n",
       "    </tr>\n",
       "    <tr>\n",
       "      <th rowspan=\"8\" valign=\"top\">PetalLengthCm</th>\n",
       "      <th>count</th>\n",
       "      <td>56.000000</td>\n",
       "      <td>47.000000</td>\n",
       "      <td>47.000000</td>\n",
       "    </tr>\n",
       "    <tr>\n",
       "      <th>mean</th>\n",
       "      <td>1.877825</td>\n",
       "      <td>4.245031</td>\n",
       "      <td>5.511877</td>\n",
       "    </tr>\n",
       "    <tr>\n",
       "      <th>std</th>\n",
       "      <td>1.154875</td>\n",
       "      <td>0.488899</td>\n",
       "      <td>0.619558</td>\n",
       "    </tr>\n",
       "    <tr>\n",
       "      <th>min</th>\n",
       "      <td>1.000000</td>\n",
       "      <td>3.000000</td>\n",
       "      <td>3.758219</td>\n",
       "    </tr>\n",
       "    <tr>\n",
       "      <th>25%</th>\n",
       "      <td>1.400000</td>\n",
       "      <td>3.950000</td>\n",
       "      <td>5.100000</td>\n",
       "    </tr>\n",
       "    <tr>\n",
       "      <th>50%</th>\n",
       "      <td>1.500000</td>\n",
       "      <td>4.300000</td>\n",
       "      <td>5.500000</td>\n",
       "    </tr>\n",
       "    <tr>\n",
       "      <th>75%</th>\n",
       "      <td>1.600000</td>\n",
       "      <td>4.600000</td>\n",
       "      <td>5.850000</td>\n",
       "    </tr>\n",
       "    <tr>\n",
       "      <th>max</th>\n",
       "      <td>6.000000</td>\n",
       "      <td>5.100000</td>\n",
       "      <td>6.900000</td>\n",
       "    </tr>\n",
       "    <tr>\n",
       "      <th rowspan=\"8\" valign=\"top\">PetalWidthCm</th>\n",
       "      <th>count</th>\n",
       "      <td>56.000000</td>\n",
       "      <td>47.000000</td>\n",
       "      <td>47.000000</td>\n",
       "    </tr>\n",
       "    <tr>\n",
       "      <th>mean</th>\n",
       "      <td>0.457366</td>\n",
       "      <td>1.327660</td>\n",
       "      <td>1.970479</td>\n",
       "    </tr>\n",
       "    <tr>\n",
       "      <th>std</th>\n",
       "      <td>0.534548</td>\n",
       "      <td>0.202916</td>\n",
       "      <td>0.337481</td>\n",
       "    </tr>\n",
       "    <tr>\n",
       "      <th>min</th>\n",
       "      <td>0.100000</td>\n",
       "      <td>1.000000</td>\n",
       "      <td>1.204167</td>\n",
       "    </tr>\n",
       "    <tr>\n",
       "      <th>25%</th>\n",
       "      <td>0.200000</td>\n",
       "      <td>1.200000</td>\n",
       "      <td>1.800000</td>\n",
       "    </tr>\n",
       "    <tr>\n",
       "      <th>50%</th>\n",
       "      <td>0.200000</td>\n",
       "      <td>1.300000</td>\n",
       "      <td>2.000000</td>\n",
       "    </tr>\n",
       "    <tr>\n",
       "      <th>75%</th>\n",
       "      <td>0.400000</td>\n",
       "      <td>1.500000</td>\n",
       "      <td>2.300000</td>\n",
       "    </tr>\n",
       "    <tr>\n",
       "      <th>max</th>\n",
       "      <td>2.500000</td>\n",
       "      <td>1.800000</td>\n",
       "      <td>2.500000</td>\n",
       "    </tr>\n",
       "  </tbody>\n",
       "</table>\n",
       "</div>"
      ],
      "text/plain": [
       "Species              Iris-setosa  Iris-versicolor  Iris-virginica\n",
       "SepalLengthCm count    56.000000        47.000000       47.000000\n",
       "              mean      5.133929         5.913485        6.587953\n",
       "              std       0.513907         0.508746        0.663002\n",
       "              min       4.300000         4.900000        4.900000\n",
       "              25%       4.800000         5.600000        6.150000\n",
       "              50%       5.050000         5.900000        6.500000\n",
       "              75%       5.400000         6.250000        7.000000\n",
       "              max       6.600000         7.000000        7.900000\n",
       "SepalWidthCm  count    56.000000        47.000000       47.000000\n",
       "              mean      3.372413         2.760747        2.971385\n",
       "              std       0.387447         0.321094        0.325862\n",
       "              min       2.300000         2.000000        2.200000\n",
       "              25%       3.100000         2.500000        2.800000\n",
       "              50%       3.400000         2.800000        3.000000\n",
       "              75%       3.600000         3.000000        3.100000\n",
       "              max       4.400000         3.400000        3.800000\n",
       "PetalLengthCm count    56.000000        47.000000       47.000000\n",
       "              mean      1.877825         4.245031        5.511877\n",
       "              std       1.154875         0.488899        0.619558\n",
       "              min       1.000000         3.000000        3.758219\n",
       "              25%       1.400000         3.950000        5.100000\n",
       "              50%       1.500000         4.300000        5.500000\n",
       "              75%       1.600000         4.600000        5.850000\n",
       "              max       6.000000         5.100000        6.900000\n",
       "PetalWidthCm  count    56.000000        47.000000       47.000000\n",
       "              mean      0.457366         1.327660        1.970479\n",
       "              std       0.534548         0.202916        0.337481\n",
       "              min       0.100000         1.000000        1.204167\n",
       "              25%       0.200000         1.200000        1.800000\n",
       "              50%       0.200000         1.300000        2.000000\n",
       "              75%       0.400000         1.500000        2.300000\n",
       "              max       2.500000         1.800000        2.500000"
      ]
     },
     "execution_count": 631,
     "metadata": {},
     "output_type": "execute_result"
    }
   ],
   "source": [
    "numeric_cols = ['SepalLengthCm', 'SepalWidthCm', 'PetalLengthCm', 'PetalWidthCm']\n",
    "\n",
    "# Group by 'Species' and calculate statistics\n",
    "summary_stats = df.groupby(\"Species\")[numeric_cols].describe(percentiles=[0.25, 0.5, 0.75])\n",
    "summary_stats.head().transpose()\n"
   ]
  },
  {
   "cell_type": "code",
   "execution_count": null,
   "id": "0bd92535-7148-4bdb-949e-0464f2262008",
   "metadata": {},
   "outputs": [],
   "source": []
  },
  {
   "cell_type": "code",
   "execution_count": null,
   "id": "3da49d13-b09c-4522-af7f-0991b4644f53",
   "metadata": {},
   "outputs": [],
   "source": []
  },
  {
   "cell_type": "code",
   "execution_count": null,
   "id": "ab889507-26ec-46cc-9145-4af1916d6382",
   "metadata": {},
   "outputs": [],
   "source": []
  }
 ],
 "metadata": {
  "kernelspec": {
   "display_name": "Python 3 (ipykernel)",
   "language": "python",
   "name": "python3"
  },
  "language_info": {
   "codemirror_mode": {
    "name": "ipython",
    "version": 3
   },
   "file_extension": ".py",
   "mimetype": "text/x-python",
   "name": "python",
   "nbconvert_exporter": "python",
   "pygments_lexer": "ipython3",
   "version": "3.12.4"
  }
 },
 "nbformat": 4,
 "nbformat_minor": 5
}
