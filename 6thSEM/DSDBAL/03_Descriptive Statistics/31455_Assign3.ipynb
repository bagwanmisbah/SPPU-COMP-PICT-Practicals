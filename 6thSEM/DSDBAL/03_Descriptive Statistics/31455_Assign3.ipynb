{
 "cells": [
  {
   "cell_type": "markdown",
   "id": "72ccc8cd-21fa-4877-af50-68e19dbbebdf",
   "metadata": {},
   "source": [
    "# DSDBAL ASSIGNMENT NO. 3"
   ]
  },
  {
   "cell_type": "markdown",
   "id": "1d7799f8-921d-4bcd-a0c3-fe43d5d21433",
   "metadata": {},
   "source": [
    "## 1. Importing all the required Python Libraries."
   ]
  },
  {
   "cell_type": "code",
   "execution_count": 394,
   "id": "0130e406-1c49-467a-86f6-e12d2e50d967",
   "metadata": {},
   "outputs": [],
   "source": [
    "import numpy as np\n",
    "import pandas as pd"
   ]
  },
  {
   "cell_type": "markdown",
   "id": "18ce0f10-4fd7-4a3f-8f8f-ebdfd92a5bd6",
   "metadata": {},
   "source": [
    "## 2. Loading the Dataset into pandas’ data frame."
   ]
  },
  {
   "cell_type": "code",
   "execution_count": 395,
   "id": "18d6f8b4-9dd7-4cfb-9990-b0a6617df808",
   "metadata": {},
   "outputs": [],
   "source": [
    "df=pd.read_csv('nba.csv')"
   ]
  },
  {
   "cell_type": "code",
   "execution_count": 396,
   "id": "a2ae325b-2bd5-45fb-9932-868cbad52cad",
   "metadata": {},
   "outputs": [
    {
     "data": {
      "text/html": [
       "<div>\n",
       "<style scoped>\n",
       "    .dataframe tbody tr th:only-of-type {\n",
       "        vertical-align: middle;\n",
       "    }\n",
       "\n",
       "    .dataframe tbody tr th {\n",
       "        vertical-align: top;\n",
       "    }\n",
       "\n",
       "    .dataframe thead th {\n",
       "        text-align: right;\n",
       "    }\n",
       "</style>\n",
       "<table border=\"1\" class=\"dataframe\">\n",
       "  <thead>\n",
       "    <tr style=\"text-align: right;\">\n",
       "      <th></th>\n",
       "      <th>Name</th>\n",
       "      <th>Team</th>\n",
       "      <th>Number</th>\n",
       "      <th>Position</th>\n",
       "      <th>Age</th>\n",
       "      <th>Height</th>\n",
       "      <th>Weight</th>\n",
       "      <th>College</th>\n",
       "      <th>Salary</th>\n",
       "    </tr>\n",
       "  </thead>\n",
       "  <tbody>\n",
       "    <tr>\n",
       "      <th>0</th>\n",
       "      <td>Avery Bradley</td>\n",
       "      <td>Boston Celtics</td>\n",
       "      <td>0.0</td>\n",
       "      <td>PG</td>\n",
       "      <td>25.0</td>\n",
       "      <td>6-2</td>\n",
       "      <td>180.0</td>\n",
       "      <td>Texas</td>\n",
       "      <td>7730337.0</td>\n",
       "    </tr>\n",
       "    <tr>\n",
       "      <th>1</th>\n",
       "      <td>Jae Crowder</td>\n",
       "      <td>Boston Celtics</td>\n",
       "      <td>99.0</td>\n",
       "      <td>SF</td>\n",
       "      <td>25.0</td>\n",
       "      <td>6-6</td>\n",
       "      <td>235.0</td>\n",
       "      <td>Marquette</td>\n",
       "      <td>6796117.0</td>\n",
       "    </tr>\n",
       "    <tr>\n",
       "      <th>2</th>\n",
       "      <td>John Holland</td>\n",
       "      <td>Boston Celtics</td>\n",
       "      <td>30.0</td>\n",
       "      <td>SG</td>\n",
       "      <td>27.0</td>\n",
       "      <td>6-5</td>\n",
       "      <td>205.0</td>\n",
       "      <td>Boston University</td>\n",
       "      <td>NaN</td>\n",
       "    </tr>\n",
       "    <tr>\n",
       "      <th>3</th>\n",
       "      <td>R.J. Hunter</td>\n",
       "      <td>Boston Celtics</td>\n",
       "      <td>28.0</td>\n",
       "      <td>SG</td>\n",
       "      <td>22.0</td>\n",
       "      <td>6-5</td>\n",
       "      <td>185.0</td>\n",
       "      <td>Georgia State</td>\n",
       "      <td>1148640.0</td>\n",
       "    </tr>\n",
       "    <tr>\n",
       "      <th>4</th>\n",
       "      <td>Jonas Jerebko</td>\n",
       "      <td>Boston Celtics</td>\n",
       "      <td>8.0</td>\n",
       "      <td>PF</td>\n",
       "      <td>29.0</td>\n",
       "      <td>6-10</td>\n",
       "      <td>231.0</td>\n",
       "      <td>NaN</td>\n",
       "      <td>5000000.0</td>\n",
       "    </tr>\n",
       "  </tbody>\n",
       "</table>\n",
       "</div>"
      ],
      "text/plain": [
       "            Name            Team  Number Position   Age Height  Weight  \\\n",
       "0  Avery Bradley  Boston Celtics     0.0       PG  25.0    6-2   180.0   \n",
       "1    Jae Crowder  Boston Celtics    99.0       SF  25.0    6-6   235.0   \n",
       "2   John Holland  Boston Celtics    30.0       SG  27.0    6-5   205.0   \n",
       "3    R.J. Hunter  Boston Celtics    28.0       SG  22.0    6-5   185.0   \n",
       "4  Jonas Jerebko  Boston Celtics     8.0       PF  29.0   6-10   231.0   \n",
       "\n",
       "             College     Salary  \n",
       "0              Texas  7730337.0  \n",
       "1          Marquette  6796117.0  \n",
       "2  Boston University        NaN  \n",
       "3      Georgia State  1148640.0  \n",
       "4                NaN  5000000.0  "
      ]
     },
     "execution_count": 396,
     "metadata": {},
     "output_type": "execute_result"
    }
   ],
   "source": [
    "df.head()"
   ]
  },
  {
   "cell_type": "markdown",
   "id": "2da11679-acec-4be3-b66e-2ec02f77b335",
   "metadata": {},
   "source": [
    "Datatypes like Number ,Age and Weight are in Float that can be converted to Int datatype as all have \n",
    "Height has (a-b) style that can be rewritten as 6.2 "
   ]
  },
  {
   "cell_type": "code",
   "execution_count": 397,
   "id": "34f27d66-51b7-45c0-ab21-fe172f80fd72",
   "metadata": {},
   "outputs": [
    {
     "data": {
      "text/plain": [
       "(458, 9)"
      ]
     },
     "execution_count": 397,
     "metadata": {},
     "output_type": "execute_result"
    }
   ],
   "source": [
    "df.shape"
   ]
  },
  {
   "cell_type": "markdown",
   "id": "a7f875df-867c-4b5f-b8f0-0598e2304b35",
   "metadata": {},
   "source": [
    "The dataset has a total of 458 rows and 9 attributes "
   ]
  },
  {
   "cell_type": "markdown",
   "id": "e1015b95-86f7-48f5-9f20-35d8ef5daaa5",
   "metadata": {},
   "source": [
    "## 3.Handling Missing Values"
   ]
  },
  {
   "cell_type": "code",
   "execution_count": 398,
   "id": "610412f9-7640-4d69-9cea-c6811b9275b1",
   "metadata": {},
   "outputs": [
    {
     "data": {
      "text/plain": [
       "Name         1\n",
       "Team         1\n",
       "Number       1\n",
       "Position     1\n",
       "Age          1\n",
       "Height       1\n",
       "Weight       1\n",
       "College     85\n",
       "Salary      12\n",
       "dtype: int64"
      ]
     },
     "execution_count": 398,
     "metadata": {},
     "output_type": "execute_result"
    }
   ],
   "source": [
    "df.isnull().sum()"
   ]
  },
  {
   "cell_type": "code",
   "execution_count": 399,
   "id": "6251aadd-d67a-4ed1-a2a2-43f027990a12",
   "metadata": {},
   "outputs": [
    {
     "data": {
      "text/plain": [
       "Name         1\n",
       "Team         1\n",
       "Number       0\n",
       "Position     1\n",
       "Age          0\n",
       "Height       1\n",
       "Weight       0\n",
       "College     85\n",
       "Salary       0\n",
       "dtype: int64"
      ]
     },
     "execution_count": 399,
     "metadata": {},
     "output_type": "execute_result"
    }
   ],
   "source": [
    "for col in df.columns:\n",
    "    if df[col].dtype==\"float64\":  # Check if column is float type\n",
    "        col_mean = df[col].mean()  # Calculate mean\n",
    "        df[col] = df[col].fillna(col_mean)  \n",
    "df.isnull().sum()"
   ]
  },
  {
   "cell_type": "code",
   "execution_count": 400,
   "id": "f225fefd-ff86-4e01-a413-dc52ce07e570",
   "metadata": {},
   "outputs": [],
   "source": [
    "for col in df.columns:\n",
    "    if df[col].dtype=='object':\n",
    "        df[col]=df[col].fillna(df[col].mode()[0])"
   ]
  },
  {
   "cell_type": "code",
   "execution_count": 401,
   "id": "a73781e8-4bbf-4694-9a4c-4f23aeab22c2",
   "metadata": {},
   "outputs": [
    {
     "data": {
      "text/plain": [
       "Name        0\n",
       "Team        0\n",
       "Number      0\n",
       "Position    0\n",
       "Age         0\n",
       "Height      0\n",
       "Weight      0\n",
       "College     0\n",
       "Salary      0\n",
       "dtype: int64"
      ]
     },
     "execution_count": 401,
     "metadata": {},
     "output_type": "execute_result"
    }
   ],
   "source": [
    "df.isnull().sum()"
   ]
  },
  {
   "cell_type": "markdown",
   "id": "09d5bf74-ab67-4d60-9c21-a7e864d7c21e",
   "metadata": {},
   "source": [
    "## 4.Applying Proper Type Conversions"
   ]
  },
  {
   "cell_type": "code",
   "execution_count": 402,
   "id": "49e93ca7-e347-485f-b2c7-f9cbfd26c69c",
   "metadata": {},
   "outputs": [],
   "source": [
    "columns_to_convert = [\"Number\", \"Age\", \"Weight\",\"Salary\"]  # List of columns to convert\n",
    "\n",
    "for col in columns_to_convert:\n",
    "    df[col]=df[col].astype(int)"
   ]
  },
  {
   "cell_type": "code",
   "execution_count": 403,
   "id": "854e61ea-2348-4318-9890-b07f7b03b918",
   "metadata": {},
   "outputs": [
    {
     "data": {
      "text/plain": [
       "Name        object\n",
       "Team        object\n",
       "Number       int32\n",
       "Position    object\n",
       "Age          int32\n",
       "Height      object\n",
       "Weight       int32\n",
       "College     object\n",
       "Salary       int32\n",
       "dtype: object"
      ]
     },
     "execution_count": 403,
     "metadata": {},
     "output_type": "execute_result"
    }
   ],
   "source": [
    "df.dtypes"
   ]
  },
  {
   "cell_type": "code",
   "execution_count": 404,
   "id": "52bf7786-b8b2-4030-a22e-560e3fdd981e",
   "metadata": {},
   "outputs": [
    {
     "data": {
      "text/plain": [
       "Name        string[python]\n",
       "Team        string[python]\n",
       "Number               int32\n",
       "Position    string[python]\n",
       "Age                  int32\n",
       "Height      string[python]\n",
       "Weight               int32\n",
       "College     string[python]\n",
       "Salary               int32\n",
       "dtype: object"
      ]
     },
     "execution_count": 404,
     "metadata": {},
     "output_type": "execute_result"
    }
   ],
   "source": [
    "for col in df.columns:\n",
    "    if df[col].dtype=='object':\n",
    "        df[col]=df[col].astype('string')\n",
    "df.dtypes"
   ]
  },
  {
   "cell_type": "markdown",
   "id": "143de581-acf8-4393-8a19-1b133503ba5d",
   "metadata": {},
   "source": [
    "### Height attribute is in string type as 6-9,6-11,therefore converting it to float "
   ]
  },
  {
   "cell_type": "code",
   "execution_count": 405,
   "id": "69333007-54e5-4911-8a64-d6a6fe4e48e3",
   "metadata": {},
   "outputs": [],
   "source": [
    "df['Height'] = df['Height'].fillna(df['Height'].mode()[0])"
   ]
  },
  {
   "cell_type": "code",
   "execution_count": 406,
   "id": "052c14cd-a6d9-4ae4-93f3-2af25b11cd5b",
   "metadata": {},
   "outputs": [
    {
     "data": {
      "text/plain": [
       "Name        string[python]\n",
       "Team        string[python]\n",
       "Number               int32\n",
       "Position    string[python]\n",
       "Age                  int32\n",
       "Height             float64\n",
       "Weight               int32\n",
       "College     string[python]\n",
       "Salary               int32\n",
       "dtype: object"
      ]
     },
     "execution_count": 406,
     "metadata": {},
     "output_type": "execute_result"
    }
   ],
   "source": [
    "def convert_height(height):\n",
    "    height = str(height)  # Convert to string if it's not already\n",
    "    return float(height.replace('-', '.'))\n",
    "\n",
    "df['Height']=df['Height'].apply(convert_height)\n",
    "df.dtypes"
   ]
  },
  {
   "cell_type": "code",
   "execution_count": 407,
   "id": "f9ed4e55-dfc3-4ff6-ada7-502e49fdefdf",
   "metadata": {},
   "outputs": [
    {
     "data": {
      "text/plain": [
       "Name        string[python]\n",
       "Team        string[python]\n",
       "Number               int32\n",
       "Position    string[python]\n",
       "Age                  int32\n",
       "Height             float64\n",
       "Weight               int32\n",
       "College     string[python]\n",
       "Salary               int32\n",
       "dtype: object"
      ]
     },
     "execution_count": 407,
     "metadata": {},
     "output_type": "execute_result"
    }
   ],
   "source": [
    "df.dtypes"
   ]
  },
  {
   "cell_type": "code",
   "execution_count": 408,
   "id": "380c20b8-7f12-4d0f-bf04-8b54ff3a4641",
   "metadata": {},
   "outputs": [
    {
     "data": {
      "text/html": [
       "<div>\n",
       "<style scoped>\n",
       "    .dataframe tbody tr th:only-of-type {\n",
       "        vertical-align: middle;\n",
       "    }\n",
       "\n",
       "    .dataframe tbody tr th {\n",
       "        vertical-align: top;\n",
       "    }\n",
       "\n",
       "    .dataframe thead th {\n",
       "        text-align: right;\n",
       "    }\n",
       "</style>\n",
       "<table border=\"1\" class=\"dataframe\">\n",
       "  <thead>\n",
       "    <tr style=\"text-align: right;\">\n",
       "      <th></th>\n",
       "      <th>Name</th>\n",
       "      <th>Team</th>\n",
       "      <th>Number</th>\n",
       "      <th>Position</th>\n",
       "      <th>Age</th>\n",
       "      <th>Height</th>\n",
       "      <th>Weight</th>\n",
       "      <th>College</th>\n",
       "      <th>Salary</th>\n",
       "    </tr>\n",
       "  </thead>\n",
       "  <tbody>\n",
       "    <tr>\n",
       "      <th>0</th>\n",
       "      <td>Avery Bradley</td>\n",
       "      <td>Boston Celtics</td>\n",
       "      <td>0</td>\n",
       "      <td>PG</td>\n",
       "      <td>25</td>\n",
       "      <td>6.2</td>\n",
       "      <td>180</td>\n",
       "      <td>Texas</td>\n",
       "      <td>7730337</td>\n",
       "    </tr>\n",
       "    <tr>\n",
       "      <th>1</th>\n",
       "      <td>Jae Crowder</td>\n",
       "      <td>Boston Celtics</td>\n",
       "      <td>99</td>\n",
       "      <td>SF</td>\n",
       "      <td>25</td>\n",
       "      <td>6.6</td>\n",
       "      <td>235</td>\n",
       "      <td>Marquette</td>\n",
       "      <td>6796117</td>\n",
       "    </tr>\n",
       "    <tr>\n",
       "      <th>2</th>\n",
       "      <td>John Holland</td>\n",
       "      <td>Boston Celtics</td>\n",
       "      <td>30</td>\n",
       "      <td>SG</td>\n",
       "      <td>27</td>\n",
       "      <td>6.5</td>\n",
       "      <td>205</td>\n",
       "      <td>Boston University</td>\n",
       "      <td>4842684</td>\n",
       "    </tr>\n",
       "    <tr>\n",
       "      <th>3</th>\n",
       "      <td>R.J. Hunter</td>\n",
       "      <td>Boston Celtics</td>\n",
       "      <td>28</td>\n",
       "      <td>SG</td>\n",
       "      <td>22</td>\n",
       "      <td>6.5</td>\n",
       "      <td>185</td>\n",
       "      <td>Georgia State</td>\n",
       "      <td>1148640</td>\n",
       "    </tr>\n",
       "    <tr>\n",
       "      <th>4</th>\n",
       "      <td>Jonas Jerebko</td>\n",
       "      <td>Boston Celtics</td>\n",
       "      <td>8</td>\n",
       "      <td>PF</td>\n",
       "      <td>29</td>\n",
       "      <td>6.1</td>\n",
       "      <td>231</td>\n",
       "      <td>Kentucky</td>\n",
       "      <td>5000000</td>\n",
       "    </tr>\n",
       "  </tbody>\n",
       "</table>\n",
       "</div>"
      ],
      "text/plain": [
       "            Name            Team  Number Position  Age  Height  Weight  \\\n",
       "0  Avery Bradley  Boston Celtics       0       PG   25     6.2     180   \n",
       "1    Jae Crowder  Boston Celtics      99       SF   25     6.6     235   \n",
       "2   John Holland  Boston Celtics      30       SG   27     6.5     205   \n",
       "3    R.J. Hunter  Boston Celtics      28       SG   22     6.5     185   \n",
       "4  Jonas Jerebko  Boston Celtics       8       PF   29     6.1     231   \n",
       "\n",
       "             College   Salary  \n",
       "0              Texas  7730337  \n",
       "1          Marquette  6796117  \n",
       "2  Boston University  4842684  \n",
       "3      Georgia State  1148640  \n",
       "4           Kentucky  5000000  "
      ]
     },
     "execution_count": 408,
     "metadata": {},
     "output_type": "execute_result"
    }
   ],
   "source": [
    "df.head()"
   ]
  },
  {
   "cell_type": "markdown",
   "id": "6b24f249-a5a6-47ad-87d8-0d7983819df0",
   "metadata": {},
   "source": [
    "## 5. Central Tendencies - Measures"
   ]
  },
  {
   "cell_type": "markdown",
   "id": "a567faf6-78a9-4666-9c22-8aae332473d1",
   "metadata": {},
   "source": [
    "### 5.1.1. Mean (Built-in method)"
   ]
  },
  {
   "cell_type": "code",
   "execution_count": 409,
   "id": "16e70fde-4ffb-4b4d-97f4-b574a069cef9",
   "metadata": {},
   "outputs": [
    {
     "name": "stdout",
     "output_type": "stream",
     "text": [
      " Mean value of Number: 17.676855895196507\n",
      "----------------------------------------\n",
      " Mean value of Age: 26.936681222707424\n",
      "----------------------------------------\n",
      " Mean value of Height: 6.517969432314411\n",
      "----------------------------------------\n",
      " Mean value of Weight: 221.52183406113537\n",
      "----------------------------------------\n",
      " Mean value of Salary: 4842684.102620088\n",
      "----------------------------------------\n"
     ]
    }
   ],
   "source": [
    "for col in df.columns:\n",
    "    if df[col].dtype=='int'or df[col].dtype=='float':\n",
    "        print(f\" Mean value of {col}: {df[col].mean()}\")\n",
    "        # print(f\" Median value of {col}: {df[col].median()}\")\n",
    "        print(\"-\"*40)\n"
   ]
  },
  {
   "cell_type": "markdown",
   "id": "27e2e0a3-7c02-4691-86f5-3d26a5e13e3d",
   "metadata": {},
   "source": [
    "### 5.1.2. Mean (User-defined method)"
   ]
  },
  {
   "cell_type": "code",
   "execution_count": 410,
   "id": "5be4fb37-0727-49ac-bc9c-b3226f430378",
   "metadata": {},
   "outputs": [
    {
     "name": "stdout",
     "output_type": "stream",
     "text": [
      "Number  :  17.676855895196507\n",
      "----------------------------------------\n",
      "Age  :  26.936681222707424\n",
      "----------------------------------------\n",
      "Height  :  6.517969432314407\n",
      "----------------------------------------\n",
      "Weight  :  221.52183406113537\n",
      "----------------------------------------\n",
      "Salary  :  4842684.102620088\n",
      "----------------------------------------\n"
     ]
    }
   ],
   "source": [
    "mean={}\n",
    "for col in df.columns:\n",
    "    if df[col].dtype in ['int','float64']:\n",
    "        total=0\n",
    "        count=0\n",
    "        for value in df[col]:\n",
    "            if pd.notna(value):\n",
    "                total=total+value\n",
    "                count=count+1\n",
    "        means[col]=total/count if count!=0 else None\n",
    "\n",
    "for i,j in means.items():\n",
    "    print(i,\" : \" ,j)\n",
    "    print(\"-\"*40)"
   ]
  },
  {
   "cell_type": "markdown",
   "id": "69bef033-7626-4795-bcb9-4fa16b84b4b7",
   "metadata": {},
   "source": [
    "### 5.2.1. Median (Built-in method)"
   ]
  },
  {
   "cell_type": "code",
   "execution_count": 411,
   "id": "a858d8ab-2cbf-448a-bca1-63095a6731d8",
   "metadata": {},
   "outputs": [
    {
     "name": "stdout",
     "output_type": "stream",
     "text": [
      " Median value of Number: 13.0\n",
      "----------------------------------------\n",
      " Median value of Age: 26.0\n",
      "----------------------------------------\n",
      " Median value of Height: 6.6\n",
      "----------------------------------------\n",
      " Median value of Weight: 220.0\n",
      "----------------------------------------\n",
      " Median value of Salary: 2880600.0\n",
      "----------------------------------------\n"
     ]
    }
   ],
   "source": [
    "for col in df.columns:\n",
    "    if df[col].dtype=='int'or df[col].dtype=='float':\n",
    "        print(f\" Median value of {col}: {df[col].median()}\")\n",
    "        print(\"-\"*40)"
   ]
  },
  {
   "cell_type": "markdown",
   "id": "4e44870d-f1df-4ae8-88a1-28a5dfe4ccab",
   "metadata": {},
   "source": [
    "### 5.2.2. Median (User-defined method)"
   ]
  },
  {
   "cell_type": "code",
   "execution_count": 412,
   "id": "fdf37c63-4f5b-4f26-8df9-46106f2ee929",
   "metadata": {},
   "outputs": [
    {
     "name": "stdout",
     "output_type": "stream",
     "text": [
      "Number  :  13.0\n",
      "----------------------------------------\n",
      "Age  :  26.0\n",
      "----------------------------------------\n",
      "Height  :  6.6\n",
      "----------------------------------------\n",
      "Weight  :  220.0\n",
      "----------------------------------------\n",
      "Salary  :  2880600.0\n",
      "----------------------------------------\n"
     ]
    }
   ],
   "source": [
    "medians={}\n",
    "\n",
    "for col in df.columns:\n",
    "    if df[col].dtype in ['int','float64']:\n",
    "        values=sorted([x for x in df[col]])\n",
    "        n=len(values)\n",
    "        if n==0:\n",
    "            medians[col]=None\n",
    "        elif n%2==1:\n",
    "            medians[col]=values[n//2]\n",
    "        else:\n",
    "            medians[col]=(values[n//2-1]+values[n//2])/2\n",
    "\n",
    "for i,j in medians.items():\n",
    "    print(i,\" : \" ,j)\n",
    "    print(\"-\"*40)"
   ]
  },
  {
   "cell_type": "markdown",
   "id": "abb755e5-729a-4745-8432-e427ba7d3673",
   "metadata": {},
   "source": [
    "### 5.3.1. Mode (Built-in method)"
   ]
  },
  {
   "cell_type": "code",
   "execution_count": 413,
   "id": "ca8d61ad-6c4d-4047-8119-a1e2d88f0bdc",
   "metadata": {},
   "outputs": [
    {
     "name": "stdout",
     "output_type": "stream",
     "text": [
      " Mode value of Name: Aaron Brooks\n",
      "---------------------------------------------------------------------------------------------------------------------------------------------------------\n",
      " Mode value of Team: New Orleans Pelicans\n",
      "---------------------------------------------------------------------------------------------------------------------------------------------------------\n",
      " Mode value of Number: 5\n",
      "---------------------------------------------------------------------------------------------------------------------------------------------------------\n",
      " Mode value of Position: SG\n",
      "---------------------------------------------------------------------------------------------------------------------------------------------------------\n",
      " Mode value of Age: 24\n",
      "---------------------------------------------------------------------------------------------------------------------------------------------------------\n",
      " Mode value of Height: 6.1\n",
      "---------------------------------------------------------------------------------------------------------------------------------------------------------\n",
      " Mode value of Weight: 220\n",
      "---------------------------------------------------------------------------------------------------------------------------------------------------------\n",
      " Mode value of College: Kentucky\n",
      "---------------------------------------------------------------------------------------------------------------------------------------------------------\n",
      " Mode value of Salary: 947276\n",
      "---------------------------------------------------------------------------------------------------------------------------------------------------------\n"
     ]
    }
   ],
   "source": [
    "for col in df.columns:\n",
    "    # if df[col].dtype=='string':\n",
    "    print(f\" Mode value of {col}: {df[col].mode()[0]}\")\n",
    "    print(\"-\"*153)"
   ]
  },
  {
   "cell_type": "markdown",
   "id": "c3f465e6-03be-4f38-84d2-0cef6983b826",
   "metadata": {},
   "source": [
    "### 5.3.2. Mode (User-defined method)"
   ]
  },
  {
   "cell_type": "code",
   "execution_count": 414,
   "id": "79af78ed-8241-4f7c-bc9f-334b24782f75",
   "metadata": {},
   "outputs": [
    {
     "name": "stdout",
     "output_type": "stream",
     "text": [
      "Name  :  Aaron Brooks\n",
      "----------------------------------------\n",
      "Team  :  New Orleans Pelicans\n",
      "----------------------------------------\n",
      "Number  :  5\n",
      "----------------------------------------\n",
      "Position  :  SG\n",
      "----------------------------------------\n",
      "Age  :  24\n",
      "----------------------------------------\n",
      "Height  :  6.1\n",
      "----------------------------------------\n",
      "Weight  :  220\n",
      "----------------------------------------\n",
      "College  :  Kentucky\n",
      "----------------------------------------\n",
      "Salary  :  947276\n",
      "----------------------------------------\n"
     ]
    }
   ],
   "source": [
    "modes = {}\n",
    "from collections import Counter\n",
    "\n",
    "for col in df.columns:\n",
    "    values = [x for x in df[col] if pd.notna(x)]  \n",
    "    if values:  \n",
    "        most_common = Counter(values).most_common()  \n",
    "        max_freq = most_common[0][1]  \n",
    "        mode_values = [key for key, val in most_common if val == max_freq]\n",
    "        modes[col] = mode_values[0] if len(mode_values) == 1 else mode_values\n",
    "    else:\n",
    "        modes[col] = None \n",
    "\n",
    "for i,j in modes.items():\n",
    "    print(i,\" : \" ,j)\n",
    "    print(\"-\"*40)"
   ]
  },
  {
   "cell_type": "markdown",
   "id": "3fc7609d-3965-4991-8277-4e7cb3540327",
   "metadata": {},
   "source": [
    "### 5.4.1 Maximum value (Built-in method)"
   ]
  },
  {
   "cell_type": "code",
   "execution_count": 415,
   "id": "3f2e43a3-cf88-478f-ae0f-3cf5703946c8",
   "metadata": {},
   "outputs": [
    {
     "name": "stdout",
     "output_type": "stream",
     "text": [
      "Maximum value in Number is 99\n",
      "----------------------------------------\n",
      "Maximum value in Age is 40\n",
      "----------------------------------------\n",
      "Maximum value in Height is 7.3\n",
      "----------------------------------------\n",
      "Maximum value in Weight is 307\n",
      "----------------------------------------\n",
      "Maximum value in Salary is 25000000\n",
      "----------------------------------------\n"
     ]
    }
   ],
   "source": [
    "# print(df['Height'].max())\n",
    "for col in df.columns:\n",
    "    if df[col].dtype in ['int','float']:\n",
    "        print(f'Maximum value in {col} is {df[col].max()}')\n",
    "        print(\"-\"*40)"
   ]
  },
  {
   "cell_type": "markdown",
   "id": "503b220b-b5e0-4f95-a652-de493b6293ef",
   "metadata": {},
   "source": [
    "### 5.4.2 Maximum value (User-defined method)"
   ]
  },
  {
   "cell_type": "code",
   "execution_count": 416,
   "id": "9ae3e103-df68-4052-a9d0-4f610961ac51",
   "metadata": {},
   "outputs": [
    {
     "name": "stdout",
     "output_type": "stream",
     "text": [
      "Number  :  99\n",
      "----------------------------------------\n",
      "Age  :  40\n",
      "----------------------------------------\n",
      "Height  :  7.3\n",
      "----------------------------------------\n",
      "Weight  :  307\n",
      "----------------------------------------\n",
      "Salary  :  25000000\n",
      "----------------------------------------\n"
     ]
    }
   ],
   "source": [
    "maximum={}\n",
    "maxval=0\n",
    "\n",
    "for col in df.columns:\n",
    "    if df[col].dtype in ['int','float']:\n",
    "        values=[x for x in df[col]]\n",
    "        if values:\n",
    "            maxval=values[0]\n",
    "            for i in values:\n",
    "                if i>maxval:\n",
    "                    maxval=i\n",
    "            maximum[col]=maxval\n",
    "        else:\n",
    "            maximum[col]=None  \n",
    "\n",
    "for i,j in maximum.items():\n",
    "    print(i,\" : \" ,j)\n",
    "    print(\"-\"*40)"
   ]
  },
  {
   "cell_type": "markdown",
   "id": "249f7f05-1d8d-460a-be72-173632771084",
   "metadata": {},
   "source": [
    "### 5.5.1 Minimum value (Built-in method)"
   ]
  },
  {
   "cell_type": "code",
   "execution_count": 417,
   "id": "c2c3183f-7735-4497-a7bd-f0e6cbeb8f5f",
   "metadata": {},
   "outputs": [
    {
     "name": "stdout",
     "output_type": "stream",
     "text": [
      "Minimum value in Number is 0\n",
      "----------------------------------------\n",
      "Minimum value in Age is 19\n",
      "----------------------------------------\n",
      "Minimum value in Height is 5.11\n",
      "----------------------------------------\n",
      "Minimum value in Weight is 161\n",
      "----------------------------------------\n",
      "Minimum value in Salary is 30888\n",
      "----------------------------------------\n"
     ]
    }
   ],
   "source": [
    "for col in df.columns:\n",
    "    if df[col].dtype in ['int','float']:\n",
    "        print(f'Minimum value in {col} is {df[col].min()}')\n",
    "        print(\"-\"*40)"
   ]
  },
  {
   "cell_type": "markdown",
   "id": "274e8710-b89d-42e1-bca5-3fb4a220e3ac",
   "metadata": {},
   "source": [
    "### 5.5.2 Minimum value ( User-defined method)"
   ]
  },
  {
   "cell_type": "code",
   "execution_count": 418,
   "id": "1aeaf8da-6208-4122-b8e9-387937d753a7",
   "metadata": {},
   "outputs": [
    {
     "name": "stdout",
     "output_type": "stream",
     "text": [
      "Number  :  0\n",
      "----------------------------------------\n",
      "Age  :  19\n",
      "----------------------------------------\n",
      "Height  :  5.11\n",
      "----------------------------------------\n",
      "Weight  :  161\n",
      "----------------------------------------\n",
      "Salary  :  30888\n",
      "----------------------------------------\n"
     ]
    }
   ],
   "source": [
    "minimum={}\n",
    "minval=0\n",
    "\n",
    "for col in df.columns:\n",
    "    if df[col].dtype in ['int','float']:\n",
    "        values=[x for x in df[col]]\n",
    "        if values:\n",
    "            minval=values[0]\n",
    "            for i in values:\n",
    "                if i<minval:\n",
    "                    minval=i\n",
    "            minimum[col]=minval\n",
    "        else:\n",
    "            minimum[col]=None  \n",
    "\n",
    "for i,j in minimum.items():\n",
    "    print(i,\" : \" ,j)\n",
    "    print(\"-\"*40)"
   ]
  },
  {
   "cell_type": "markdown",
   "id": "baf29032-17f6-4d7f-bc69-de55769fa70d",
   "metadata": {},
   "source": [
    "### 5.6.1. Standard Deviation (Built-in method)"
   ]
  },
  {
   "cell_type": "code",
   "execution_count": 419,
   "id": "839044ee-361b-4ed3-863b-5f0703f61fbe",
   "metadata": {},
   "outputs": [
    {
     "name": "stdout",
     "output_type": "stream",
     "text": [
      "Standard Deviation of Number: 15.94864396617882\n",
      "Standard Deviation of Age: 4.399414063696201\n",
      "Standard Deviation of Height: 0.35227429750526434\n",
      "Standard Deviation of Weight: 26.339488773302435\n",
      "Standard Deviation of Salary: 5160125.694003381\n"
     ]
    }
   ],
   "source": [
    "for col in df.columns:\n",
    "    if df[col].dtype in ['int','float']:\n",
    "        print(f\"Standard Deviation of {col}: {df[col].std()}\")"
   ]
  },
  {
   "cell_type": "markdown",
   "id": "7c733da0-c054-43ba-b3a8-54f685b93ca5",
   "metadata": {},
   "source": [
    "### 5.6.2. Standard Deviation (User-defined method)"
   ]
  },
  {
   "cell_type": "code",
   "execution_count": 420,
   "id": "2cfbe9f5-b397-4dee-b9de-48961d817a2a",
   "metadata": {},
   "outputs": [
    {
     "name": "stdout",
     "output_type": "stream",
     "text": [
      "Number  :  15.948643966178828\n",
      "----------------------------------------\n",
      "Age  :  4.399414063696205\n",
      "----------------------------------------\n",
      "Height  :  0.3522742975052651\n",
      "----------------------------------------\n",
      "Weight  :  26.33948877330243\n",
      "----------------------------------------\n",
      "Salary  :  5160125.694003384\n",
      "----------------------------------------\n"
     ]
    }
   ],
   "source": [
    "std_dev_values = {}\n",
    "\n",
    "for col in df.columns:\n",
    "    if df[col].dtype in ['int', 'float64']:\n",
    "        values = [x for x in df[col] if pd.notna(x)] \n",
    "        n = len(values)\n",
    "        if n > 1:  \n",
    "            mean_value = sum(values) / n \n",
    "            squared_diffs = [(x - mean_value) ** 2 for x in values]\n",
    "            variance = sum(squared_diffs) / (n - 1)\n",
    "            std_dev = variance ** 0.5  \n",
    "            std_dev_values[col] = std_dev  \n",
    "        else:\n",
    "            std_dev_values[col] = None \n",
    "for i,j in std_dev_values.items():\n",
    "    print(i,\" : \" ,j)\n",
    "    print(\"-\"*40)"
   ]
  },
  {
   "cell_type": "markdown",
   "id": "a7ff00a9-1a5e-4dfc-b7ea-59bcb6b02715",
   "metadata": {},
   "source": [
    "### 5.7.1. Range (Built-in method)"
   ]
  },
  {
   "cell_type": "code",
   "execution_count": 421,
   "id": "032865bf-7056-4671-9e1a-da25e4e4d982",
   "metadata": {},
   "outputs": [
    {
     "name": "stdout",
     "output_type": "stream",
     "text": [
      "Minimum value in Number is 99\n",
      "----------------------------------------\n",
      "Minimum value in Age is 21\n",
      "----------------------------------------\n",
      "Minimum value in Height is 2.1899999999999995\n",
      "----------------------------------------\n",
      "Minimum value in Weight is 146\n",
      "----------------------------------------\n",
      "Minimum value in Salary is 24969112\n",
      "----------------------------------------\n"
     ]
    }
   ],
   "source": [
    "for col in df.columns:\n",
    "    if df[col].dtype in ['int','float']:\n",
    "        print(f'Minimum value in {col} is {(df[col].max())-(df[col].min())}')\n",
    "        print(\"-\"*40)"
   ]
  },
  {
   "cell_type": "code",
   "execution_count": 422,
   "id": "c92d50cb-19e1-4a4b-a6a0-acf91434dbd4",
   "metadata": {},
   "outputs": [
    {
     "name": "stdout",
     "output_type": "stream",
     "text": [
      "{'Height': 2.1899999999999995}\n"
     ]
    }
   ],
   "source": [
    "range_values = {}\n",
    "\n",
    "for col in df.columns:\n",
    "    # Check if the column is numeric (int or float)\n",
    "    if df[col].dtype in ['int64', 'float64']:\n",
    "        values = df[col].dropna()  # Remove NaN values\n",
    "        range_values[col] = max(values) - min(values)  # Use built-in functions\n",
    "\n",
    "print(range_values)"
   ]
  },
  {
   "cell_type": "code",
   "execution_count": null,
   "id": "e45b1df8-b79d-48f7-869f-73954a91204d",
   "metadata": {},
   "outputs": [],
   "source": []
  },
  {
   "cell_type": "code",
   "execution_count": null,
   "id": "69ed2f59-bac2-45fc-b6c0-f72227eb4cd5",
   "metadata": {},
   "outputs": [],
   "source": []
  },
  {
   "cell_type": "code",
   "execution_count": null,
   "id": "53e3d3fd-2c0a-4cdd-972f-d096f7a3e9bd",
   "metadata": {},
   "outputs": [],
   "source": []
  },
  {
   "cell_type": "code",
   "execution_count": null,
   "id": "0b2ad5ab-9b4b-4876-b7e6-30e791c5d8b6",
   "metadata": {},
   "outputs": [],
   "source": []
  },
  {
   "cell_type": "code",
   "execution_count": null,
   "id": "5988435e-443b-40b6-825d-885553daf979",
   "metadata": {},
   "outputs": [],
   "source": []
  }
 ],
 "metadata": {
  "kernelspec": {
   "display_name": "Python 3 (ipykernel)",
   "language": "python",
   "name": "python3"
  },
  "language_info": {
   "codemirror_mode": {
    "name": "ipython",
    "version": 3
   },
   "file_extension": ".py",
   "mimetype": "text/x-python",
   "name": "python",
   "nbconvert_exporter": "python",
   "pygments_lexer": "ipython3",
   "version": "3.12.4"
  }
 },
 "nbformat": 4,
 "nbformat_minor": 5
}
