{
 "cells": [
  {
   "cell_type": "markdown",
   "id": "a8bec285-443a-465c-afda-b765cde11637",
   "metadata": {},
   "source": [
    "# DSDBAL ASSIGNMENT NO. 5\n",
    "\n",
    "### Data Visualization II\n"
   ]
  },
  {
   "cell_type": "markdown",
   "id": "ebf78ad8-e67a-45f7-b3c2-e384ccf69c3f",
   "metadata": {},
   "source": [
    "## 1. Importing all the required Python Libraries."
   ]
  },
  {
   "cell_type": "code",
   "execution_count": 68,
   "id": "3f5a04e2-962a-4747-a566-95efa6e63e35",
   "metadata": {},
   "outputs": [],
   "source": [
    "import numpy as np\n",
    "import pandas as pd\n",
    "import seaborn as sns\n",
    "import matplotlib.pyplot as plt"
   ]
  },
  {
   "cell_type": "markdown",
   "id": "26ad183f-3c50-4384-9d9d-edb358d44899",
   "metadata": {},
   "source": [
    "## 2. Loading the Dataset into pandas’ data frame."
   ]
  },
  {
   "cell_type": "code",
   "execution_count": 69,
   "id": "66e8c0b1-5c8d-490e-aa0c-4dce87471b6d",
   "metadata": {},
   "outputs": [],
   "source": [
    "df=pd.read_csv('titanic.csv',index_col=\"PassengerId\")"
   ]
  },
  {
   "cell_type": "code",
   "execution_count": 70,
   "id": "c4d61649-1621-4932-86e2-cb9c90a072e3",
   "metadata": {},
   "outputs": [
    {
     "data": {
      "text/html": [
       "<div>\n",
       "<style scoped>\n",
       "    .dataframe tbody tr th:only-of-type {\n",
       "        vertical-align: middle;\n",
       "    }\n",
       "\n",
       "    .dataframe tbody tr th {\n",
       "        vertical-align: top;\n",
       "    }\n",
       "\n",
       "    .dataframe thead th {\n",
       "        text-align: right;\n",
       "    }\n",
       "</style>\n",
       "<table border=\"1\" class=\"dataframe\">\n",
       "  <thead>\n",
       "    <tr style=\"text-align: right;\">\n",
       "      <th></th>\n",
       "      <th>Survived</th>\n",
       "      <th>Pclass</th>\n",
       "      <th>Name</th>\n",
       "      <th>Sex</th>\n",
       "      <th>Age</th>\n",
       "      <th>SibSp</th>\n",
       "      <th>Parch</th>\n",
       "      <th>Ticket</th>\n",
       "      <th>Fare</th>\n",
       "      <th>Cabin</th>\n",
       "      <th>Embarked</th>\n",
       "    </tr>\n",
       "    <tr>\n",
       "      <th>PassengerId</th>\n",
       "      <th></th>\n",
       "      <th></th>\n",
       "      <th></th>\n",
       "      <th></th>\n",
       "      <th></th>\n",
       "      <th></th>\n",
       "      <th></th>\n",
       "      <th></th>\n",
       "      <th></th>\n",
       "      <th></th>\n",
       "      <th></th>\n",
       "    </tr>\n",
       "  </thead>\n",
       "  <tbody>\n",
       "    <tr>\n",
       "      <th>1</th>\n",
       "      <td>0</td>\n",
       "      <td>3</td>\n",
       "      <td>Braund, Mr. Owen Harris</td>\n",
       "      <td>male</td>\n",
       "      <td>22.0</td>\n",
       "      <td>1</td>\n",
       "      <td>0</td>\n",
       "      <td>A/5 21171</td>\n",
       "      <td>7.2500</td>\n",
       "      <td>NaN</td>\n",
       "      <td>S</td>\n",
       "    </tr>\n",
       "    <tr>\n",
       "      <th>2</th>\n",
       "      <td>1</td>\n",
       "      <td>1</td>\n",
       "      <td>Cumings, Mrs. John Bradley (Florence Briggs Th...</td>\n",
       "      <td>female</td>\n",
       "      <td>38.0</td>\n",
       "      <td>1</td>\n",
       "      <td>0</td>\n",
       "      <td>PC 17599</td>\n",
       "      <td>71.2833</td>\n",
       "      <td>C85</td>\n",
       "      <td>C</td>\n",
       "    </tr>\n",
       "    <tr>\n",
       "      <th>3</th>\n",
       "      <td>1</td>\n",
       "      <td>3</td>\n",
       "      <td>Heikkinen, Miss. Laina</td>\n",
       "      <td>female</td>\n",
       "      <td>26.0</td>\n",
       "      <td>0</td>\n",
       "      <td>0</td>\n",
       "      <td>STON/O2. 3101282</td>\n",
       "      <td>7.9250</td>\n",
       "      <td>NaN</td>\n",
       "      <td>S</td>\n",
       "    </tr>\n",
       "    <tr>\n",
       "      <th>4</th>\n",
       "      <td>1</td>\n",
       "      <td>1</td>\n",
       "      <td>Futrelle, Mrs. Jacques Heath (Lily May Peel)</td>\n",
       "      <td>female</td>\n",
       "      <td>35.0</td>\n",
       "      <td>1</td>\n",
       "      <td>0</td>\n",
       "      <td>113803</td>\n",
       "      <td>53.1000</td>\n",
       "      <td>C123</td>\n",
       "      <td>S</td>\n",
       "    </tr>\n",
       "    <tr>\n",
       "      <th>5</th>\n",
       "      <td>0</td>\n",
       "      <td>3</td>\n",
       "      <td>Allen, Mr. William Henry</td>\n",
       "      <td>male</td>\n",
       "      <td>35.0</td>\n",
       "      <td>0</td>\n",
       "      <td>0</td>\n",
       "      <td>373450</td>\n",
       "      <td>8.0500</td>\n",
       "      <td>NaN</td>\n",
       "      <td>S</td>\n",
       "    </tr>\n",
       "  </tbody>\n",
       "</table>\n",
       "</div>"
      ],
      "text/plain": [
       "             Survived  Pclass  \\\n",
       "PassengerId                     \n",
       "1                   0       3   \n",
       "2                   1       1   \n",
       "3                   1       3   \n",
       "4                   1       1   \n",
       "5                   0       3   \n",
       "\n",
       "                                                          Name     Sex   Age  \\\n",
       "PassengerId                                                                    \n",
       "1                                      Braund, Mr. Owen Harris    male  22.0   \n",
       "2            Cumings, Mrs. John Bradley (Florence Briggs Th...  female  38.0   \n",
       "3                                       Heikkinen, Miss. Laina  female  26.0   \n",
       "4                 Futrelle, Mrs. Jacques Heath (Lily May Peel)  female  35.0   \n",
       "5                                     Allen, Mr. William Henry    male  35.0   \n",
       "\n",
       "             SibSp  Parch            Ticket     Fare Cabin Embarked  \n",
       "PassengerId                                                          \n",
       "1                1      0         A/5 21171   7.2500   NaN        S  \n",
       "2                1      0          PC 17599  71.2833   C85        C  \n",
       "3                0      0  STON/O2. 3101282   7.9250   NaN        S  \n",
       "4                1      0            113803  53.1000  C123        S  \n",
       "5                0      0            373450   8.0500   NaN        S  "
      ]
     },
     "execution_count": 70,
     "metadata": {},
     "output_type": "execute_result"
    }
   ],
   "source": [
    "df.head()"
   ]
  },
  {
   "cell_type": "raw",
   "id": "550c3f82-771a-4cc6-8bcd-a2c11b0f118a",
   "metadata": {},
   "source": [
    "Findings :\n",
    "\n",
    "Age is in Float instead of whole number lke int \n",
    "Ticket and Cabin both have Alphanumeric Values \n",
    "Embarked has only three values : 'S','Q','C': Southampton (S), Cherbourg (C) and Queenstown (Q).\n",
    "Survived is in Boolean values like 0 and 1 ,\n",
    "0 means not survived and 1 means survived\n"
   ]
  },
  {
   "cell_type": "markdown",
   "id": "b2869456-2706-46f9-a7c6-c84a0f54b611",
   "metadata": {},
   "source": [
    "### 2.1 Dimensions of Dataset"
   ]
  },
  {
   "cell_type": "code",
   "execution_count": 71,
   "id": "3042f8f6-6a3e-4bcb-8d90-0492e5286958",
   "metadata": {},
   "outputs": [
    {
     "data": {
      "text/plain": [
       "(891, 11)"
      ]
     },
     "execution_count": 71,
     "metadata": {},
     "output_type": "execute_result"
    }
   ],
   "source": [
    "df.shape"
   ]
  },
  {
   "cell_type": "markdown",
   "id": "82314bd2-29fe-461c-8c05-8ba656df887e",
   "metadata": {},
   "source": [
    "Thus , the Titanic dataset contains total of 891 records and 11 attributes"
   ]
  },
  {
   "cell_type": "code",
   "execution_count": 72,
   "id": "45676262-5e89-4cbf-9969-8e346b379d29",
   "metadata": {},
   "outputs": [
    {
     "data": {
      "text/html": [
       "<div>\n",
       "<style scoped>\n",
       "    .dataframe tbody tr th:only-of-type {\n",
       "        vertical-align: middle;\n",
       "    }\n",
       "\n",
       "    .dataframe tbody tr th {\n",
       "        vertical-align: top;\n",
       "    }\n",
       "\n",
       "    .dataframe thead th {\n",
       "        text-align: right;\n",
       "    }\n",
       "</style>\n",
       "<table border=\"1\" class=\"dataframe\">\n",
       "  <thead>\n",
       "    <tr style=\"text-align: right;\">\n",
       "      <th></th>\n",
       "      <th>Survived</th>\n",
       "      <th>Pclass</th>\n",
       "      <th>Name</th>\n",
       "      <th>Sex</th>\n",
       "      <th>Age</th>\n",
       "      <th>SibSp</th>\n",
       "      <th>Parch</th>\n",
       "      <th>Ticket</th>\n",
       "      <th>Fare</th>\n",
       "      <th>Cabin</th>\n",
       "      <th>Embarked</th>\n",
       "    </tr>\n",
       "  </thead>\n",
       "  <tbody>\n",
       "    <tr>\n",
       "      <th>count</th>\n",
       "      <td>891.000000</td>\n",
       "      <td>891.000000</td>\n",
       "      <td>891</td>\n",
       "      <td>891</td>\n",
       "      <td>714.000000</td>\n",
       "      <td>891.000000</td>\n",
       "      <td>891.000000</td>\n",
       "      <td>891</td>\n",
       "      <td>891.000000</td>\n",
       "      <td>204</td>\n",
       "      <td>889</td>\n",
       "    </tr>\n",
       "    <tr>\n",
       "      <th>unique</th>\n",
       "      <td>NaN</td>\n",
       "      <td>NaN</td>\n",
       "      <td>891</td>\n",
       "      <td>2</td>\n",
       "      <td>NaN</td>\n",
       "      <td>NaN</td>\n",
       "      <td>NaN</td>\n",
       "      <td>681</td>\n",
       "      <td>NaN</td>\n",
       "      <td>147</td>\n",
       "      <td>3</td>\n",
       "    </tr>\n",
       "    <tr>\n",
       "      <th>top</th>\n",
       "      <td>NaN</td>\n",
       "      <td>NaN</td>\n",
       "      <td>Braund, Mr. Owen Harris</td>\n",
       "      <td>male</td>\n",
       "      <td>NaN</td>\n",
       "      <td>NaN</td>\n",
       "      <td>NaN</td>\n",
       "      <td>347082</td>\n",
       "      <td>NaN</td>\n",
       "      <td>B96 B98</td>\n",
       "      <td>S</td>\n",
       "    </tr>\n",
       "    <tr>\n",
       "      <th>freq</th>\n",
       "      <td>NaN</td>\n",
       "      <td>NaN</td>\n",
       "      <td>1</td>\n",
       "      <td>577</td>\n",
       "      <td>NaN</td>\n",
       "      <td>NaN</td>\n",
       "      <td>NaN</td>\n",
       "      <td>7</td>\n",
       "      <td>NaN</td>\n",
       "      <td>4</td>\n",
       "      <td>644</td>\n",
       "    </tr>\n",
       "    <tr>\n",
       "      <th>mean</th>\n",
       "      <td>0.383838</td>\n",
       "      <td>2.308642</td>\n",
       "      <td>NaN</td>\n",
       "      <td>NaN</td>\n",
       "      <td>29.699118</td>\n",
       "      <td>0.523008</td>\n",
       "      <td>0.381594</td>\n",
       "      <td>NaN</td>\n",
       "      <td>32.204208</td>\n",
       "      <td>NaN</td>\n",
       "      <td>NaN</td>\n",
       "    </tr>\n",
       "    <tr>\n",
       "      <th>std</th>\n",
       "      <td>0.486592</td>\n",
       "      <td>0.836071</td>\n",
       "      <td>NaN</td>\n",
       "      <td>NaN</td>\n",
       "      <td>14.526497</td>\n",
       "      <td>1.102743</td>\n",
       "      <td>0.806057</td>\n",
       "      <td>NaN</td>\n",
       "      <td>49.693429</td>\n",
       "      <td>NaN</td>\n",
       "      <td>NaN</td>\n",
       "    </tr>\n",
       "    <tr>\n",
       "      <th>min</th>\n",
       "      <td>0.000000</td>\n",
       "      <td>1.000000</td>\n",
       "      <td>NaN</td>\n",
       "      <td>NaN</td>\n",
       "      <td>0.420000</td>\n",
       "      <td>0.000000</td>\n",
       "      <td>0.000000</td>\n",
       "      <td>NaN</td>\n",
       "      <td>0.000000</td>\n",
       "      <td>NaN</td>\n",
       "      <td>NaN</td>\n",
       "    </tr>\n",
       "    <tr>\n",
       "      <th>25%</th>\n",
       "      <td>0.000000</td>\n",
       "      <td>2.000000</td>\n",
       "      <td>NaN</td>\n",
       "      <td>NaN</td>\n",
       "      <td>20.125000</td>\n",
       "      <td>0.000000</td>\n",
       "      <td>0.000000</td>\n",
       "      <td>NaN</td>\n",
       "      <td>7.910400</td>\n",
       "      <td>NaN</td>\n",
       "      <td>NaN</td>\n",
       "    </tr>\n",
       "    <tr>\n",
       "      <th>50%</th>\n",
       "      <td>0.000000</td>\n",
       "      <td>3.000000</td>\n",
       "      <td>NaN</td>\n",
       "      <td>NaN</td>\n",
       "      <td>28.000000</td>\n",
       "      <td>0.000000</td>\n",
       "      <td>0.000000</td>\n",
       "      <td>NaN</td>\n",
       "      <td>14.454200</td>\n",
       "      <td>NaN</td>\n",
       "      <td>NaN</td>\n",
       "    </tr>\n",
       "    <tr>\n",
       "      <th>75%</th>\n",
       "      <td>1.000000</td>\n",
       "      <td>3.000000</td>\n",
       "      <td>NaN</td>\n",
       "      <td>NaN</td>\n",
       "      <td>38.000000</td>\n",
       "      <td>1.000000</td>\n",
       "      <td>0.000000</td>\n",
       "      <td>NaN</td>\n",
       "      <td>31.000000</td>\n",
       "      <td>NaN</td>\n",
       "      <td>NaN</td>\n",
       "    </tr>\n",
       "    <tr>\n",
       "      <th>max</th>\n",
       "      <td>1.000000</td>\n",
       "      <td>3.000000</td>\n",
       "      <td>NaN</td>\n",
       "      <td>NaN</td>\n",
       "      <td>80.000000</td>\n",
       "      <td>8.000000</td>\n",
       "      <td>6.000000</td>\n",
       "      <td>NaN</td>\n",
       "      <td>512.329200</td>\n",
       "      <td>NaN</td>\n",
       "      <td>NaN</td>\n",
       "    </tr>\n",
       "  </tbody>\n",
       "</table>\n",
       "</div>"
      ],
      "text/plain": [
       "          Survived      Pclass                     Name   Sex         Age  \\\n",
       "count   891.000000  891.000000                      891   891  714.000000   \n",
       "unique         NaN         NaN                      891     2         NaN   \n",
       "top            NaN         NaN  Braund, Mr. Owen Harris  male         NaN   \n",
       "freq           NaN         NaN                        1   577         NaN   \n",
       "mean      0.383838    2.308642                      NaN   NaN   29.699118   \n",
       "std       0.486592    0.836071                      NaN   NaN   14.526497   \n",
       "min       0.000000    1.000000                      NaN   NaN    0.420000   \n",
       "25%       0.000000    2.000000                      NaN   NaN   20.125000   \n",
       "50%       0.000000    3.000000                      NaN   NaN   28.000000   \n",
       "75%       1.000000    3.000000                      NaN   NaN   38.000000   \n",
       "max       1.000000    3.000000                      NaN   NaN   80.000000   \n",
       "\n",
       "             SibSp       Parch  Ticket        Fare    Cabin Embarked  \n",
       "count   891.000000  891.000000     891  891.000000      204      889  \n",
       "unique         NaN         NaN     681         NaN      147        3  \n",
       "top            NaN         NaN  347082         NaN  B96 B98        S  \n",
       "freq           NaN         NaN       7         NaN        4      644  \n",
       "mean      0.523008    0.381594     NaN   32.204208      NaN      NaN  \n",
       "std       1.102743    0.806057     NaN   49.693429      NaN      NaN  \n",
       "min       0.000000    0.000000     NaN    0.000000      NaN      NaN  \n",
       "25%       0.000000    0.000000     NaN    7.910400      NaN      NaN  \n",
       "50%       0.000000    0.000000     NaN   14.454200      NaN      NaN  \n",
       "75%       1.000000    0.000000     NaN   31.000000      NaN      NaN  \n",
       "max       8.000000    6.000000     NaN  512.329200      NaN      NaN  "
      ]
     },
     "execution_count": 72,
     "metadata": {},
     "output_type": "execute_result"
    }
   ],
   "source": [
    "df.describe(include=\"all\")"
   ]
  },
  {
   "cell_type": "raw",
   "id": "9027b23b-d644-4f73-989e-f9dd9ea90ccf",
   "metadata": {},
   "source": [
    "Findings :\n",
    "Minimum age was 0.42 meaning an infant and max age was 80 years old \n",
    "maximum passengers were Male (577 Male and 314 Female )\n",
    "Frequency of 'S' is more meaning more passengers boarded from Southampton "
   ]
  },
  {
   "cell_type": "code",
   "execution_count": 73,
   "id": "dae3c688-b191-4ca8-9fed-b5397f013367",
   "metadata": {},
   "outputs": [
    {
     "data": {
      "text/plain": [
       "Survived      0\n",
       "Pclass        0\n",
       "Name          0\n",
       "Sex           0\n",
       "Age         177\n",
       "SibSp         0\n",
       "Parch         0\n",
       "Ticket        0\n",
       "Fare          0\n",
       "Cabin       687\n",
       "Embarked      2\n",
       "dtype: int64"
      ]
     },
     "execution_count": 73,
     "metadata": {},
     "output_type": "execute_result"
    }
   ],
   "source": [
    "df.isnull().sum()\n",
    "\n",
    "# sns.lineplot(data=df)"
   ]
  },
  {
   "cell_type": "markdown",
   "id": "5c9eb001-7282-4fc0-afea-3c3a3dcefc8c",
   "metadata": {},
   "source": [
    "Age and Cabin have null values that must be handled"
   ]
  },
  {
   "cell_type": "markdown",
   "id": "5f874b33-b03a-4dac-85b2-0757e95b9d56",
   "metadata": {},
   "source": [
    "## 3.Data Preprocessing"
   ]
  },
  {
   "cell_type": "markdown",
   "id": "41f132c0-00be-492b-9f6c-dbb36bccc050",
   "metadata": {},
   "source": [
    "### Handling Numerical Value {Imputing with Mean}"
   ]
  },
  {
   "cell_type": "raw",
   "id": "b16cffde-a340-4d42-8502-7b4e0053c7ce",
   "metadata": {},
   "source": [
    "Age is a numerical value that can be imputed with mean"
   ]
  },
  {
   "cell_type": "code",
   "execution_count": 74,
   "id": "44d88a5d-9e98-4811-95b8-8e506db8ef8e",
   "metadata": {},
   "outputs": [],
   "source": [
    "mean_age=df['Age'].mean()\n",
    "df['Age']=df['Age'].fillna(mean_age)"
   ]
  },
  {
   "cell_type": "code",
   "execution_count": 75,
   "id": "907517dc-d529-46ac-bc50-31b5c76b4777",
   "metadata": {},
   "outputs": [
    {
     "data": {
      "text/plain": [
       "Survived      0\n",
       "Pclass        0\n",
       "Name          0\n",
       "Sex           0\n",
       "Age           0\n",
       "SibSp         0\n",
       "Parch         0\n",
       "Ticket        0\n",
       "Fare          0\n",
       "Cabin       687\n",
       "Embarked      2\n",
       "dtype: int64"
      ]
     },
     "execution_count": 75,
     "metadata": {},
     "output_type": "execute_result"
    }
   ],
   "source": [
    "df.isnull().sum()"
   ]
  },
  {
   "cell_type": "markdown",
   "id": "68cbf0fd-433f-4111-aaa1-8d1924cf3b18",
   "metadata": {},
   "source": [
    "### Handling Categorical Value {Imputing with Mode}"
   ]
  },
  {
   "cell_type": "code",
   "execution_count": 76,
   "id": "0903adb5-b22f-4150-b2e0-8c7ad66a7a93",
   "metadata": {},
   "outputs": [],
   "source": [
    "# mode_cab=df['Cabin'].mode()[0]\n",
    "# df['Cabin']=df['Cabin'].fillna(mode_cab)\n",
    "df['Cabin']=df['Cabin'].astype(str).str[0]\n",
    "# df['Cabin']=df['Cabin'].fillna('U',inplace=True)\n",
    "# df.drop(columns=['Cabin'],inplace=True)"
   ]
  },
  {
   "cell_type": "code",
   "execution_count": 77,
   "id": "2f1bfbe1-4408-42a2-8483-3d7103dd02b8",
   "metadata": {},
   "outputs": [],
   "source": [
    "mode_emb=df['Embarked'].mode()[0]\n",
    "df['Embarked']=df['Embarked'].fillna(mode_emb)"
   ]
  },
  {
   "cell_type": "code",
   "execution_count": 78,
   "id": "f3c2994c-8255-4f0a-b38c-1f2c50edef88",
   "metadata": {},
   "outputs": [
    {
     "data": {
      "text/plain": [
       "Survived    0\n",
       "Pclass      0\n",
       "Name        0\n",
       "Sex         0\n",
       "Age         0\n",
       "SibSp       0\n",
       "Parch       0\n",
       "Ticket      0\n",
       "Fare        0\n",
       "Cabin       0\n",
       "Embarked    0\n",
       "dtype: int64"
      ]
     },
     "execution_count": 78,
     "metadata": {},
     "output_type": "execute_result"
    }
   ],
   "source": [
    "df.isnull().sum()"
   ]
  },
  {
   "cell_type": "code",
   "execution_count": 79,
   "id": "78170963-c062-4d1a-9ed5-412c2867390e",
   "metadata": {},
   "outputs": [
    {
     "data": {
      "text/plain": [
       "(891, 11)"
      ]
     },
     "execution_count": 79,
     "metadata": {},
     "output_type": "execute_result"
    }
   ],
   "source": [
    "df.shape"
   ]
  },
  {
   "cell_type": "code",
   "execution_count": 80,
   "id": "b380d4aa-a56e-4253-8489-ff30d9dd396e",
   "metadata": {},
   "outputs": [
    {
     "data": {
      "text/plain": [
       "Survived\n",
       "0    549\n",
       "1    342\n",
       "Name: count, dtype: int64"
      ]
     },
     "execution_count": 80,
     "metadata": {},
     "output_type": "execute_result"
    }
   ],
   "source": [
    "df['Survived'].value_counts()"
   ]
  },
  {
   "cell_type": "markdown",
   "id": "a3e626b7-7c5a-4a54-bb9b-d59a77ec816a",
   "metadata": {},
   "source": [
    "### Data Visualisation"
   ]
  },
  {
   "cell_type": "markdown",
   "id": "6e78c344-306a-4401-bf5b-ccf153f71896",
   "metadata": {},
   "source": [
    "#### 1. Age vs. Survived, colored by Gender"
   ]
  },
  {
   "cell_type": "code",
   "execution_count": 81,
   "id": "9b2fc1c4-9ae8-4be4-9a1e-7eda69307850",
   "metadata": {},
   "outputs": [
    {
     "data": {
      "text/plain": [
       "Text(0, 0.5, 'Age')"
      ]
     },
     "execution_count": 81,
     "metadata": {},
     "output_type": "execute_result"
    },
    {
     "data": {
      "image/png": "[encoded data removed]",
      "text/plain": [
       "<Figure size 1000x700 with 1 Axes>"
      ]
     },
     "metadata": {},
     "output_type": "display_data"
    }
   ],
   "source": [
    "plt.figure(figsize=(10, 7))\n",
    "sns.boxplot(x=\"Survived\", y=\"Age\", hue=\"Sex\", data=df)\n",
    "plt.title(\"Age Distribution by Survival and Gender\")\n",
    "plt.xlabel(\"Survived (0 = No, 1 = Yes)\")\n",
    "plt.ylabel(\"Age\")\n"
   ]
  },
  {
   "cell_type": "markdown",
   "id": "f97c8197-6d66-4c4f-b8e3-9b5423832545",
   "metadata": {},
   "source": [
    "#### 2. Fare vs. Pclass, colored by Survived"
   ]
  },
  {
   "cell_type": "code",
   "execution_count": 82,
   "id": "04746eca-e753-470b-b362-6f1795da15f3",
   "metadata": {},
   "outputs": [
    {
     "data": {
      "text/plain": [
       "Text(0, 0.5, 'Fare')"
      ]
     },
     "execution_count": 82,
     "metadata": {},
     "output_type": "execute_result"
    },
    {
     "data": {
      "image/png": "[encoded data removed]",
      "text/plain": [
       "<Figure size 1000x700 with 1 Axes>"
      ]
     },
     "metadata": {},
     "output_type": "display_data"
    }
   ],
   "source": [
    "\n",
    "plt.figure(figsize=(10, 7))\n",
    "sns.boxplot(x=\"Pclass\", y=\"Fare\", hue=\"Survived\", data=df)\n",
    "plt.title(\"Fare Distribution by Passenger Class and Survival\")\n",
    "plt.xlabel(\"Passenger Class\")\n",
    "plt.ylabel(\"Fare\")\n"
   ]
  },
  {
   "cell_type": "markdown",
   "id": "423ad33b-43c9-4e11-9208-8112548c2353",
   "metadata": {},
   "source": [
    "#### 3. Age vs. Pclass, colored by Survived"
   ]
  },
  {
   "cell_type": "code",
   "execution_count": 83,
   "id": "303c5d04-eca5-488a-b07e-4ba8880f5f2f",
   "metadata": {},
   "outputs": [
    {
     "data": {
      "text/plain": [
       "Text(0, 0.5, 'Age')"
      ]
     },
     "execution_count": 83,
     "metadata": {},
     "output_type": "execute_result"
    },
    {
     "data": {
      "image/png": "[encoded data removed]",
      "text/plain": [
       "<Figure size 1000x700 with 1 Axes>"
      ]
     },
     "metadata": {},
     "output_type": "display_data"
    }
   ],
   "source": [
    "\n",
    "plt.figure(figsize=(10, 7))\n",
    "sns.boxplot(x=\"Pclass\", y=\"Age\", hue=\"Survived\", data=df)\n",
    "plt.title(\"Age Distribution by Passenger Class and Survival\")\n",
    "plt.xlabel(\"Passenger Class\")\n",
    "plt.ylabel(\"Age\")\n"
   ]
  },
  {
   "cell_type": "code",
   "execution_count": null,
   "id": "ae798fff-7e4d-417b-adf1-366ff9b75c64",
   "metadata": {},
   "outputs": [],
   "source": []
  },
  {
   "cell_type": "code",
   "execution_count": null,
   "id": "e8436354-7452-4a45-9fbe-d139ff63a476",
   "metadata": {},
   "outputs": [],
   "source": []
  },
  {
   "cell_type": "code",
   "execution_count": null,
   "id": "d5d6f9e0-f5a0-4125-ae80-31ebfd9c47d1",
   "metadata": {},
   "outputs": [],
   "source": []
  }
 ],
 "metadata": {
  "kernelspec": {
   "display_name": "Python 3 (ipykernel)",
   "language": "python",
   "name": "python3"
  },
  "language_info": {
   "codemirror_mode": {
    "name": "ipython",
    "version": 3
   },
   "file_extension": ".py",
   "mimetype": "text/x-python",
   "name": "python",
   "nbconvert_exporter": "python",
   "pygments_lexer": "ipython3",
   "version": "3.12.4"
  }
 },
 "nbformat": 4,
 "nbformat_minor": 5
}
