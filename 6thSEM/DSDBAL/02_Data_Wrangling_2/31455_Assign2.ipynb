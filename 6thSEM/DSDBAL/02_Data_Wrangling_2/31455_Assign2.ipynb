{
 "cells": [
  {
   "cell_type": "markdown",
   "id": "19c86702-dcc5-4a1b-910b-e0397b905d96",
   "metadata": {},
   "source": [
    "# DSDBAL ASSIGNMENT NO. 2 "
   ]
  },
  {
   "cell_type": "markdown",
   "id": "7335e9d6-f7b9-4cb6-b0a9-8bfc45a2bb75",
   "metadata": {},
   "source": [
    "## 1. Importing all the required Python Libraries."
   ]
  },
  {
   "cell_type": "code",
   "execution_count": 1269,
   "id": "13e45d64-69a8-44bd-bbf9-ece1f8f3eb76",
   "metadata": {},
   "outputs": [],
   "source": [
    "import pandas as pd\n",
    "import numpy as np\n",
    "import matplotlib.pyplot as plt\n",
    "import seaborn as sns"
   ]
  },
  {
   "cell_type": "markdown",
   "id": "8f4098b6-0f08-4156-8d19-d28300f07b55",
   "metadata": {},
   "source": [
    "## 2. Loading the Dataset into pandas’ data frame."
   ]
  },
  {
   "cell_type": "code",
   "execution_count": 1270,
   "id": "4dd79f11-289a-48e2-ab00-b7a638402138",
   "metadata": {},
   "outputs": [],
   "source": [
    "df=pd.read_csv('StudentsPerformance.csv')"
   ]
  },
  {
   "cell_type": "code",
   "execution_count": 1271,
   "id": "dc6a77fd-8af8-419d-88bb-ba7a04f87fa2",
   "metadata": {},
   "outputs": [
    {
     "data": {
      "text/html": [
       "<div>\n",
       "<style scoped>\n",
       "    .dataframe tbody tr th:only-of-type {\n",
       "        vertical-align: middle;\n",
       "    }\n",
       "\n",
       "    .dataframe tbody tr th {\n",
       "        vertical-align: top;\n",
       "    }\n",
       "\n",
       "    .dataframe thead th {\n",
       "        text-align: right;\n",
       "    }\n",
       "</style>\n",
       "<table border=\"1\" class=\"dataframe\">\n",
       "  <thead>\n",
       "    <tr style=\"text-align: right;\">\n",
       "      <th></th>\n",
       "      <th>gender</th>\n",
       "      <th>race/ethnicity</th>\n",
       "      <th>parental level of education</th>\n",
       "      <th>lunch</th>\n",
       "      <th>test preparation course</th>\n",
       "      <th>math score</th>\n",
       "      <th>reading score</th>\n",
       "      <th>writing score</th>\n",
       "    </tr>\n",
       "  </thead>\n",
       "  <tbody>\n",
       "    <tr>\n",
       "      <th>0</th>\n",
       "      <td>female</td>\n",
       "      <td>group B</td>\n",
       "      <td>bachelor's degree</td>\n",
       "      <td>standard</td>\n",
       "      <td>none</td>\n",
       "      <td>72</td>\n",
       "      <td>72</td>\n",
       "      <td>74</td>\n",
       "    </tr>\n",
       "    <tr>\n",
       "      <th>1</th>\n",
       "      <td>female</td>\n",
       "      <td>group C</td>\n",
       "      <td>some college</td>\n",
       "      <td>standard</td>\n",
       "      <td>completed</td>\n",
       "      <td>69</td>\n",
       "      <td>90</td>\n",
       "      <td>88</td>\n",
       "    </tr>\n",
       "    <tr>\n",
       "      <th>2</th>\n",
       "      <td>female</td>\n",
       "      <td>group B</td>\n",
       "      <td>master's degree</td>\n",
       "      <td>standard</td>\n",
       "      <td>none</td>\n",
       "      <td>90</td>\n",
       "      <td>95</td>\n",
       "      <td>93</td>\n",
       "    </tr>\n",
       "    <tr>\n",
       "      <th>3</th>\n",
       "      <td>male</td>\n",
       "      <td>group A</td>\n",
       "      <td>associate's degree</td>\n",
       "      <td>free/reduced</td>\n",
       "      <td>none</td>\n",
       "      <td>47</td>\n",
       "      <td>57</td>\n",
       "      <td>44</td>\n",
       "    </tr>\n",
       "    <tr>\n",
       "      <th>4</th>\n",
       "      <td>male</td>\n",
       "      <td>group C</td>\n",
       "      <td>some college</td>\n",
       "      <td>standard</td>\n",
       "      <td>none</td>\n",
       "      <td>76</td>\n",
       "      <td>78</td>\n",
       "      <td>75</td>\n",
       "    </tr>\n",
       "  </tbody>\n",
       "</table>\n",
       "</div>"
      ],
      "text/plain": [
       "   gender race/ethnicity parental level of education         lunch  \\\n",
       "0  female        group B           bachelor's degree      standard   \n",
       "1  female        group C                some college      standard   \n",
       "2  female        group B             master's degree      standard   \n",
       "3    male        group A          associate's degree  free/reduced   \n",
       "4    male        group C                some college      standard   \n",
       "\n",
       "  test preparation course  math score  reading score  writing score  \n",
       "0                    none          72             72             74  \n",
       "1               completed          69             90             88  \n",
       "2                    none          90             95             93  \n",
       "3                    none          47             57             44  \n",
       "4                    none          76             78             75  "
      ]
     },
     "execution_count": 1271,
     "metadata": {},
     "output_type": "execute_result"
    }
   ],
   "source": [
    "df.head()"
   ]
  },
  {
   "cell_type": "markdown",
   "id": "f8598413-6f68-47f7-8a4e-edff9a3f2aef",
   "metadata": {},
   "source": [
    "### 2.1 Dimesnions of Dataset"
   ]
  },
  {
   "cell_type": "code",
   "execution_count": 1272,
   "id": "d16cd5f2-77d7-4cee-8f18-490aab2fd54b",
   "metadata": {},
   "outputs": [
    {
     "data": {
      "text/plain": [
       "(1000, 8)"
      ]
     },
     "execution_count": 1272,
     "metadata": {},
     "output_type": "execute_result"
    }
   ],
   "source": [
    "df.shape"
   ]
  },
  {
   "cell_type": "markdown",
   "id": "6afc3159-2f12-494c-b9d5-e131fe53b2ea",
   "metadata": {},
   "source": [
    "Thus , the StudentsPerformance dataset contains total of **1000** records and 8 attributes "
   ]
  },
  {
   "cell_type": "markdown",
   "id": "ebb0a941-792a-4bec-8ef2-f8834363d2dd",
   "metadata": {},
   "source": [
    "### 2.2 Variable Description and their type"
   ]
  },
  {
   "cell_type": "code",
   "execution_count": 1273,
   "id": "d2668749-4113-47c1-b37f-f81d79f2da24",
   "metadata": {},
   "outputs": [
    {
     "name": "stdout",
     "output_type": "stream",
     "text": [
      "<class 'pandas.core.frame.DataFrame'>\n",
      "RangeIndex: 1000 entries, 0 to 999\n",
      "Data columns (total 8 columns):\n",
      " #   Column                       Non-Null Count  Dtype \n",
      "---  ------                       --------------  ----- \n",
      " 0   gender                       1000 non-null   object\n",
      " 1   race/ethnicity               1000 non-null   object\n",
      " 2   parental level of education  1000 non-null   object\n",
      " 3   lunch                        1000 non-null   object\n",
      " 4   test preparation course      1000 non-null   object\n",
      " 5   math score                   1000 non-null   int64 \n",
      " 6   reading score                1000 non-null   int64 \n",
      " 7   writing score                1000 non-null   int64 \n",
      "dtypes: int64(3), object(5)\n",
      "memory usage: 62.6+ KB\n"
     ]
    }
   ],
   "source": [
    "df.info()"
   ]
  },
  {
   "cell_type": "raw",
   "id": "ca4451ae-129f-4450-8cb8-e88215cb2da1",
   "metadata": {},
   "source": [
    "\n",
    "3 variables :-Scores are represented using Integer datatype \n",
    "while 5 string variables are represented using Object datatype"
   ]
  },
  {
   "cell_type": "raw",
   "id": "4e9f29ff-33ba-4e03-9d06-1605b93754c8",
   "metadata": {},
   "source": [
    "\n",
    "TYPE OF VARIABLES:\n",
    " 1 Numerical \n",
    "   math ,reading and writing score\n",
    " 2 Categorical \n",
    "    like gender,race,lunch etc\n"
   ]
  },
  {
   "cell_type": "code",
   "execution_count": 1274,
   "id": "367efa85-ec88-4367-9c31-81368042d1dc",
   "metadata": {},
   "outputs": [
    {
     "data": {
      "text/html": [
       "<div>\n",
       "<style scoped>\n",
       "    .dataframe tbody tr th:only-of-type {\n",
       "        vertical-align: middle;\n",
       "    }\n",
       "\n",
       "    .dataframe tbody tr th {\n",
       "        vertical-align: top;\n",
       "    }\n",
       "\n",
       "    .dataframe thead th {\n",
       "        text-align: right;\n",
       "    }\n",
       "</style>\n",
       "<table border=\"1\" class=\"dataframe\">\n",
       "  <thead>\n",
       "    <tr style=\"text-align: right;\">\n",
       "      <th></th>\n",
       "      <th>math score</th>\n",
       "      <th>reading score</th>\n",
       "      <th>writing score</th>\n",
       "    </tr>\n",
       "  </thead>\n",
       "  <tbody>\n",
       "    <tr>\n",
       "      <th>count</th>\n",
       "      <td>1000.00000</td>\n",
       "      <td>1000.000000</td>\n",
       "      <td>1000.000000</td>\n",
       "    </tr>\n",
       "    <tr>\n",
       "      <th>mean</th>\n",
       "      <td>66.08900</td>\n",
       "      <td>69.169000</td>\n",
       "      <td>68.054000</td>\n",
       "    </tr>\n",
       "    <tr>\n",
       "      <th>std</th>\n",
       "      <td>15.16308</td>\n",
       "      <td>14.600192</td>\n",
       "      <td>15.195657</td>\n",
       "    </tr>\n",
       "    <tr>\n",
       "      <th>min</th>\n",
       "      <td>0.00000</td>\n",
       "      <td>17.000000</td>\n",
       "      <td>10.000000</td>\n",
       "    </tr>\n",
       "    <tr>\n",
       "      <th>25%</th>\n",
       "      <td>57.00000</td>\n",
       "      <td>59.000000</td>\n",
       "      <td>57.750000</td>\n",
       "    </tr>\n",
       "    <tr>\n",
       "      <th>50%</th>\n",
       "      <td>66.00000</td>\n",
       "      <td>70.000000</td>\n",
       "      <td>69.000000</td>\n",
       "    </tr>\n",
       "    <tr>\n",
       "      <th>75%</th>\n",
       "      <td>77.00000</td>\n",
       "      <td>79.000000</td>\n",
       "      <td>79.000000</td>\n",
       "    </tr>\n",
       "    <tr>\n",
       "      <th>max</th>\n",
       "      <td>100.00000</td>\n",
       "      <td>100.000000</td>\n",
       "      <td>100.000000</td>\n",
       "    </tr>\n",
       "  </tbody>\n",
       "</table>\n",
       "</div>"
      ],
      "text/plain": [
       "       math score  reading score  writing score\n",
       "count  1000.00000    1000.000000    1000.000000\n",
       "mean     66.08900      69.169000      68.054000\n",
       "std      15.16308      14.600192      15.195657\n",
       "min       0.00000      17.000000      10.000000\n",
       "25%      57.00000      59.000000      57.750000\n",
       "50%      66.00000      70.000000      69.000000\n",
       "75%      77.00000      79.000000      79.000000\n",
       "max     100.00000     100.000000     100.000000"
      ]
     },
     "execution_count": 1274,
     "metadata": {},
     "output_type": "execute_result"
    }
   ],
   "source": [
    "df.describe()"
   ]
  },
  {
   "cell_type": "markdown",
   "id": "9c657d18-21ea-44a7-acb4-e38707d6012d",
   "metadata": {},
   "source": [
    "Findings :\n",
    "\n",
    "1. Mean for all scores is quite close\n",
    "\n",
    "2. minimum marks scored in Maths is 0 ,while it is 17 and 10 in reading and writing repsectively\n",
    "\n",
    "3. 25 % of students scored below 57 in math, 59 in reading, and 57.75 in writing.\n",
    "\n",
    "4. 75% of students scored below 77 in math, 79 in reading, and 79 in writing\n",
    "\n",
    "5. max: highest possible score in all three subjects (math, reading, writing) is 100.\n"
   ]
  },
  {
   "cell_type": "code",
   "execution_count": 1275,
   "id": "455c3ae1-5786-4266-af6c-63d507787df4",
   "metadata": {},
   "outputs": [
    {
     "data": {
      "text/html": [
       "<div>\n",
       "<style scoped>\n",
       "    .dataframe tbody tr th:only-of-type {\n",
       "        vertical-align: middle;\n",
       "    }\n",
       "\n",
       "    .dataframe tbody tr th {\n",
       "        vertical-align: top;\n",
       "    }\n",
       "\n",
       "    .dataframe thead th {\n",
       "        text-align: right;\n",
       "    }\n",
       "</style>\n",
       "<table border=\"1\" class=\"dataframe\">\n",
       "  <thead>\n",
       "    <tr style=\"text-align: right;\">\n",
       "      <th></th>\n",
       "      <th>gender</th>\n",
       "      <th>race/ethnicity</th>\n",
       "      <th>parental level of education</th>\n",
       "      <th>lunch</th>\n",
       "      <th>test preparation course</th>\n",
       "      <th>math score</th>\n",
       "      <th>reading score</th>\n",
       "      <th>writing score</th>\n",
       "    </tr>\n",
       "  </thead>\n",
       "  <tbody>\n",
       "    <tr>\n",
       "      <th>count</th>\n",
       "      <td>1000</td>\n",
       "      <td>1000</td>\n",
       "      <td>1000</td>\n",
       "      <td>1000</td>\n",
       "      <td>1000</td>\n",
       "      <td>1000.00000</td>\n",
       "      <td>1000.000000</td>\n",
       "      <td>1000.000000</td>\n",
       "    </tr>\n",
       "    <tr>\n",
       "      <th>unique</th>\n",
       "      <td>2</td>\n",
       "      <td>5</td>\n",
       "      <td>6</td>\n",
       "      <td>2</td>\n",
       "      <td>2</td>\n",
       "      <td>NaN</td>\n",
       "      <td>NaN</td>\n",
       "      <td>NaN</td>\n",
       "    </tr>\n",
       "    <tr>\n",
       "      <th>top</th>\n",
       "      <td>female</td>\n",
       "      <td>group C</td>\n",
       "      <td>some college</td>\n",
       "      <td>standard</td>\n",
       "      <td>none</td>\n",
       "      <td>NaN</td>\n",
       "      <td>NaN</td>\n",
       "      <td>NaN</td>\n",
       "    </tr>\n",
       "    <tr>\n",
       "      <th>freq</th>\n",
       "      <td>518</td>\n",
       "      <td>319</td>\n",
       "      <td>226</td>\n",
       "      <td>645</td>\n",
       "      <td>642</td>\n",
       "      <td>NaN</td>\n",
       "      <td>NaN</td>\n",
       "      <td>NaN</td>\n",
       "    </tr>\n",
       "    <tr>\n",
       "      <th>mean</th>\n",
       "      <td>NaN</td>\n",
       "      <td>NaN</td>\n",
       "      <td>NaN</td>\n",
       "      <td>NaN</td>\n",
       "      <td>NaN</td>\n",
       "      <td>66.08900</td>\n",
       "      <td>69.169000</td>\n",
       "      <td>68.054000</td>\n",
       "    </tr>\n",
       "    <tr>\n",
       "      <th>std</th>\n",
       "      <td>NaN</td>\n",
       "      <td>NaN</td>\n",
       "      <td>NaN</td>\n",
       "      <td>NaN</td>\n",
       "      <td>NaN</td>\n",
       "      <td>15.16308</td>\n",
       "      <td>14.600192</td>\n",
       "      <td>15.195657</td>\n",
       "    </tr>\n",
       "    <tr>\n",
       "      <th>min</th>\n",
       "      <td>NaN</td>\n",
       "      <td>NaN</td>\n",
       "      <td>NaN</td>\n",
       "      <td>NaN</td>\n",
       "      <td>NaN</td>\n",
       "      <td>0.00000</td>\n",
       "      <td>17.000000</td>\n",
       "      <td>10.000000</td>\n",
       "    </tr>\n",
       "    <tr>\n",
       "      <th>25%</th>\n",
       "      <td>NaN</td>\n",
       "      <td>NaN</td>\n",
       "      <td>NaN</td>\n",
       "      <td>NaN</td>\n",
       "      <td>NaN</td>\n",
       "      <td>57.00000</td>\n",
       "      <td>59.000000</td>\n",
       "      <td>57.750000</td>\n",
       "    </tr>\n",
       "    <tr>\n",
       "      <th>50%</th>\n",
       "      <td>NaN</td>\n",
       "      <td>NaN</td>\n",
       "      <td>NaN</td>\n",
       "      <td>NaN</td>\n",
       "      <td>NaN</td>\n",
       "      <td>66.00000</td>\n",
       "      <td>70.000000</td>\n",
       "      <td>69.000000</td>\n",
       "    </tr>\n",
       "    <tr>\n",
       "      <th>75%</th>\n",
       "      <td>NaN</td>\n",
       "      <td>NaN</td>\n",
       "      <td>NaN</td>\n",
       "      <td>NaN</td>\n",
       "      <td>NaN</td>\n",
       "      <td>77.00000</td>\n",
       "      <td>79.000000</td>\n",
       "      <td>79.000000</td>\n",
       "    </tr>\n",
       "    <tr>\n",
       "      <th>max</th>\n",
       "      <td>NaN</td>\n",
       "      <td>NaN</td>\n",
       "      <td>NaN</td>\n",
       "      <td>NaN</td>\n",
       "      <td>NaN</td>\n",
       "      <td>100.00000</td>\n",
       "      <td>100.000000</td>\n",
       "      <td>100.000000</td>\n",
       "    </tr>\n",
       "  </tbody>\n",
       "</table>\n",
       "</div>"
      ],
      "text/plain": [
       "        gender race/ethnicity parental level of education     lunch  \\\n",
       "count     1000           1000                        1000      1000   \n",
       "unique       2              5                           6         2   \n",
       "top     female        group C                some college  standard   \n",
       "freq       518            319                         226       645   \n",
       "mean       NaN            NaN                         NaN       NaN   \n",
       "std        NaN            NaN                         NaN       NaN   \n",
       "min        NaN            NaN                         NaN       NaN   \n",
       "25%        NaN            NaN                         NaN       NaN   \n",
       "50%        NaN            NaN                         NaN       NaN   \n",
       "75%        NaN            NaN                         NaN       NaN   \n",
       "max        NaN            NaN                         NaN       NaN   \n",
       "\n",
       "       test preparation course  math score  reading score  writing score  \n",
       "count                     1000  1000.00000    1000.000000    1000.000000  \n",
       "unique                       2         NaN            NaN            NaN  \n",
       "top                       none         NaN            NaN            NaN  \n",
       "freq                       642         NaN            NaN            NaN  \n",
       "mean                       NaN    66.08900      69.169000      68.054000  \n",
       "std                        NaN    15.16308      14.600192      15.195657  \n",
       "min                        NaN     0.00000      17.000000      10.000000  \n",
       "25%                        NaN    57.00000      59.000000      57.750000  \n",
       "50%                        NaN    66.00000      70.000000      69.000000  \n",
       "75%                        NaN    77.00000      79.000000      79.000000  \n",
       "max                        NaN   100.00000     100.000000     100.000000  "
      ]
     },
     "execution_count": 1275,
     "metadata": {},
     "output_type": "execute_result"
    }
   ],
   "source": [
    "df.describe(include='all')"
   ]
  },
  {
   "cell_type": "markdown",
   "id": "9fb6ca7f-e1cc-494c-859b-13f5fb60253b",
   "metadata": {},
   "source": [
    "Findings :\n",
    "\n",
    "1. In this dataset ,there are two genders male and female thus unique=2 and females occur 518 times\n",
    "\n",
    "2. There are 5 different race/ethnicity from Group A to E ,out of which Group C occurs the most(319 times)\n",
    "\n",
    "3. parental level of education denotes that most student's parents completed education in some college \n",
    "\n",
    "4. about 642 students have no test preparation course\n"
   ]
  },
  {
   "cell_type": "markdown",
   "id": "79862c71-e4f2-4e5d-8828-26685eff51e6",
   "metadata": {},
   "source": [
    "## 3.Data Preprocessing"
   ]
  },
  {
   "cell_type": "markdown",
   "id": "48a90152-37ce-4406-834a-d5b8aa1cf1e0",
   "metadata": {},
   "source": [
    "### 3.1. Scanning all variables for missing values and inconsistencies."
   ]
  },
  {
   "cell_type": "code",
   "execution_count": 1276,
   "id": "96ff1188-c620-4fea-b898-f82ca5e33ba8",
   "metadata": {},
   "outputs": [
    {
     "data": {
      "text/plain": [
       "gender                         0\n",
       "race/ethnicity                 0\n",
       "parental level of education    0\n",
       "lunch                          0\n",
       "test preparation course        0\n",
       "math score                     0\n",
       "reading score                  0\n",
       "writing score                  0\n",
       "dtype: int64"
      ]
     },
     "execution_count": 1276,
     "metadata": {},
     "output_type": "execute_result"
    }
   ],
   "source": [
    "df.isnull().sum()"
   ]
  },
  {
   "cell_type": "markdown",
   "id": "a27b684a-745f-4858-9a80-f2846eda0663",
   "metadata": {},
   "source": [
    "#### No Null value exists in StudentsPerformance dataset "
   ]
  },
  {
   "cell_type": "markdown",
   "id": "3c93cabc-d89f-4d6f-a8fc-45daaf9918bf",
   "metadata": {},
   "source": [
    "#### 3.2 Thus, Introducing Null Values in columns to Handle Missing values "
   ]
  },
  {
   "cell_type": "code",
   "execution_count": 1277,
   "id": "83fd3694-0a60-46ee-a47c-d38e8eec7bf2",
   "metadata": {},
   "outputs": [],
   "source": [
    "def introduce_null_values(df,maxnull=1):  #by default1 incase not passed \n",
    "    for col in df.columns:\n",
    "        null_count=np.random.randint(1,maxnull+1) #\n",
    "        \n",
    "        #randomly choosing the indices on which the null values are to be set \n",
    "        indices=np.random.choice(df.index,replace=False,size=null_count)\n",
    "        df.loc[indices,col]=np.nan\n",
    "\n",
    "    return df\n",
    "df=introduce_null_values(df,12)"
   ]
  },
  {
   "cell_type": "code",
   "execution_count": 1278,
   "id": "0e187581-61e3-4a00-b0e9-f0255298249b",
   "metadata": {},
   "outputs": [
    {
     "data": {
      "text/plain": [
       "gender                          7\n",
       "race/ethnicity                  1\n",
       "parental level of education     1\n",
       "lunch                           4\n",
       "test preparation course        11\n",
       "math score                      2\n",
       "reading score                   9\n",
       "writing score                  11\n",
       "dtype: int64"
      ]
     },
     "execution_count": 1278,
     "metadata": {},
     "output_type": "execute_result"
    }
   ],
   "source": [
    "df.isnull().sum()"
   ]
  },
  {
   "cell_type": "markdown",
   "id": "aa03ea8a-de57-4d9c-bc21-4cd1c133eb01",
   "metadata": {},
   "source": [
    "### 3.3 Handling Missing Values (Numerical)"
   ]
  },
  {
   "cell_type": "markdown",
   "id": "5e4afd6b-82eb-4d56-8ae1-2efb0a3d6f55",
   "metadata": {},
   "source": [
    "#### 1. backward fill : bfill()"
   ]
  },
  {
   "cell_type": "code",
   "execution_count": 1279,
   "id": "6008e9e7-1170-4221-8898-0ec4a2cd7203",
   "metadata": {},
   "outputs": [],
   "source": [
    "df['math score']=df['math score'].bfill()"
   ]
  },
  {
   "cell_type": "code",
   "execution_count": 1280,
   "id": "f6cd53f7-2dc7-4310-b3ae-3174fbf1502a",
   "metadata": {},
   "outputs": [
    {
     "data": {
      "text/plain": [
       "gender                          7\n",
       "race/ethnicity                  1\n",
       "parental level of education     1\n",
       "lunch                           4\n",
       "test preparation course        11\n",
       "math score                      0\n",
       "reading score                   9\n",
       "writing score                  11\n",
       "dtype: int64"
      ]
     },
     "execution_count": 1280,
     "metadata": {},
     "output_type": "execute_result"
    }
   ],
   "source": [
    "df.isnull().sum()"
   ]
  },
  {
   "cell_type": "markdown",
   "id": "a08f840a-9579-42c2-8872-4a6c380a2d86",
   "metadata": {},
   "source": [
    "#### 2. forward fill : ffill()"
   ]
  },
  {
   "cell_type": "code",
   "execution_count": 1281,
   "id": "783c3b39-4eab-4870-98f5-fa1175b3dd0d",
   "metadata": {},
   "outputs": [],
   "source": [
    "df['writing score']=df['writing score'].ffill().bfill()"
   ]
  },
  {
   "cell_type": "code",
   "execution_count": 1282,
   "id": "f1b814c1-4161-41ba-b434-016b2c761081",
   "metadata": {},
   "outputs": [
    {
     "data": {
      "text/plain": [
       "gender                          7\n",
       "race/ethnicity                  1\n",
       "parental level of education     1\n",
       "lunch                           4\n",
       "test preparation course        11\n",
       "math score                      0\n",
       "reading score                   9\n",
       "writing score                   0\n",
       "dtype: int64"
      ]
     },
     "execution_count": 1282,
     "metadata": {},
     "output_type": "execute_result"
    }
   ],
   "source": [
    "df.isnull().sum()"
   ]
  },
  {
   "cell_type": "markdown",
   "id": "655b6313-9c56-44d4-8a57-541563c12444",
   "metadata": {},
   "source": [
    "#### 3.Imputing with Median"
   ]
  },
  {
   "cell_type": "code",
   "execution_count": 1283,
   "id": "7273dbe4-4e9a-4e76-a462-6f9e0bce019d",
   "metadata": {},
   "outputs": [],
   "source": [
    "df['reading score']=df['reading score'].fillna(df['reading score'].median())"
   ]
  },
  {
   "cell_type": "code",
   "execution_count": 1284,
   "id": "e6ede7f8-cc28-448c-8ba4-adf63acf8364",
   "metadata": {},
   "outputs": [
    {
     "data": {
      "text/plain": [
       "gender                          7\n",
       "race/ethnicity                  1\n",
       "parental level of education     1\n",
       "lunch                           4\n",
       "test preparation course        11\n",
       "math score                      0\n",
       "reading score                   0\n",
       "writing score                   0\n",
       "dtype: int64"
      ]
     },
     "execution_count": 1284,
     "metadata": {},
     "output_type": "execute_result"
    }
   ],
   "source": [
    "df.isnull().sum()"
   ]
  },
  {
   "cell_type": "markdown",
   "id": "8c8f1c44-0a48-4f87-a023-5487b274b603",
   "metadata": {},
   "source": [
    "### 3.3 Handling Missing Values (Categorical)"
   ]
  },
  {
   "cell_type": "raw",
   "id": "90b019cf-9bbb-42d6-b06f-a0bedf67540e",
   "metadata": {},
   "source": [
    "Missing values in each categorical column are imputed with their respective mode (most frequent value)."
   ]
  },
  {
   "cell_type": "raw",
   "id": "9c101541-85ad-4347-8aaa-3b12f470c583",
   "metadata": {},
   "source": [
    "mode()[0]: This finds the most frequent (mode) value in the column. \n",
    ".mode() returns a Series, so we select the first element ([0]) in case there are ties."
   ]
  },
  {
   "cell_type": "code",
   "execution_count": 1285,
   "id": "611b1694-f071-487f-9ca2-633cc4d7b27e",
   "metadata": {},
   "outputs": [],
   "source": [
    "\n",
    "for col in df.columns:\n",
    "    if df[col].dtype=='object':\n",
    "        df[col]=df[col].fillna(df[col].mode()[0])\n",
    "            "
   ]
  },
  {
   "cell_type": "code",
   "execution_count": 1286,
   "id": "106740d4-f3c3-48a9-b3f5-941e3c1c0884",
   "metadata": {},
   "outputs": [
    {
     "data": {
      "text/plain": [
       "gender                         0\n",
       "race/ethnicity                 0\n",
       "parental level of education    0\n",
       "lunch                          0\n",
       "test preparation course        0\n",
       "math score                     0\n",
       "reading score                  0\n",
       "writing score                  0\n",
       "dtype: int64"
      ]
     },
     "execution_count": 1286,
     "metadata": {},
     "output_type": "execute_result"
    }
   ],
   "source": [
    "df.isnull().sum()"
   ]
  },
  {
   "cell_type": "raw",
   "id": "b75e295e-3883-4b6c-b860-e86ab4b3cb8b",
   "metadata": {},
   "source": [
    "Mean: Use for continuous numerical data with a symmetric distribution\n",
    "no significant outliers (e.g., test scores, heights).\n",
    "\n",
    "Median: Use for continuous numerical data with skewed distributions or outliers \n",
    "(e.g., income, house prices).\n",
    "\n",
    "Mode: Use for categorical data, most frequent value is meaningful \n",
    "(e.g., gender, survey responses)."
   ]
  },
  {
   "cell_type": "code",
   "execution_count": 1287,
   "id": "0f7547f2-2cd2-4dd1-ae42-43dcbd6d54c5",
   "metadata": {},
   "outputs": [],
   "source": [
    "# for col in df.columns:\n",
    "#     if df[col].dtype=='object':\n",
    "#         df[col]=df[col].astype('string')\n",
    "# df.dtypes"
   ]
  },
  {
   "cell_type": "markdown",
   "id": "db83015e-5570-4fda-9f0f-479b5a2fba3d",
   "metadata": {},
   "source": [
    "## 4.Label Encoding"
   ]
  },
  {
   "cell_type": "markdown",
   "id": "5278c5a8-b224-4ecf-86ed-8311484cd376",
   "metadata": {},
   "source": [
    "### Before Lable Encoding"
   ]
  },
  {
   "cell_type": "code",
   "execution_count": 1288,
   "id": "4e27ac8d-97c9-4652-a7b3-dcb10afc01d8",
   "metadata": {},
   "outputs": [
    {
     "data": {
      "text/html": [
       "<div>\n",
       "<style scoped>\n",
       "    .dataframe tbody tr th:only-of-type {\n",
       "        vertical-align: middle;\n",
       "    }\n",
       "\n",
       "    .dataframe tbody tr th {\n",
       "        vertical-align: top;\n",
       "    }\n",
       "\n",
       "    .dataframe thead th {\n",
       "        text-align: right;\n",
       "    }\n",
       "</style>\n",
       "<table border=\"1\" class=\"dataframe\">\n",
       "  <thead>\n",
       "    <tr style=\"text-align: right;\">\n",
       "      <th></th>\n",
       "      <th>gender</th>\n",
       "      <th>race/ethnicity</th>\n",
       "      <th>parental level of education</th>\n",
       "      <th>lunch</th>\n",
       "      <th>test preparation course</th>\n",
       "      <th>math score</th>\n",
       "      <th>reading score</th>\n",
       "      <th>writing score</th>\n",
       "    </tr>\n",
       "  </thead>\n",
       "  <tbody>\n",
       "    <tr>\n",
       "      <th>0</th>\n",
       "      <td>female</td>\n",
       "      <td>group B</td>\n",
       "      <td>bachelor's degree</td>\n",
       "      <td>standard</td>\n",
       "      <td>none</td>\n",
       "      <td>72.0</td>\n",
       "      <td>72.0</td>\n",
       "      <td>74.0</td>\n",
       "    </tr>\n",
       "    <tr>\n",
       "      <th>1</th>\n",
       "      <td>female</td>\n",
       "      <td>group C</td>\n",
       "      <td>some college</td>\n",
       "      <td>standard</td>\n",
       "      <td>completed</td>\n",
       "      <td>69.0</td>\n",
       "      <td>90.0</td>\n",
       "      <td>88.0</td>\n",
       "    </tr>\n",
       "    <tr>\n",
       "      <th>2</th>\n",
       "      <td>female</td>\n",
       "      <td>group B</td>\n",
       "      <td>master's degree</td>\n",
       "      <td>standard</td>\n",
       "      <td>none</td>\n",
       "      <td>90.0</td>\n",
       "      <td>95.0</td>\n",
       "      <td>93.0</td>\n",
       "    </tr>\n",
       "    <tr>\n",
       "      <th>3</th>\n",
       "      <td>male</td>\n",
       "      <td>group A</td>\n",
       "      <td>associate's degree</td>\n",
       "      <td>free/reduced</td>\n",
       "      <td>none</td>\n",
       "      <td>47.0</td>\n",
       "      <td>57.0</td>\n",
       "      <td>44.0</td>\n",
       "    </tr>\n",
       "    <tr>\n",
       "      <th>4</th>\n",
       "      <td>male</td>\n",
       "      <td>group C</td>\n",
       "      <td>some college</td>\n",
       "      <td>standard</td>\n",
       "      <td>none</td>\n",
       "      <td>76.0</td>\n",
       "      <td>78.0</td>\n",
       "      <td>75.0</td>\n",
       "    </tr>\n",
       "  </tbody>\n",
       "</table>\n",
       "</div>"
      ],
      "text/plain": [
       "   gender race/ethnicity parental level of education         lunch  \\\n",
       "0  female        group B           bachelor's degree      standard   \n",
       "1  female        group C                some college      standard   \n",
       "2  female        group B             master's degree      standard   \n",
       "3    male        group A          associate's degree  free/reduced   \n",
       "4    male        group C                some college      standard   \n",
       "\n",
       "  test preparation course  math score  reading score  writing score  \n",
       "0                    none        72.0           72.0           74.0  \n",
       "1               completed        69.0           90.0           88.0  \n",
       "2                    none        90.0           95.0           93.0  \n",
       "3                    none        47.0           57.0           44.0  \n",
       "4                    none        76.0           78.0           75.0  "
      ]
     },
     "execution_count": 1288,
     "metadata": {},
     "output_type": "execute_result"
    }
   ],
   "source": [
    "df.head()"
   ]
  },
  {
   "cell_type": "code",
   "execution_count": 1289,
   "id": "6f0c2596-71c5-40c8-9e95-4319a1db704c",
   "metadata": {},
   "outputs": [],
   "source": [
    "from sklearn.preprocessing import LabelEncoder \n",
    "le=LabelEncoder()\n",
    "\n",
    "for col in df.columns:\n",
    "    if df[col].dtype=='object':\n",
    "        df[col]=le.fit_transform(df[col])"
   ]
  },
  {
   "cell_type": "markdown",
   "id": "4d4965cd-e2d4-4d96-9245-6658da20beff",
   "metadata": {},
   "source": [
    "### After Lable Encoding"
   ]
  },
  {
   "cell_type": "code",
   "execution_count": 1290,
   "id": "35533dc0-922c-422e-affa-daa77d714d2d",
   "metadata": {},
   "outputs": [
    {
     "data": {
      "text/html": [
       "<div>\n",
       "<style scoped>\n",
       "    .dataframe tbody tr th:only-of-type {\n",
       "        vertical-align: middle;\n",
       "    }\n",
       "\n",
       "    .dataframe tbody tr th {\n",
       "        vertical-align: top;\n",
       "    }\n",
       "\n",
       "    .dataframe thead th {\n",
       "        text-align: right;\n",
       "    }\n",
       "</style>\n",
       "<table border=\"1\" class=\"dataframe\">\n",
       "  <thead>\n",
       "    <tr style=\"text-align: right;\">\n",
       "      <th></th>\n",
       "      <th>gender</th>\n",
       "      <th>race/ethnicity</th>\n",
       "      <th>parental level of education</th>\n",
       "      <th>lunch</th>\n",
       "      <th>test preparation course</th>\n",
       "      <th>math score</th>\n",
       "      <th>reading score</th>\n",
       "      <th>writing score</th>\n",
       "    </tr>\n",
       "  </thead>\n",
       "  <tbody>\n",
       "    <tr>\n",
       "      <th>0</th>\n",
       "      <td>0</td>\n",
       "      <td>1</td>\n",
       "      <td>1</td>\n",
       "      <td>1</td>\n",
       "      <td>1</td>\n",
       "      <td>72.0</td>\n",
       "      <td>72.0</td>\n",
       "      <td>74.0</td>\n",
       "    </tr>\n",
       "    <tr>\n",
       "      <th>1</th>\n",
       "      <td>0</td>\n",
       "      <td>2</td>\n",
       "      <td>4</td>\n",
       "      <td>1</td>\n",
       "      <td>0</td>\n",
       "      <td>69.0</td>\n",
       "      <td>90.0</td>\n",
       "      <td>88.0</td>\n",
       "    </tr>\n",
       "    <tr>\n",
       "      <th>2</th>\n",
       "      <td>0</td>\n",
       "      <td>1</td>\n",
       "      <td>3</td>\n",
       "      <td>1</td>\n",
       "      <td>1</td>\n",
       "      <td>90.0</td>\n",
       "      <td>95.0</td>\n",
       "      <td>93.0</td>\n",
       "    </tr>\n",
       "    <tr>\n",
       "      <th>3</th>\n",
       "      <td>1</td>\n",
       "      <td>0</td>\n",
       "      <td>0</td>\n",
       "      <td>0</td>\n",
       "      <td>1</td>\n",
       "      <td>47.0</td>\n",
       "      <td>57.0</td>\n",
       "      <td>44.0</td>\n",
       "    </tr>\n",
       "    <tr>\n",
       "      <th>4</th>\n",
       "      <td>1</td>\n",
       "      <td>2</td>\n",
       "      <td>4</td>\n",
       "      <td>1</td>\n",
       "      <td>1</td>\n",
       "      <td>76.0</td>\n",
       "      <td>78.0</td>\n",
       "      <td>75.0</td>\n",
       "    </tr>\n",
       "  </tbody>\n",
       "</table>\n",
       "</div>"
      ],
      "text/plain": [
       "   gender  race/ethnicity  parental level of education  lunch  \\\n",
       "0       0               1                            1      1   \n",
       "1       0               2                            4      1   \n",
       "2       0               1                            3      1   \n",
       "3       1               0                            0      0   \n",
       "4       1               2                            4      1   \n",
       "\n",
       "   test preparation course  math score  reading score  writing score  \n",
       "0                        1        72.0           72.0           74.0  \n",
       "1                        0        69.0           90.0           88.0  \n",
       "2                        1        90.0           95.0           93.0  \n",
       "3                        1        47.0           57.0           44.0  \n",
       "4                        1        76.0           78.0           75.0  "
      ]
     },
     "execution_count": 1290,
     "metadata": {},
     "output_type": "execute_result"
    }
   ],
   "source": [
    "df.head()"
   ]
  },
  {
   "cell_type": "markdown",
   "id": "4854ae10-7ebe-431e-b70e-2b935d9541af",
   "metadata": {},
   "source": [
    "## 5. Identifying Outliers "
   ]
  },
  {
   "cell_type": "markdown",
   "id": "7a1167f9-513e-42c8-aa54-8e235d7f5735",
   "metadata": {},
   "source": [
    "### 5.1 BOXPLOT"
   ]
  },
  {
   "cell_type": "code",
   "execution_count": 1291,
   "id": "51c58c6f-41c1-4b64-8fdd-b8a498beb354",
   "metadata": {},
   "outputs": [
    {
     "data": {
      "image/png": "[encoded data removed]",
      "text/plain": [
       "<Figure size 640x480 with 1 Axes>"
      ]
     },
     "metadata": {},
     "output_type": "display_data"
    }
   ],
   "source": [
    "sns.boxplot(data=df['math score'])\n",
    "plt.show()"
   ]
  },
  {
   "cell_type": "code",
   "execution_count": 1292,
   "id": "0c7d81b5-b481-4cae-8571-c443181fcca2",
   "metadata": {},
   "outputs": [
    {
     "data": {
      "image/png": "[encoded data removed]",
      "text/plain": [
       "<Figure size 640x480 with 1 Axes>"
      ]
     },
     "metadata": {},
     "output_type": "display_data"
    }
   ],
   "source": [
    "sns.boxplot(data=df['reading score'])\n",
    "plt.show()"
   ]
  },
  {
   "cell_type": "code",
   "execution_count": 1293,
   "id": "80ec569f-d4f5-4a1b-b09a-ff0b21e7282c",
   "metadata": {},
   "outputs": [
    {
     "data": {
      "image/png": "[encoded data removed]",
      "text/plain": [
       "<Figure size 640x480 with 1 Axes>"
      ]
     },
     "metadata": {},
     "output_type": "display_data"
    }
   ],
   "source": [
    "sns.boxplot(data=df['writing score'])\n",
    "plt.show()"
   ]
  },
  {
   "cell_type": "markdown",
   "id": "258921d4-d362-41e5-9e13-df460e5750bb",
   "metadata": {},
   "source": [
    "## 6. Removing Outliers "
   ]
  },
  {
   "cell_type": "markdown",
   "id": "e8146215-8b47-4e44-b15a-c9148fc27acf",
   "metadata": {},
   "source": [
    "### 6.1 Inter Quartile Range Method"
   ]
  },
  {
   "cell_type": "code",
   "execution_count": 1294,
   "id": "fec05678-a3be-4f49-ac4e-655683147cbb",
   "metadata": {},
   "outputs": [
    {
     "name": "stdout",
     "output_type": "stream",
     "text": [
      "20.0 57.0 77.0\n"
     ]
    }
   ],
   "source": [
    "Q1=df['math score'].quantile(0.25)\n",
    "Q3=df['math score'].quantile(0.75)\n",
    "IQR=Q3-Q1\n",
    "print(IQR,Q1,Q3)"
   ]
  },
  {
   "cell_type": "code",
   "execution_count": 1295,
   "id": "889070ad-58ba-432d-9d5c-f78017a68f7c",
   "metadata": {},
   "outputs": [],
   "source": [
    "LB=Q1-1.5*IQR\n",
    "UB=Q3+1.5*IQR"
   ]
  },
  {
   "cell_type": "code",
   "execution_count": 1296,
   "id": "426ba048-a7b3-44fe-894f-1c819ecdf34a",
   "metadata": {},
   "outputs": [
    {
     "name": "stdout",
     "output_type": "stream",
     "text": [
      "27.0 107.0\n"
     ]
    }
   ],
   "source": [
    "print(LB,UB)"
   ]
  },
  {
   "cell_type": "code",
   "execution_count": 1297,
   "id": "c5e16c92-2a7a-413a-81e9-ae6f7d59cdff",
   "metadata": {},
   "outputs": [
    {
     "data": {
      "text/plain": [
       "gender                         8\n",
       "race/ethnicity                 8\n",
       "parental level of education    8\n",
       "lunch                          8\n",
       "test preparation course        8\n",
       "math score                     8\n",
       "reading score                  8\n",
       "writing score                  8\n",
       "dtype: int64"
      ]
     },
     "execution_count": 1297,
     "metadata": {},
     "output_type": "execute_result"
    }
   ],
   "source": [
    "outliers=df[(df['math score']<LB)|(df['math score']>UB)]\n",
    "outliers.count()"
   ]
  },
  {
   "cell_type": "code",
   "execution_count": 1298,
   "id": "b229a999-95b8-4ae4-8d19-cf9d186122ae",
   "metadata": {},
   "outputs": [
    {
     "data": {
      "text/html": [
       "<div>\n",
       "<style scoped>\n",
       "    .dataframe tbody tr th:only-of-type {\n",
       "        vertical-align: middle;\n",
       "    }\n",
       "\n",
       "    .dataframe tbody tr th {\n",
       "        vertical-align: top;\n",
       "    }\n",
       "\n",
       "    .dataframe thead th {\n",
       "        text-align: right;\n",
       "    }\n",
       "</style>\n",
       "<table border=\"1\" class=\"dataframe\">\n",
       "  <thead>\n",
       "    <tr style=\"text-align: right;\">\n",
       "      <th></th>\n",
       "      <th>gender</th>\n",
       "      <th>race/ethnicity</th>\n",
       "      <th>parental level of education</th>\n",
       "      <th>lunch</th>\n",
       "      <th>test preparation course</th>\n",
       "      <th>math score</th>\n",
       "      <th>reading score</th>\n",
       "      <th>writing score</th>\n",
       "    </tr>\n",
       "  </thead>\n",
       "  <tbody>\n",
       "    <tr>\n",
       "      <th>17</th>\n",
       "      <td>0</td>\n",
       "      <td>1</td>\n",
       "      <td>5</td>\n",
       "      <td>0</td>\n",
       "      <td>1</td>\n",
       "      <td>18.0</td>\n",
       "      <td>32.0</td>\n",
       "      <td>28.0</td>\n",
       "    </tr>\n",
       "    <tr>\n",
       "      <th>59</th>\n",
       "      <td>0</td>\n",
       "      <td>2</td>\n",
       "      <td>5</td>\n",
       "      <td>0</td>\n",
       "      <td>1</td>\n",
       "      <td>0.0</td>\n",
       "      <td>17.0</td>\n",
       "      <td>10.0</td>\n",
       "    </tr>\n",
       "    <tr>\n",
       "      <th>145</th>\n",
       "      <td>0</td>\n",
       "      <td>2</td>\n",
       "      <td>4</td>\n",
       "      <td>0</td>\n",
       "      <td>1</td>\n",
       "      <td>22.0</td>\n",
       "      <td>39.0</td>\n",
       "      <td>33.0</td>\n",
       "    </tr>\n",
       "    <tr>\n",
       "      <th>338</th>\n",
       "      <td>0</td>\n",
       "      <td>1</td>\n",
       "      <td>5</td>\n",
       "      <td>0</td>\n",
       "      <td>1</td>\n",
       "      <td>24.0</td>\n",
       "      <td>38.0</td>\n",
       "      <td>27.0</td>\n",
       "    </tr>\n",
       "    <tr>\n",
       "      <th>466</th>\n",
       "      <td>0</td>\n",
       "      <td>3</td>\n",
       "      <td>0</td>\n",
       "      <td>0</td>\n",
       "      <td>1</td>\n",
       "      <td>26.0</td>\n",
       "      <td>31.0</td>\n",
       "      <td>38.0</td>\n",
       "    </tr>\n",
       "    <tr>\n",
       "      <th>787</th>\n",
       "      <td>0</td>\n",
       "      <td>1</td>\n",
       "      <td>4</td>\n",
       "      <td>1</td>\n",
       "      <td>1</td>\n",
       "      <td>19.0</td>\n",
       "      <td>38.0</td>\n",
       "      <td>32.0</td>\n",
       "    </tr>\n",
       "    <tr>\n",
       "      <th>842</th>\n",
       "      <td>0</td>\n",
       "      <td>1</td>\n",
       "      <td>2</td>\n",
       "      <td>0</td>\n",
       "      <td>0</td>\n",
       "      <td>23.0</td>\n",
       "      <td>44.0</td>\n",
       "      <td>36.0</td>\n",
       "    </tr>\n",
       "    <tr>\n",
       "      <th>980</th>\n",
       "      <td>0</td>\n",
       "      <td>1</td>\n",
       "      <td>2</td>\n",
       "      <td>0</td>\n",
       "      <td>1</td>\n",
       "      <td>8.0</td>\n",
       "      <td>24.0</td>\n",
       "      <td>23.0</td>\n",
       "    </tr>\n",
       "  </tbody>\n",
       "</table>\n",
       "</div>"
      ],
      "text/plain": [
       "     gender  race/ethnicity  parental level of education  lunch  \\\n",
       "17        0               1                            5      0   \n",
       "59        0               2                            5      0   \n",
       "145       0               2                            4      0   \n",
       "338       0               1                            5      0   \n",
       "466       0               3                            0      0   \n",
       "787       0               1                            4      1   \n",
       "842       0               1                            2      0   \n",
       "980       0               1                            2      0   \n",
       "\n",
       "     test preparation course  math score  reading score  writing score  \n",
       "17                         1        18.0           32.0           28.0  \n",
       "59                         1         0.0           17.0           10.0  \n",
       "145                        1        22.0           39.0           33.0  \n",
       "338                        1        24.0           38.0           27.0  \n",
       "466                        1        26.0           31.0           38.0  \n",
       "787                        1        19.0           38.0           32.0  \n",
       "842                        0        23.0           44.0           36.0  \n",
       "980                        1         8.0           24.0           23.0  "
      ]
     },
     "execution_count": 1298,
     "metadata": {},
     "output_type": "execute_result"
    }
   ],
   "source": [
    "outliers.head(10)"
   ]
  },
  {
   "cell_type": "markdown",
   "id": "4e3603cc-d41b-48be-ba88-c7870415d49d",
   "metadata": {},
   "source": [
    "#### Filter the data to remove outliers"
   ]
  },
  {
   "cell_type": "code",
   "execution_count": 1299,
   "id": "6c7c0ba1-943e-47a7-bba3-c1c7ea60d388",
   "metadata": {},
   "outputs": [],
   "source": [
    "df_no_outliers = df[(df['math score'] >= LB) & (df['math score'] <= UB)]"
   ]
  },
  {
   "cell_type": "code",
   "execution_count": 1300,
   "id": "48922c42-ab95-4f13-8d08-9cea2d4e342c",
   "metadata": {},
   "outputs": [
    {
     "data": {
      "text/html": [
       "<div>\n",
       "<style scoped>\n",
       "    .dataframe tbody tr th:only-of-type {\n",
       "        vertical-align: middle;\n",
       "    }\n",
       "\n",
       "    .dataframe tbody tr th {\n",
       "        vertical-align: top;\n",
       "    }\n",
       "\n",
       "    .dataframe thead th {\n",
       "        text-align: right;\n",
       "    }\n",
       "</style>\n",
       "<table border=\"1\" class=\"dataframe\">\n",
       "  <thead>\n",
       "    <tr style=\"text-align: right;\">\n",
       "      <th></th>\n",
       "      <th>gender</th>\n",
       "      <th>race/ethnicity</th>\n",
       "      <th>parental level of education</th>\n",
       "      <th>lunch</th>\n",
       "      <th>test preparation course</th>\n",
       "      <th>math score</th>\n",
       "      <th>reading score</th>\n",
       "      <th>writing score</th>\n",
       "    </tr>\n",
       "  </thead>\n",
       "  <tbody>\n",
       "    <tr>\n",
       "      <th>count</th>\n",
       "      <td>992.000000</td>\n",
       "      <td>992.000000</td>\n",
       "      <td>992.000000</td>\n",
       "      <td>992.000000</td>\n",
       "      <td>992.000000</td>\n",
       "      <td>992.000000</td>\n",
       "      <td>992.000000</td>\n",
       "      <td>992.000000</td>\n",
       "    </tr>\n",
       "    <tr>\n",
       "      <th>mean</th>\n",
       "      <td>0.482863</td>\n",
       "      <td>2.179435</td>\n",
       "      <td>2.477823</td>\n",
       "      <td>0.651210</td>\n",
       "      <td>0.642137</td>\n",
       "      <td>66.506048</td>\n",
       "      <td>69.443548</td>\n",
       "      <td>68.406250</td>\n",
       "    </tr>\n",
       "    <tr>\n",
       "      <th>std</th>\n",
       "      <td>0.499958</td>\n",
       "      <td>1.158508</td>\n",
       "      <td>1.827449</td>\n",
       "      <td>0.476828</td>\n",
       "      <td>0.479613</td>\n",
       "      <td>14.564515</td>\n",
       "      <td>14.240221</td>\n",
       "      <td>14.841758</td>\n",
       "    </tr>\n",
       "    <tr>\n",
       "      <th>min</th>\n",
       "      <td>0.000000</td>\n",
       "      <td>0.000000</td>\n",
       "      <td>0.000000</td>\n",
       "      <td>0.000000</td>\n",
       "      <td>0.000000</td>\n",
       "      <td>27.000000</td>\n",
       "      <td>23.000000</td>\n",
       "      <td>15.000000</td>\n",
       "    </tr>\n",
       "    <tr>\n",
       "      <th>25%</th>\n",
       "      <td>0.000000</td>\n",
       "      <td>1.000000</td>\n",
       "      <td>1.000000</td>\n",
       "      <td>0.000000</td>\n",
       "      <td>0.000000</td>\n",
       "      <td>57.000000</td>\n",
       "      <td>60.000000</td>\n",
       "      <td>58.000000</td>\n",
       "    </tr>\n",
       "    <tr>\n",
       "      <th>50%</th>\n",
       "      <td>0.000000</td>\n",
       "      <td>2.000000</td>\n",
       "      <td>2.000000</td>\n",
       "      <td>1.000000</td>\n",
       "      <td>1.000000</td>\n",
       "      <td>66.000000</td>\n",
       "      <td>70.000000</td>\n",
       "      <td>69.000000</td>\n",
       "    </tr>\n",
       "    <tr>\n",
       "      <th>75%</th>\n",
       "      <td>1.000000</td>\n",
       "      <td>3.000000</td>\n",
       "      <td>4.000000</td>\n",
       "      <td>1.000000</td>\n",
       "      <td>1.000000</td>\n",
       "      <td>77.000000</td>\n",
       "      <td>79.000000</td>\n",
       "      <td>79.000000</td>\n",
       "    </tr>\n",
       "    <tr>\n",
       "      <th>max</th>\n",
       "      <td>1.000000</td>\n",
       "      <td>4.000000</td>\n",
       "      <td>5.000000</td>\n",
       "      <td>1.000000</td>\n",
       "      <td>1.000000</td>\n",
       "      <td>100.000000</td>\n",
       "      <td>100.000000</td>\n",
       "      <td>100.000000</td>\n",
       "    </tr>\n",
       "  </tbody>\n",
       "</table>\n",
       "</div>"
      ],
      "text/plain": [
       "           gender  race/ethnicity  parental level of education       lunch  \\\n",
       "count  992.000000      992.000000                   992.000000  992.000000   \n",
       "mean     0.482863        2.179435                     2.477823    0.651210   \n",
       "std      0.499958        1.158508                     1.827449    0.476828   \n",
       "min      0.000000        0.000000                     0.000000    0.000000   \n",
       "25%      0.000000        1.000000                     1.000000    0.000000   \n",
       "50%      0.000000        2.000000                     2.000000    1.000000   \n",
       "75%      1.000000        3.000000                     4.000000    1.000000   \n",
       "max      1.000000        4.000000                     5.000000    1.000000   \n",
       "\n",
       "       test preparation course  math score  reading score  writing score  \n",
       "count               992.000000  992.000000     992.000000     992.000000  \n",
       "mean                  0.642137   66.506048      69.443548      68.406250  \n",
       "std                   0.479613   14.564515      14.240221      14.841758  \n",
       "min                   0.000000   27.000000      23.000000      15.000000  \n",
       "25%                   0.000000   57.000000      60.000000      58.000000  \n",
       "50%                   1.000000   66.000000      70.000000      69.000000  \n",
       "75%                   1.000000   77.000000      79.000000      79.000000  \n",
       "max                   1.000000  100.000000     100.000000     100.000000  "
      ]
     },
     "execution_count": 1300,
     "metadata": {},
     "output_type": "execute_result"
    }
   ],
   "source": [
    "df_no_outliers.describe()"
   ]
  },
  {
   "cell_type": "markdown",
   "id": "da9b90da-4ccc-46a4-beee-afceeee54d1d",
   "metadata": {},
   "source": [
    "### Now the min for math score is not 0  (an outlier) , as it was before "
   ]
  },
  {
   "cell_type": "code",
   "execution_count": 1301,
   "id": "f024e5ad-52ae-4d87-8dae-3ef512d4ac67",
   "metadata": {},
   "outputs": [
    {
     "data": {
      "image/png": "[encoded data removed]",
      "text/plain": [
       "<Figure size 640x480 with 1 Axes>"
      ]
     },
     "metadata": {},
     "output_type": "display_data"
    }
   ],
   "source": [
    "sns.boxplot(data=df_no_outliers['math score'])\n",
    "plt.show()"
   ]
  },
  {
   "cell_type": "markdown",
   "id": "b1ff2229-0397-4539-a732-661d5447918d",
   "metadata": {},
   "source": [
    "### 6.2 Z-SCORE"
   ]
  },
  {
   "cell_type": "code",
   "execution_count": 1302,
   "id": "2f00da78-a782-4d8d-bf97-9723631e74ee",
   "metadata": {},
   "outputs": [],
   "source": [
    "threshold = 3\n",
    "z_scores_writing = (df['writing score'] - df['writing score'].mean()) / df['writing score'].std()\n",
    "df_cleaned = df[(np.abs(z_scores_writing) <= threshold)]\n"
   ]
  },
  {
   "cell_type": "code",
   "execution_count": 1303,
   "id": "c7058198-5d65-41a9-927a-f8988482aefe",
   "metadata": {},
   "outputs": [
    {
     "data": {
      "text/html": [
       "<div>\n",
       "<style scoped>\n",
       "    .dataframe tbody tr th:only-of-type {\n",
       "        vertical-align: middle;\n",
       "    }\n",
       "\n",
       "    .dataframe tbody tr th {\n",
       "        vertical-align: top;\n",
       "    }\n",
       "\n",
       "    .dataframe thead th {\n",
       "        text-align: right;\n",
       "    }\n",
       "</style>\n",
       "<table border=\"1\" class=\"dataframe\">\n",
       "  <thead>\n",
       "    <tr style=\"text-align: right;\">\n",
       "      <th></th>\n",
       "      <th>gender</th>\n",
       "      <th>race/ethnicity</th>\n",
       "      <th>parental level of education</th>\n",
       "      <th>lunch</th>\n",
       "      <th>test preparation course</th>\n",
       "      <th>math score</th>\n",
       "      <th>reading score</th>\n",
       "      <th>writing score</th>\n",
       "    </tr>\n",
       "  </thead>\n",
       "  <tbody>\n",
       "    <tr>\n",
       "      <th>count</th>\n",
       "      <td>1000.000000</td>\n",
       "      <td>1000.000000</td>\n",
       "      <td>1000.00000</td>\n",
       "      <td>1000.000000</td>\n",
       "      <td>1000.000000</td>\n",
       "      <td>1000.000000</td>\n",
       "      <td>1000.000000</td>\n",
       "      <td>1000.000000</td>\n",
       "    </tr>\n",
       "    <tr>\n",
       "      <th>mean</th>\n",
       "      <td>0.479000</td>\n",
       "      <td>2.174000</td>\n",
       "      <td>2.48500</td>\n",
       "      <td>0.647000</td>\n",
       "      <td>0.644000</td>\n",
       "      <td>66.114000</td>\n",
       "      <td>69.151000</td>\n",
       "      <td>68.086000</td>\n",
       "    </tr>\n",
       "    <tr>\n",
       "      <th>std</th>\n",
       "      <td>0.499809</td>\n",
       "      <td>1.157179</td>\n",
       "      <td>1.82842</td>\n",
       "      <td>0.478142</td>\n",
       "      <td>0.479055</td>\n",
       "      <td>15.168028</td>\n",
       "      <td>14.571634</td>\n",
       "      <td>15.224927</td>\n",
       "    </tr>\n",
       "    <tr>\n",
       "      <th>min</th>\n",
       "      <td>0.000000</td>\n",
       "      <td>0.000000</td>\n",
       "      <td>0.00000</td>\n",
       "      <td>0.000000</td>\n",
       "      <td>0.000000</td>\n",
       "      <td>0.000000</td>\n",
       "      <td>17.000000</td>\n",
       "      <td>10.000000</td>\n",
       "    </tr>\n",
       "    <tr>\n",
       "      <th>25%</th>\n",
       "      <td>0.000000</td>\n",
       "      <td>1.000000</td>\n",
       "      <td>1.00000</td>\n",
       "      <td>0.000000</td>\n",
       "      <td>0.000000</td>\n",
       "      <td>57.000000</td>\n",
       "      <td>59.000000</td>\n",
       "      <td>58.000000</td>\n",
       "    </tr>\n",
       "    <tr>\n",
       "      <th>50%</th>\n",
       "      <td>0.000000</td>\n",
       "      <td>2.000000</td>\n",
       "      <td>2.00000</td>\n",
       "      <td>1.000000</td>\n",
       "      <td>1.000000</td>\n",
       "      <td>66.000000</td>\n",
       "      <td>70.000000</td>\n",
       "      <td>69.000000</td>\n",
       "    </tr>\n",
       "    <tr>\n",
       "      <th>75%</th>\n",
       "      <td>1.000000</td>\n",
       "      <td>3.000000</td>\n",
       "      <td>4.00000</td>\n",
       "      <td>1.000000</td>\n",
       "      <td>1.000000</td>\n",
       "      <td>77.000000</td>\n",
       "      <td>79.000000</td>\n",
       "      <td>79.000000</td>\n",
       "    </tr>\n",
       "    <tr>\n",
       "      <th>max</th>\n",
       "      <td>1.000000</td>\n",
       "      <td>4.000000</td>\n",
       "      <td>5.00000</td>\n",
       "      <td>1.000000</td>\n",
       "      <td>1.000000</td>\n",
       "      <td>100.000000</td>\n",
       "      <td>100.000000</td>\n",
       "      <td>100.000000</td>\n",
       "    </tr>\n",
       "  </tbody>\n",
       "</table>\n",
       "</div>"
      ],
      "text/plain": [
       "            gender  race/ethnicity  parental level of education        lunch  \\\n",
       "count  1000.000000     1000.000000                   1000.00000  1000.000000   \n",
       "mean      0.479000        2.174000                      2.48500     0.647000   \n",
       "std       0.499809        1.157179                      1.82842     0.478142   \n",
       "min       0.000000        0.000000                      0.00000     0.000000   \n",
       "25%       0.000000        1.000000                      1.00000     0.000000   \n",
       "50%       0.000000        2.000000                      2.00000     1.000000   \n",
       "75%       1.000000        3.000000                      4.00000     1.000000   \n",
       "max       1.000000        4.000000                      5.00000     1.000000   \n",
       "\n",
       "       test preparation course   math score  reading score  writing score  \n",
       "count              1000.000000  1000.000000    1000.000000    1000.000000  \n",
       "mean                  0.644000    66.114000      69.151000      68.086000  \n",
       "std                   0.479055    15.168028      14.571634      15.224927  \n",
       "min                   0.000000     0.000000      17.000000      10.000000  \n",
       "25%                   0.000000    57.000000      59.000000      58.000000  \n",
       "50%                   1.000000    66.000000      70.000000      69.000000  \n",
       "75%                   1.000000    77.000000      79.000000      79.000000  \n",
       "max                   1.000000   100.000000     100.000000     100.000000  "
      ]
     },
     "execution_count": 1303,
     "metadata": {},
     "output_type": "execute_result"
    }
   ],
   "source": [
    "df.describe()  #before"
   ]
  },
  {
   "cell_type": "code",
   "execution_count": 1304,
   "id": "971cffff-6083-4224-ade8-649f77a1d93c",
   "metadata": {},
   "outputs": [
    {
     "data": {
      "text/html": [
       "<div>\n",
       "<style scoped>\n",
       "    .dataframe tbody tr th:only-of-type {\n",
       "        vertical-align: middle;\n",
       "    }\n",
       "\n",
       "    .dataframe tbody tr th {\n",
       "        vertical-align: top;\n",
       "    }\n",
       "\n",
       "    .dataframe thead th {\n",
       "        text-align: right;\n",
       "    }\n",
       "</style>\n",
       "<table border=\"1\" class=\"dataframe\">\n",
       "  <thead>\n",
       "    <tr style=\"text-align: right;\">\n",
       "      <th></th>\n",
       "      <th>gender</th>\n",
       "      <th>race/ethnicity</th>\n",
       "      <th>parental level of education</th>\n",
       "      <th>lunch</th>\n",
       "      <th>test preparation course</th>\n",
       "      <th>math score</th>\n",
       "      <th>reading score</th>\n",
       "      <th>writing score</th>\n",
       "    </tr>\n",
       "  </thead>\n",
       "  <tbody>\n",
       "    <tr>\n",
       "      <th>count</th>\n",
       "      <td>996.000000</td>\n",
       "      <td>996.000000</td>\n",
       "      <td>996.000000</td>\n",
       "      <td>996.000000</td>\n",
       "      <td>996.000000</td>\n",
       "      <td>996.000000</td>\n",
       "      <td>996.000000</td>\n",
       "      <td>996.000000</td>\n",
       "    </tr>\n",
       "    <tr>\n",
       "      <th>mean</th>\n",
       "      <td>0.477912</td>\n",
       "      <td>2.175703</td>\n",
       "      <td>2.478916</td>\n",
       "      <td>0.648594</td>\n",
       "      <td>0.642570</td>\n",
       "      <td>66.291165</td>\n",
       "      <td>69.338353</td>\n",
       "      <td>68.293173</td>\n",
       "    </tr>\n",
       "    <tr>\n",
       "      <th>std</th>\n",
       "      <td>0.499763</td>\n",
       "      <td>1.155390</td>\n",
       "      <td>1.827912</td>\n",
       "      <td>0.477649</td>\n",
       "      <td>0.479484</td>\n",
       "      <td>14.916032</td>\n",
       "      <td>14.295340</td>\n",
       "      <td>14.896575</td>\n",
       "    </tr>\n",
       "    <tr>\n",
       "      <th>min</th>\n",
       "      <td>0.000000</td>\n",
       "      <td>0.000000</td>\n",
       "      <td>0.000000</td>\n",
       "      <td>0.000000</td>\n",
       "      <td>0.000000</td>\n",
       "      <td>8.000000</td>\n",
       "      <td>24.000000</td>\n",
       "      <td>23.000000</td>\n",
       "    </tr>\n",
       "    <tr>\n",
       "      <th>25%</th>\n",
       "      <td>0.000000</td>\n",
       "      <td>1.000000</td>\n",
       "      <td>1.000000</td>\n",
       "      <td>0.000000</td>\n",
       "      <td>0.000000</td>\n",
       "      <td>57.000000</td>\n",
       "      <td>59.000000</td>\n",
       "      <td>58.000000</td>\n",
       "    </tr>\n",
       "    <tr>\n",
       "      <th>50%</th>\n",
       "      <td>0.000000</td>\n",
       "      <td>2.000000</td>\n",
       "      <td>2.000000</td>\n",
       "      <td>1.000000</td>\n",
       "      <td>1.000000</td>\n",
       "      <td>66.000000</td>\n",
       "      <td>70.000000</td>\n",
       "      <td>69.000000</td>\n",
       "    </tr>\n",
       "    <tr>\n",
       "      <th>75%</th>\n",
       "      <td>1.000000</td>\n",
       "      <td>3.000000</td>\n",
       "      <td>4.000000</td>\n",
       "      <td>1.000000</td>\n",
       "      <td>1.000000</td>\n",
       "      <td>77.000000</td>\n",
       "      <td>79.000000</td>\n",
       "      <td>79.000000</td>\n",
       "    </tr>\n",
       "    <tr>\n",
       "      <th>max</th>\n",
       "      <td>1.000000</td>\n",
       "      <td>4.000000</td>\n",
       "      <td>5.000000</td>\n",
       "      <td>1.000000</td>\n",
       "      <td>1.000000</td>\n",
       "      <td>100.000000</td>\n",
       "      <td>100.000000</td>\n",
       "      <td>100.000000</td>\n",
       "    </tr>\n",
       "  </tbody>\n",
       "</table>\n",
       "</div>"
      ],
      "text/plain": [
       "           gender  race/ethnicity  parental level of education       lunch  \\\n",
       "count  996.000000      996.000000                   996.000000  996.000000   \n",
       "mean     0.477912        2.175703                     2.478916    0.648594   \n",
       "std      0.499763        1.155390                     1.827912    0.477649   \n",
       "min      0.000000        0.000000                     0.000000    0.000000   \n",
       "25%      0.000000        1.000000                     1.000000    0.000000   \n",
       "50%      0.000000        2.000000                     2.000000    1.000000   \n",
       "75%      1.000000        3.000000                     4.000000    1.000000   \n",
       "max      1.000000        4.000000                     5.000000    1.000000   \n",
       "\n",
       "       test preparation course  math score  reading score  writing score  \n",
       "count               996.000000  996.000000     996.000000     996.000000  \n",
       "mean                  0.642570   66.291165      69.338353      68.293173  \n",
       "std                   0.479484   14.916032      14.295340      14.896575  \n",
       "min                   0.000000    8.000000      24.000000      23.000000  \n",
       "25%                   0.000000   57.000000      59.000000      58.000000  \n",
       "50%                   1.000000   66.000000      70.000000      69.000000  \n",
       "75%                   1.000000   77.000000      79.000000      79.000000  \n",
       "max                   1.000000  100.000000     100.000000     100.000000  "
      ]
     },
     "execution_count": 1304,
     "metadata": {},
     "output_type": "execute_result"
    }
   ],
   "source": [
    "df_cleaned.describe() #after"
   ]
  },
  {
   "cell_type": "code",
   "execution_count": 1305,
   "id": "3f65c892-dc45-4aeb-9efb-f7ed76dcfe0d",
   "metadata": {},
   "outputs": [
    {
     "data": {
      "image/png": "[encoded data removed]",
      "text/plain": [
       "<Figure size 640x480 with 1 Axes>"
      ]
     },
     "metadata": {},
     "output_type": "display_data"
    }
   ],
   "source": [
    "sns.boxplot(data=df_cleaned[[ 'writing score']])\n",
    "plt.show()"
   ]
  },
  {
   "cell_type": "code",
   "execution_count": 1306,
   "id": "b9a176bf-1c09-4b2a-8e74-74b18501bc69",
   "metadata": {},
   "outputs": [],
   "source": [
    "Q1 = df['reading score'].quantile(0.25)\n",
    "Q3 = df['reading score'].quantile(0.75)\n",
    "IQR = Q3 - Q1\n",
    "\n",
    "lower_bound = Q1 - 1.5 * IQR\n",
    "upper_bound = Q3 + 1.5 * IQR\n",
    "\n",
    "df_cleaned = df[(df['reading score'] >= lower_bound) & (df['reading score'] <= upper_bound)]\n",
    "\n"
   ]
  },
  {
   "cell_type": "code",
   "execution_count": 1307,
   "id": "0b1c791d-2c75-48e2-aea7-2bde560966ce",
   "metadata": {},
   "outputs": [
    {
     "data": {
      "image/png": "[encoded data removed]",
      "text/plain": [
       "<Figure size 640x480 with 1 Axes>"
      ]
     },
     "metadata": {},
     "output_type": "display_data"
    }
   ],
   "source": [
    "sns.boxplot(data=df_cleaned[ 'reading score'])\n",
    "plt.show()"
   ]
  },
  {
   "cell_type": "code",
   "execution_count": 1308,
   "id": "e5d3de8a-8213-46d5-9207-3206110268fe",
   "metadata": {},
   "outputs": [
    {
     "data": {
      "text/html": [
       "<div>\n",
       "<style scoped>\n",
       "    .dataframe tbody tr th:only-of-type {\n",
       "        vertical-align: middle;\n",
       "    }\n",
       "\n",
       "    .dataframe tbody tr th {\n",
       "        vertical-align: top;\n",
       "    }\n",
       "\n",
       "    .dataframe thead th {\n",
       "        text-align: right;\n",
       "    }\n",
       "</style>\n",
       "<table border=\"1\" class=\"dataframe\">\n",
       "  <thead>\n",
       "    <tr style=\"text-align: right;\">\n",
       "      <th></th>\n",
       "      <th>gender</th>\n",
       "      <th>race/ethnicity</th>\n",
       "      <th>parental level of education</th>\n",
       "      <th>lunch</th>\n",
       "      <th>test preparation course</th>\n",
       "      <th>math score</th>\n",
       "      <th>reading score</th>\n",
       "      <th>writing score</th>\n",
       "    </tr>\n",
       "  </thead>\n",
       "  <tbody>\n",
       "    <tr>\n",
       "      <th>count</th>\n",
       "      <td>994.000000</td>\n",
       "      <td>994.000000</td>\n",
       "      <td>994.000000</td>\n",
       "      <td>994.000000</td>\n",
       "      <td>994.000000</td>\n",
       "      <td>994.000000</td>\n",
       "      <td>994.000000</td>\n",
       "      <td>994.000000</td>\n",
       "    </tr>\n",
       "    <tr>\n",
       "      <th>mean</th>\n",
       "      <td>0.477867</td>\n",
       "      <td>2.177062</td>\n",
       "      <td>2.477867</td>\n",
       "      <td>0.649899</td>\n",
       "      <td>0.641851</td>\n",
       "      <td>66.381288</td>\n",
       "      <td>69.425553</td>\n",
       "      <td>68.380282</td>\n",
       "    </tr>\n",
       "    <tr>\n",
       "      <th>std</th>\n",
       "      <td>0.499761</td>\n",
       "      <td>1.155937</td>\n",
       "      <td>1.829052</td>\n",
       "      <td>0.477241</td>\n",
       "      <td>0.479698</td>\n",
       "      <td>14.782426</td>\n",
       "      <td>14.176381</td>\n",
       "      <td>14.783917</td>\n",
       "    </tr>\n",
       "    <tr>\n",
       "      <th>min</th>\n",
       "      <td>0.000000</td>\n",
       "      <td>0.000000</td>\n",
       "      <td>0.000000</td>\n",
       "      <td>0.000000</td>\n",
       "      <td>0.000000</td>\n",
       "      <td>18.000000</td>\n",
       "      <td>29.000000</td>\n",
       "      <td>27.000000</td>\n",
       "    </tr>\n",
       "    <tr>\n",
       "      <th>25%</th>\n",
       "      <td>0.000000</td>\n",
       "      <td>1.000000</td>\n",
       "      <td>1.000000</td>\n",
       "      <td>0.000000</td>\n",
       "      <td>0.000000</td>\n",
       "      <td>57.000000</td>\n",
       "      <td>60.000000</td>\n",
       "      <td>58.000000</td>\n",
       "    </tr>\n",
       "    <tr>\n",
       "      <th>50%</th>\n",
       "      <td>0.000000</td>\n",
       "      <td>2.000000</td>\n",
       "      <td>2.000000</td>\n",
       "      <td>1.000000</td>\n",
       "      <td>1.000000</td>\n",
       "      <td>66.000000</td>\n",
       "      <td>70.000000</td>\n",
       "      <td>69.000000</td>\n",
       "    </tr>\n",
       "    <tr>\n",
       "      <th>75%</th>\n",
       "      <td>1.000000</td>\n",
       "      <td>3.000000</td>\n",
       "      <td>4.000000</td>\n",
       "      <td>1.000000</td>\n",
       "      <td>1.000000</td>\n",
       "      <td>77.000000</td>\n",
       "      <td>79.000000</td>\n",
       "      <td>79.000000</td>\n",
       "    </tr>\n",
       "    <tr>\n",
       "      <th>max</th>\n",
       "      <td>1.000000</td>\n",
       "      <td>4.000000</td>\n",
       "      <td>5.000000</td>\n",
       "      <td>1.000000</td>\n",
       "      <td>1.000000</td>\n",
       "      <td>100.000000</td>\n",
       "      <td>100.000000</td>\n",
       "      <td>100.000000</td>\n",
       "    </tr>\n",
       "  </tbody>\n",
       "</table>\n",
       "</div>"
      ],
      "text/plain": [
       "           gender  race/ethnicity  parental level of education       lunch  \\\n",
       "count  994.000000      994.000000                   994.000000  994.000000   \n",
       "mean     0.477867        2.177062                     2.477867    0.649899   \n",
       "std      0.499761        1.155937                     1.829052    0.477241   \n",
       "min      0.000000        0.000000                     0.000000    0.000000   \n",
       "25%      0.000000        1.000000                     1.000000    0.000000   \n",
       "50%      0.000000        2.000000                     2.000000    1.000000   \n",
       "75%      1.000000        3.000000                     4.000000    1.000000   \n",
       "max      1.000000        4.000000                     5.000000    1.000000   \n",
       "\n",
       "       test preparation course  math score  reading score  writing score  \n",
       "count               994.000000  994.000000     994.000000     994.000000  \n",
       "mean                  0.641851   66.381288      69.425553      68.380282  \n",
       "std                   0.479698   14.782426      14.176381      14.783917  \n",
       "min                   0.000000   18.000000      29.000000      27.000000  \n",
       "25%                   0.000000   57.000000      60.000000      58.000000  \n",
       "50%                   1.000000   66.000000      70.000000      69.000000  \n",
       "75%                   1.000000   77.000000      79.000000      79.000000  \n",
       "max                   1.000000  100.000000     100.000000     100.000000  "
      ]
     },
     "execution_count": 1308,
     "metadata": {},
     "output_type": "execute_result"
    }
   ],
   "source": [
    "df_cleaned.describe()"
   ]
  },
  {
   "cell_type": "code",
   "execution_count": null,
   "id": "c3708777-604d-4954-be7e-f9ad658a6d05",
   "metadata": {},
   "outputs": [],
   "source": []
  },
  {
   "cell_type": "markdown",
   "id": "5d08bf8c-16e4-4ce4-82c8-25edc0d4936b",
   "metadata": {},
   "source": [
    "## 7. Scaling"
   ]
  },
  {
   "cell_type": "markdown",
   "id": "8c9ba07e-cdef-4c23-8892-5d16f529c980",
   "metadata": {},
   "source": [
    "### 7.1 MinMaxScaler"
   ]
  },
  {
   "cell_type": "code",
   "execution_count": 1309,
   "id": "517dd4a3-7464-428d-b0c7-8e40ba340a3e",
   "metadata": {},
   "outputs": [],
   "source": [
    "from scipy.stats import zscore\n",
    "df['z_score'] = zscore(df['reading score'])\n",
    "threshold = 3\n",
    "df_cleaned = df[np.abs(df['z_score']) <= threshold]"
   ]
  },
  {
   "cell_type": "code",
   "execution_count": 1310,
   "id": "8f40dc66-d54d-4765-a384-3748685bfa47",
   "metadata": {},
   "outputs": [
    {
     "name": "stdout",
     "output_type": "stream",
     "text": [
      "    z_score  zscore_minmax\n",
      "0  0.195615       0.662651\n",
      "1  1.431509       0.879518\n",
      "2  1.774814       0.939759\n",
      "3 -0.834298       0.481928\n",
      "4  0.607580       0.734940\n"
     ]
    }
   ],
   "source": [
    "from sklearn.preprocessing import MinMaxScaler,StandardScaler,RobustScaler\n",
    "mscaler=MinMaxScaler()\n",
    "\n",
    "df['zscore_minmax']=mscaler.fit_transform(df[['z_score']])\n",
    "print(df[['z_score', 'zscore_minmax']].head())"
   ]
  },
  {
   "cell_type": "markdown",
   "id": "bb009d87-4d4b-4dbe-80cb-d7f58b3c49a0",
   "metadata": {},
   "source": [
    "### 7.2 StandardScaler"
   ]
  },
  {
   "cell_type": "code",
   "execution_count": 1311,
   "id": "3f9189bf-0358-4d57-a6cb-468e0326b063",
   "metadata": {},
   "outputs": [
    {
     "name": "stdout",
     "output_type": "stream",
     "text": [
      "    z_score  zscore_std\n",
      "0  0.195615    0.195615\n",
      "1  1.431509    1.431509\n",
      "2  1.774814    1.774814\n",
      "3 -0.834298   -0.834298\n",
      "4  0.607580    0.607580\n"
     ]
    }
   ],
   "source": [
    "sscaler=StandardScaler()\n",
    "\n",
    "df['zscore_std']=sscaler.fit_transform(df[['z_score']])\n",
    "print(df[['z_score','zscore_std']].head())"
   ]
  },
  {
   "cell_type": "markdown",
   "id": "7e04508f-874b-485b-aa36-f4556ebfb393",
   "metadata": {},
   "source": [
    "### 7.3 RobustScaler"
   ]
  },
  {
   "cell_type": "code",
   "execution_count": 1312,
   "id": "189d4aff-728e-4798-bb34-c413d36a4e01",
   "metadata": {},
   "outputs": [
    {
     "name": "stdout",
     "output_type": "stream",
     "text": [
      "    z_score  zscore_robust\n",
      "0  0.195615           0.10\n",
      "1  1.431509           1.00\n",
      "2  1.774814           1.25\n",
      "3 -0.834298          -0.65\n",
      "4  0.607580           0.40\n"
     ]
    }
   ],
   "source": [
    "scaler = RobustScaler()\n",
    "\n",
    "df['zscore_robust'] = scaler.fit_transform(df[['z_score']])\n",
    "print(df[['z_score', 'zscore_robust']].head())\n"
   ]
  },
  {
   "cell_type": "code",
   "execution_count": 1313,
   "id": "f5922524-ee11-411d-b3e6-2d7b17611ade",
   "metadata": {},
   "outputs": [],
   "source": [
    "s1=df['zscore_minmax'].skew()\n",
    "s2=df['zscore_minmax'].skew()\n",
    "s3=df['zscore_robust'].skew()"
   ]
  },
  {
   "cell_type": "code",
   "execution_count": 1314,
   "id": "04c9b344-7af8-4f34-9409-6d3cf88a4884",
   "metadata": {},
   "outputs": [
    {
     "name": "stdout",
     "output_type": "stream",
     "text": [
      "-0.26071328140218775\n",
      "-0.26071328140218775\n",
      "-0.26071328140218863\n"
     ]
    }
   ],
   "source": [
    "print(s1)\n",
    "print(s2)\n",
    "print(s3)"
   ]
  },
  {
   "cell_type": "raw",
   "id": "f92aaec2-85e9-4c70-91d4-7acc67927390",
   "metadata": {},
   "source": [
    "Min-Max Scaling\t\n",
    "\n",
    "When you need features in a specific range (0-1) and no outliers.\t\n",
    "Neural Networks, KNN, when range is critical.\n",
    "no extreme outliers\n",
    "\n",
    "Standard Scaling\t\n",
    "When features need to have a mean of 0 and standard deviation of 1.\t\n",
    "Algorithms that assume normal distribution -SVM, Linear,Logistic Regression,etc\n",
    "\n",
    "Robust Scaling\t\n",
    "When your data contains outliers or is not normally distributed.\t\n",
    "Data with outliers, skewed distributions.Decision Trees or Random Forests"
   ]
  },
  {
   "cell_type": "code",
   "execution_count": null,
   "id": "f977e480-5e30-4c70-9f3f-0f97963a8b87",
   "metadata": {},
   "outputs": [],
   "source": []
  },
  {
   "cell_type": "code",
   "execution_count": null,
   "id": "6c5140bb-a636-40bc-b39b-9d66d77245ea",
   "metadata": {},
   "outputs": [],
   "source": []
  }
 ],
 "metadata": {
  "kernelspec": {
   "display_name": "Python 3 (ipykernel)",
   "language": "python",
   "name": "python3"
  },
  "language_info": {
   "codemirror_mode": {
    "name": "ipython",
    "version": 3
   },
   "file_extension": ".py",
   "mimetype": "text/x-python",
   "name": "python",
   "nbconvert_exporter": "python",
   "pygments_lexer": "ipython3",
   "version": "3.12.4"
  }
 },
 "nbformat": 4,
 "nbformat_minor": 5
}
