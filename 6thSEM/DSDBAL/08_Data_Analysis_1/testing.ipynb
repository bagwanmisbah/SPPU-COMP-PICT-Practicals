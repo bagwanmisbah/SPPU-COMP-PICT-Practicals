{
 "cells": [
  {
   "cell_type": "code",
   "execution_count": 23,
   "id": "5ad9ccd7-56e7-48ff-8708-ec06c3d6ae77",
   "metadata": {},
   "outputs": [],
   "source": [
    "import numpy as np\n",
    "import pandas as pd\n",
    "import seaborn as sns\n",
    "import matplotlib.pyplot as plt"
   ]
  },
  {
   "cell_type": "code",
   "execution_count": 24,
   "id": "919ad39d-2455-483e-b7d7-4e3322e27e40",
   "metadata": {},
   "outputs": [],
   "source": [
    "df=pd.read_csv('data_boston_housing.csv')"
   ]
  },
  {
   "cell_type": "markdown",
   "id": "5b86e897-9cea-47c8-bb9d-bac044545b81",
   "metadata": {},
   "source": [
    "## Step 1: Train  Model With Outliers"
   ]
  },
  {
   "cell_type": "code",
   "execution_count": 13,
   "id": "c184f68d-de53-4594-b596-2f7d823049b2",
   "metadata": {},
   "outputs": [
    {
     "name": "stdout",
     "output_type": "stream",
     "text": [
      "Before Removing Outliers:\n",
      "MSE: 24.291119474973478\n",
      "MAE: 3.1890919658878416\n",
      "R2 Score: 0.6687594935356326\n"
     ]
    }
   ],
   "source": [
    "from sklearn.model_selection import train_test_split\n",
    "from sklearn.linear_model import LinearRegression\n",
    "from sklearn.metrics import mean_absolute_error, mean_squared_error, r2_score\n",
    "\n",
    "# Splitting data into train and test sets\n",
    "X = df.drop(columns=['medv'])  # Independent variables\n",
    "y = df['medv']  # Target variable\n",
    "\n",
    "X_train, X_test, y_train, y_test = train_test_split(X, y, test_size=0.2, random_state=42)\n",
    "\n",
    "# Train model\n",
    "model = LinearRegression()\n",
    "model.fit(X_train, y_train)\n",
    "\n",
    "# Predictions\n",
    "y_pred = model.predict(X_test)\n",
    "\n",
    "# Model performance\n",
    "mse_before = mean_squared_error(y_test, y_pred)\n",
    "mae_before = mean_absolute_error(y_test, y_pred)\n",
    "r2_before = r2_score(y_test, y_pred)\n",
    "\n",
    "print(\"Before Removing Outliers:\")\n",
    "print(\"MSE:\", mse_before)\n",
    "print(\"MAE:\", mae_before)\n",
    "print(\"R2 Score:\", r2_before)\n"
   ]
  },
  {
   "cell_type": "markdown",
   "id": "4f0b7670-0c26-4d0b-92e0-242e519be929",
   "metadata": {},
   "source": [
    "## Step 2: Remove Outliers Using IQR (Interquartile Range)"
   ]
  },
  {
   "cell_type": "code",
   "execution_count": 14,
   "id": "75cbc5ac-3bfa-409b-b44a-2419735c5d02",
   "metadata": {},
   "outputs": [
    {
     "name": "stdout",
     "output_type": "stream",
     "text": [
      "Before Scaling (Original Data):\n",
      "       crim    zn  indus  chas    nox     rm   age     dis  rad  tax  ptratio  \\\n",
      "0  0.00632  18.0   2.31     0  0.538  6.575  65.2  4.0900    1  296     15.3   \n",
      "1  0.02731   0.0   7.07     0  0.469  6.421  78.9  4.9671    2  242     17.8   \n",
      "2  0.02729   0.0   7.07     0  0.469  7.185  61.1  4.9671    2  242     17.8   \n",
      "3  0.03237   0.0   2.18     0  0.458  6.998  45.8  6.0622    3  222     18.7   \n",
      "4  0.06905   0.0   2.18     0  0.458  7.147  54.2  6.0622    3  222     18.7   \n",
      "\n",
      "        b  lstat  \n",
      "0  396.90   4.98  \n",
      "1  396.90   9.14  \n",
      "2  392.83   4.03  \n",
      "3  394.63   2.94  \n",
      "4  396.90   5.33  \n",
      "\n",
      "After Standardization:\n",
      " [[-0.41978194  0.28482986 -1.2879095  -0.27259857 -0.14421743  0.41367189\n",
      "  -0.12001342  0.1402136  -0.98284286 -0.66660821 -1.45900038  0.44105193\n",
      "  -1.0755623 ]\n",
      " [-0.41733926 -0.48772236 -0.59338101 -0.27259857 -0.74026221  0.19427445\n",
      "   0.36716642  0.55715988 -0.8678825  -0.98732948 -0.30309415  0.44105193\n",
      "  -0.49243937]\n",
      " [-0.41734159 -0.48772236 -0.59338101 -0.27259857 -0.74026221  1.28271368\n",
      "  -0.26581176  0.55715988 -0.8678825  -0.98732948 -0.30309415  0.39642699\n",
      "  -1.2087274 ]\n",
      " [-0.41675042 -0.48772236 -1.30687771 -0.27259857 -0.83528384  1.01630251\n",
      "  -0.80988851  1.07773662 -0.75292215 -1.10611514  0.1130321   0.41616284\n",
      "  -1.36151682]\n",
      " [-0.41248185 -0.48772236 -1.30687771 -0.27259857 -0.83528384  1.22857665\n",
      "  -0.51117971  1.07773662 -0.75292215 -1.10611514  0.1130321   0.44105193\n",
      "  -1.02650148]]\n",
      "\n",
      "After Min-Max Scaling:\n",
      " [[0.00000000e+00 1.80000000e-01 6.78152493e-02 0.00000000e+00\n",
      "  3.14814815e-01 5.77505269e-01 6.41606591e-01 2.69203139e-01\n",
      "  0.00000000e+00 2.08015267e-01 2.87234043e-01 1.00000000e+00\n",
      "  8.96799117e-02]\n",
      " [2.35922539e-04 0.00000000e+00 2.42302053e-01 0.00000000e+00\n",
      "  1.72839506e-01 5.47997701e-01 7.82698249e-01 3.48961980e-01\n",
      "  4.34782609e-02 1.04961832e-01 5.53191489e-01 1.00000000e+00\n",
      "  2.04470199e-01]\n",
      " [2.35697744e-04 0.00000000e+00 2.42302053e-01 0.00000000e+00\n",
      "  1.72839506e-01 6.94385898e-01 5.99382080e-01 3.48961980e-01\n",
      "  4.34782609e-02 1.04961832e-01 5.53191489e-01 9.89737254e-01\n",
      "  6.34657837e-02]\n",
      " [2.92795719e-04 0.00000000e+00 6.30498534e-02 0.00000000e+00\n",
      "  1.50205761e-01 6.58555279e-01 4.41812564e-01 4.48544590e-01\n",
      "  8.69565217e-02 6.67938931e-02 6.48936170e-01 9.94276060e-01\n",
      "  3.33885210e-02]\n",
      " [7.05070075e-04 0.00000000e+00 6.30498534e-02 0.00000000e+00\n",
      "  1.50205761e-01 6.87104809e-01 5.28321318e-01 4.48544590e-01\n",
      "  8.69565217e-02 6.67938931e-02 6.48936170e-01 1.00000000e+00\n",
      "  9.93377483e-02]]\n"
     ]
    }
   ],
   "source": [
    "from sklearn.preprocessing import StandardScaler, MinMaxScaler\n",
    "\n",
    "# Selecting features (excluding target variable 'medv')\n",
    "X = df.drop(columns=['medv'])\n",
    "y = df['medv']\n",
    "\n",
    "# Standardization (Z-score)\n",
    "scaler_std = StandardScaler()\n",
    "X_std = scaler_std.fit_transform(X)\n",
    "\n",
    "# Min-Max Scaling (0 to 1)\n",
    "scaler_minmax = MinMaxScaler()\n",
    "X_minmax = scaler_minmax.fit_transform(X)\n",
    "\n",
    "# Print before & after scaling\n",
    "print(\"Before Scaling (Original Data):\\n\", X.head())\n",
    "print(\"\\nAfter Standardization:\\n\", X_std[:5])\n",
    "print(\"\\nAfter Min-Max Scaling:\\n\", X_minmax[:5])\n"
   ]
  },
  {
   "cell_type": "code",
   "execution_count": 19,
   "id": "201dfa2d-7abc-4601-9c75-bd9826c3baf6",
   "metadata": {},
   "outputs": [
    {
     "name": "stdout",
     "output_type": "stream",
     "text": [
      "Before Scaling (Original Data):\n",
      "       crim    zn  indus  chas    nox     rm   age     dis  rad  tax  ptratio  \\\n",
      "0  0.00632  18.0   2.31     0  0.538  6.575  65.2  4.0900    1  296     15.3   \n",
      "1  0.02731   0.0   7.07     0  0.469  6.421  78.9  4.9671    2  242     17.8   \n",
      "2  0.02729   0.0   7.07     0  0.469  7.185  61.1  4.9671    2  242     17.8   \n",
      "3  0.03237   0.0   2.18     0  0.458  6.998  45.8  6.0622    3  222     18.7   \n",
      "4  0.06905   0.0   2.18     0  0.458  7.147  54.2  6.0622    3  222     18.7   \n",
      "\n",
      "        b  lstat  \n",
      "0  396.90   4.98  \n",
      "1  396.90   9.14  \n",
      "2  392.83   4.03  \n",
      "3  394.63   2.94  \n",
      "4  396.90   5.33  \n",
      "\n",
      "After Min-Max Scaling:\n",
      "        crim    zn     indus  chas       nox        rm       age       dis  \\\n",
      "0  0.000000  0.18  0.067815   0.0  0.314815  0.577505  0.641607  0.269203   \n",
      "1  0.000236  0.00  0.242302   0.0  0.172840  0.547998  0.782698  0.348962   \n",
      "2  0.000236  0.00  0.242302   0.0  0.172840  0.694386  0.599382  0.348962   \n",
      "3  0.000293  0.00  0.063050   0.0  0.150206  0.658555  0.441813  0.448545   \n",
      "4  0.000705  0.00  0.063050   0.0  0.150206  0.687105  0.528321  0.448545   \n",
      "\n",
      "        rad       tax   ptratio         b     lstat  \n",
      "0  0.000000  0.208015  0.287234  1.000000  0.089680  \n",
      "1  0.043478  0.104962  0.553191  1.000000  0.204470  \n",
      "2  0.043478  0.104962  0.553191  0.989737  0.063466  \n",
      "3  0.086957  0.066794  0.648936  0.994276  0.033389  \n",
      "4  0.086957  0.066794  0.648936  1.000000  0.099338  \n"
     ]
    }
   ],
   "source": [
    "from sklearn.preprocessing import MinMaxScaler\n",
    "import pandas as pd\n",
    "\n",
    "# Assume df is your dataset and 'medv' is the target variable\n",
    "X = df.drop(columns=['medv'])  # Features (dropping target column)\n",
    "y = df['medv']  # Target variable\n",
    "\n",
    "# Initialize MinMaxScaler\n",
    "scaler = MinMaxScaler()\n",
    "\n",
    "# Fit and transform the features\n",
    "X_scaled = scaler.fit_transform(X)\n",
    "\n",
    "# Convert back to DataFrame with original column names\n",
    "X_scaled_df = pd.DataFrame(X_scaled, columns=X.columns)\n",
    "\n",
    "# Print before & after scaling to compare\n",
    "print(\"Before Scaling (Original Data):\\n\", X.head())\n",
    "print(\"\\nAfter Min-Max Scaling:\\n\", X_scaled_df.head())\n",
    "\n",
    "df_cleaned=X_scaled_df\n"
   ]
  },
  {
   "cell_type": "code",
   "execution_count": null,
   "id": "78f3f676-8151-420d-bd12-1159e994c67c",
   "metadata": {},
   "outputs": [],
   "source": []
  },
  {
   "cell_type": "code",
   "execution_count": 20,
   "id": "b623f958-be81-410f-8648-bdc0b1c1c54c",
   "metadata": {},
   "outputs": [
    {
     "name": "stdout",
     "output_type": "stream",
     "text": [
      "Before removing outliers: (506, 14)\n",
      "After removing outliers: (268, 14)\n"
     ]
    }
   ],
   "source": [
    "import numpy as np\n",
    "\n",
    "# Function to remove outliers using IQR\n",
    "def remove_outliers_iqr(data):\n",
    "    Q1 = data.quantile(0.25)  # 25th percentile\n",
    "    Q3 = data.quantile(0.75)  # 75th percentile\n",
    "    IQR = Q3 - Q1  # Interquartile range\n",
    "\n",
    "    lower_bound = Q1 - 1.5 * IQR\n",
    "    upper_bound = Q3 + 1.5 * IQR\n",
    "\n",
    "    return data[~((data < lower_bound) | (data > upper_bound)).any(axis=1)]  # Remove outliers\n",
    "\n",
    "# Apply to dataset\n",
    "df_cleaned = remove_outliers_iqr(df)\n",
    "\n",
    "print(\"Before removing outliers:\", df.shape)\n",
    "print(\"After removing outliers:\", df_cleaned.shape)\n"
   ]
  },
  {
   "cell_type": "markdown",
   "id": "25a8773b-0c41-4d1b-bb21-916b9d104930",
   "metadata": {},
   "source": [
    "## Step 3: Train Model Without Outliers"
   ]
  },
  {
   "cell_type": "code",
   "execution_count": 21,
   "id": "4c01d4e2-2294-4bde-8c8f-7e78166d013b",
   "metadata": {},
   "outputs": [
    {
     "name": "stdout",
     "output_type": "stream",
     "text": [
      "After Removing Outliers:\n",
      "MSE: 3.7281318839818365\n",
      "MAE: 1.5151583031541935\n",
      "R2 Score: 0.7830668323108957\n"
     ]
    }
   ],
   "source": [
    "# Splitting cleaned data\n",
    "X_cleaned = df_cleaned.drop(columns=['medv'])\n",
    "y_cleaned = df_cleaned['medv']\n",
    "\n",
    "X_train_c, X_test_c, y_train_c, y_test_c = train_test_split(X_cleaned, y_cleaned, test_size=0.2, random_state=42)\n",
    "\n",
    "# Train model again\n",
    "model.fit(X_train_c, y_train_c)\n",
    "y_pred_c = model.predict(X_test_c)\n",
    "\n",
    "# New performance metrics\n",
    "mse_after = mean_squared_error(y_test_c, y_pred_c)\n",
    "mae_after = mean_absolute_error(y_test_c, y_pred_c)\n",
    "r2_after = r2_score(y_test_c, y_pred_c)\n",
    "\n",
    "print(\"After Removing Outliers:\")\n",
    "print(\"MSE:\", mse_after)\n",
    "print(\"MAE:\", mae_after)\n",
    "print(\"R2 Score:\", r2_after)\n"
   ]
  },
  {
   "cell_type": "markdown",
   "id": "df635e76-10ae-4e22-b7f4-07c19a989822",
   "metadata": {},
   "source": [
    "## Step 4: Compare Before vs. After"
   ]
  },
  {
   "cell_type": "code",
   "execution_count": 22,
   "id": "dab3b82f-d906-4114-ba1a-9c2d9e3b9d0e",
   "metadata": {},
   "outputs": [
    {
     "name": "stdout",
     "output_type": "stream",
     "text": [
      "\n",
      "📊 Accuracy Comparison:\n",
      "MSE Before: 24.29  |  MSE After: 3.73\n",
      "MAE Before: 3.19  |  MAE After: 1.52\n",
      "R2 Before: 0.67  |  R2 After: 0.78\n"
     ]
    }
   ],
   "source": [
    "print(\"\\n📊 Accuracy Comparison:\")\n",
    "print(f\"MSE Before: {mse_before:.2f}  |  MSE After: {mse_after:.2f}\")\n",
    "print(f\"MAE Before: {mae_before:.2f}  |  MAE After: {mae_after:.2f}\")\n",
    "print(f\"R2 Before: {r2_before:.2f}  |  R2 After: {r2_after:.2f}\")\n"
   ]
  },
  {
   "cell_type": "markdown",
   "id": "92f08bf7-8589-4753-99a5-dab43823d8c6",
   "metadata": {},
   "source": [
    " ### Conclusion:\n",
    " ### If MSE & MAE Decrease, and R² Increases, removing outliers improved the model.\n",
    "\n",
    " ### If MSE & MAE Increase, and R² Decreases, outliers helped the model and shouldn’t be removed."
   ]
  },
  {
   "cell_type": "code",
   "execution_count": null,
   "id": "814ebbd0-5515-4e44-83d3-e88a78906948",
   "metadata": {},
   "outputs": [],
   "source": []
  }
 ],
 "metadata": {
  "kernelspec": {
   "display_name": "Python 3 (ipykernel)",
   "language": "python",
   "name": "python3"
  },
  "language_info": {
   "codemirror_mode": {
    "name": "ipython",
    "version": 3
   },
   "file_extension": ".py",
   "mimetype": "text/x-python",
   "name": "python",
   "nbconvert_exporter": "python",
   "pygments_lexer": "ipython3",
   "version": "3.12.4"
  }
 },
 "nbformat": 4,
 "nbformat_minor": 5
}
